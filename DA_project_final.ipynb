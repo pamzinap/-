{
  "nbformat": 4,
  "nbformat_minor": 0,
  "metadata": {
    "colab": {
      "provenance": [],
      "collapsed_sections": [
        "XrokD6kwQ3Dl",
        "zrPSbNySX0ax",
        "_5wtm8zlADPO"
      ]
    },
    "kernelspec": {
      "name": "python3",
      "display_name": "Python 3"
    },
    "language_info": {
      "name": "python"
    }
  },
  "cells": [
    {
      "cell_type": "markdown",
      "source": [
        "# **Проект**\n",
        "# **Анализ каталога вин интернет-магазина SimpleWine**\n",
        "*Выполнили: Амзина Полина и Ким Ми Ра*"
      ],
      "metadata": {
        "id": "IKkvre2a9yRV"
      }
    },
    {
      "cell_type": "code",
      "source": [
        "import numpy as np\n",
        "import pandas as pd\n",
        "import scipy.stats as sts\n",
        "import matplotlib.pyplot as plt\n",
        "import seaborn as sns"
      ],
      "metadata": {
        "id": "dVcqBhPr97co"
      },
      "execution_count": 1,
      "outputs": []
    },
    {
      "cell_type": "markdown",
      "source": [
        "## Шаг 1: выбор темы\n"
      ],
      "metadata": {
        "id": "8ngYyCKS_CD0"
      }
    },
    {
      "cell_type": "markdown",
      "source": [
        "Изначально мы планировали выполнить проект по прогнозированию количества скачиваний приложений с сервисов applestore и googlestore. К сожалению, мы столкнулись с проблемой однообразия данных в готовых датасетах (планировалось объединить несколько) и малой их дифференциацией, в связи с чем было принято решение сменить тему.\n",
        "\n",
        "В данном проекте мы будем исследовать каталог вин магазина SimpleWine."
      ],
      "metadata": {
        "id": "u_ytP__Y94MA"
      }
    },
    {
      "cell_type": "markdown",
      "source": [
        "## Шаг 2: сбор данных"
      ],
      "metadata": {
        "id": "tsxFUAv3_It9"
      }
    },
    {
      "cell_type": "markdown",
      "source": [
        "Сперва нам было необходимо собрать данные с сайта simplewine.ru. Парсинг описан в файле parsing.ipynb. Собранные данные лежат в data.csv. Данные загружаем из этого файла."
      ],
      "metadata": {
        "id": "aU8Asy05C57e"
      }
    },
    {
      "cell_type": "markdown",
      "source": [
        "## Шаг 3: предварительная обработка"
      ],
      "metadata": {
        "id": "-RhVOAe-Z25f"
      }
    },
    {
      "cell_type": "code",
      "source": [
        "df = pd.read_csv('data.csv', on_bad_lines='skip')\n",
        "print(df.shape)\n",
        "df.head()"
      ],
      "metadata": {
        "colab": {
          "base_uri": "https://localhost:8080/",
          "height": 224
        },
        "outputId": "ed8cbae3-f687-4fb1-9f43-9fa345df2c87",
        "id": "eB4IQmOdZ26b"
      },
      "execution_count": 2,
      "outputs": [
        {
          "output_type": "stream",
          "name": "stdout",
          "text": [
            "(5571, 10)\n"
          ]
        },
        {
          "output_type": "execute_result",
          "data": {
            "text/plain": [
              "                                  name       country    color      sugar  \\\n",
              "0                    Shiraz Mr Borio's  Южная Африка  красное      сухое   \n",
              "1       Gavi dei Gavi (Etichetta Nera)        Италия    белое      сухое   \n",
              "2  Красностоп Золотовский на Террасах         Россия  красное      сухое   \n",
              "3                Vermentino di Toscana        Италия    белое      сухое   \n",
              "4                            Pfefferer        Италия    белое  полусухое   \n",
              "\n",
              "    volume        manufacturer                 region               grape  \\\n",
              "0  0.75 л.            Simonsig             Стелленбош          шираз 100%   \n",
              "1  0.75 л.           La Scolca                Пьемонт        кортезе 100%   \n",
              "2  0.75 л.              Сикоры                 Кубань     красностоп 100%   \n",
              "3  0.75 л.  Fattoria del Cerro                Тоскана          верментино   \n",
              "4  0.75 л.         Colterenzio  Трентино-Альто Адидже  мускат желтый 100%   \n",
              "\n",
              "      year  price  \n",
              "0  2020 г.  2 990  \n",
              "1  2022 г.  5 990  \n",
              "2  2018 г.  5 490  \n",
              "3  2022 г.  2 490  \n",
              "4  2023 г.  2 490  "
            ],
            "text/html": [
              "\n",
              "  <div id=\"df-bb8d5169-096c-41e9-a76b-620ee3be016e\" class=\"colab-df-container\">\n",
              "    <div>\n",
              "<style scoped>\n",
              "    .dataframe tbody tr th:only-of-type {\n",
              "        vertical-align: middle;\n",
              "    }\n",
              "\n",
              "    .dataframe tbody tr th {\n",
              "        vertical-align: top;\n",
              "    }\n",
              "\n",
              "    .dataframe thead th {\n",
              "        text-align: right;\n",
              "    }\n",
              "</style>\n",
              "<table border=\"1\" class=\"dataframe\">\n",
              "  <thead>\n",
              "    <tr style=\"text-align: right;\">\n",
              "      <th></th>\n",
              "      <th>name</th>\n",
              "      <th>country</th>\n",
              "      <th>color</th>\n",
              "      <th>sugar</th>\n",
              "      <th>volume</th>\n",
              "      <th>manufacturer</th>\n",
              "      <th>region</th>\n",
              "      <th>grape</th>\n",
              "      <th>year</th>\n",
              "      <th>price</th>\n",
              "    </tr>\n",
              "  </thead>\n",
              "  <tbody>\n",
              "    <tr>\n",
              "      <th>0</th>\n",
              "      <td>Shiraz Mr Borio's</td>\n",
              "      <td>Южная Африка</td>\n",
              "      <td>красное</td>\n",
              "      <td>сухое</td>\n",
              "      <td>0.75 л.</td>\n",
              "      <td>Simonsig</td>\n",
              "      <td>Стелленбош</td>\n",
              "      <td>шираз 100%</td>\n",
              "      <td>2020 г.</td>\n",
              "      <td>2 990</td>\n",
              "    </tr>\n",
              "    <tr>\n",
              "      <th>1</th>\n",
              "      <td>Gavi dei Gavi (Etichetta Nera)</td>\n",
              "      <td>Италия</td>\n",
              "      <td>белое</td>\n",
              "      <td>сухое</td>\n",
              "      <td>0.75 л.</td>\n",
              "      <td>La Scolca</td>\n",
              "      <td>Пьемонт</td>\n",
              "      <td>кортезе 100%</td>\n",
              "      <td>2022 г.</td>\n",
              "      <td>5 990</td>\n",
              "    </tr>\n",
              "    <tr>\n",
              "      <th>2</th>\n",
              "      <td>Красностоп Золотовский на Террасах</td>\n",
              "      <td>Россия</td>\n",
              "      <td>красное</td>\n",
              "      <td>сухое</td>\n",
              "      <td>0.75 л.</td>\n",
              "      <td>Сикоры</td>\n",
              "      <td>Кубань</td>\n",
              "      <td>красностоп 100%</td>\n",
              "      <td>2018 г.</td>\n",
              "      <td>5 490</td>\n",
              "    </tr>\n",
              "    <tr>\n",
              "      <th>3</th>\n",
              "      <td>Vermentino di Toscana</td>\n",
              "      <td>Италия</td>\n",
              "      <td>белое</td>\n",
              "      <td>сухое</td>\n",
              "      <td>0.75 л.</td>\n",
              "      <td>Fattoria del Cerro</td>\n",
              "      <td>Тоскана</td>\n",
              "      <td>верментино</td>\n",
              "      <td>2022 г.</td>\n",
              "      <td>2 490</td>\n",
              "    </tr>\n",
              "    <tr>\n",
              "      <th>4</th>\n",
              "      <td>Pfefferer</td>\n",
              "      <td>Италия</td>\n",
              "      <td>белое</td>\n",
              "      <td>полусухое</td>\n",
              "      <td>0.75 л.</td>\n",
              "      <td>Colterenzio</td>\n",
              "      <td>Трентино-Альто Адидже</td>\n",
              "      <td>мускат желтый 100%</td>\n",
              "      <td>2023 г.</td>\n",
              "      <td>2 490</td>\n",
              "    </tr>\n",
              "  </tbody>\n",
              "</table>\n",
              "</div>\n",
              "    <div class=\"colab-df-buttons\">\n",
              "\n",
              "  <div class=\"colab-df-container\">\n",
              "    <button class=\"colab-df-convert\" onclick=\"convertToInteractive('df-bb8d5169-096c-41e9-a76b-620ee3be016e')\"\n",
              "            title=\"Convert this dataframe to an interactive table.\"\n",
              "            style=\"display:none;\">\n",
              "\n",
              "  <svg xmlns=\"http://www.w3.org/2000/svg\" height=\"24px\" viewBox=\"0 -960 960 960\">\n",
              "    <path d=\"M120-120v-720h720v720H120Zm60-500h600v-160H180v160Zm220 220h160v-160H400v160Zm0 220h160v-160H400v160ZM180-400h160v-160H180v160Zm440 0h160v-160H620v160ZM180-180h160v-160H180v160Zm440 0h160v-160H620v160Z\"/>\n",
              "  </svg>\n",
              "    </button>\n",
              "\n",
              "  <style>\n",
              "    .colab-df-container {\n",
              "      display:flex;\n",
              "      gap: 12px;\n",
              "    }\n",
              "\n",
              "    .colab-df-convert {\n",
              "      background-color: #E8F0FE;\n",
              "      border: none;\n",
              "      border-radius: 50%;\n",
              "      cursor: pointer;\n",
              "      display: none;\n",
              "      fill: #1967D2;\n",
              "      height: 32px;\n",
              "      padding: 0 0 0 0;\n",
              "      width: 32px;\n",
              "    }\n",
              "\n",
              "    .colab-df-convert:hover {\n",
              "      background-color: #E2EBFA;\n",
              "      box-shadow: 0px 1px 2px rgba(60, 64, 67, 0.3), 0px 1px 3px 1px rgba(60, 64, 67, 0.15);\n",
              "      fill: #174EA6;\n",
              "    }\n",
              "\n",
              "    .colab-df-buttons div {\n",
              "      margin-bottom: 4px;\n",
              "    }\n",
              "\n",
              "    [theme=dark] .colab-df-convert {\n",
              "      background-color: #3B4455;\n",
              "      fill: #D2E3FC;\n",
              "    }\n",
              "\n",
              "    [theme=dark] .colab-df-convert:hover {\n",
              "      background-color: #434B5C;\n",
              "      box-shadow: 0px 1px 3px 1px rgba(0, 0, 0, 0.15);\n",
              "      filter: drop-shadow(0px 1px 2px rgba(0, 0, 0, 0.3));\n",
              "      fill: #FFFFFF;\n",
              "    }\n",
              "  </style>\n",
              "\n",
              "    <script>\n",
              "      const buttonEl =\n",
              "        document.querySelector('#df-bb8d5169-096c-41e9-a76b-620ee3be016e button.colab-df-convert');\n",
              "      buttonEl.style.display =\n",
              "        google.colab.kernel.accessAllowed ? 'block' : 'none';\n",
              "\n",
              "      async function convertToInteractive(key) {\n",
              "        const element = document.querySelector('#df-bb8d5169-096c-41e9-a76b-620ee3be016e');\n",
              "        const dataTable =\n",
              "          await google.colab.kernel.invokeFunction('convertToInteractive',\n",
              "                                                    [key], {});\n",
              "        if (!dataTable) return;\n",
              "\n",
              "        const docLinkHtml = 'Like what you see? Visit the ' +\n",
              "          '<a target=\"_blank\" href=https://colab.research.google.com/notebooks/data_table.ipynb>data table notebook</a>'\n",
              "          + ' to learn more about interactive tables.';\n",
              "        element.innerHTML = '';\n",
              "        dataTable['output_type'] = 'display_data';\n",
              "        await google.colab.output.renderOutput(dataTable, element);\n",
              "        const docLink = document.createElement('div');\n",
              "        docLink.innerHTML = docLinkHtml;\n",
              "        element.appendChild(docLink);\n",
              "      }\n",
              "    </script>\n",
              "  </div>\n",
              "\n",
              "\n",
              "<div id=\"df-811eae55-35f6-4bad-9c04-a1104aa3dd8d\">\n",
              "  <button class=\"colab-df-quickchart\" onclick=\"quickchart('df-811eae55-35f6-4bad-9c04-a1104aa3dd8d')\"\n",
              "            title=\"Suggest charts\"\n",
              "            style=\"display:none;\">\n",
              "\n",
              "<svg xmlns=\"http://www.w3.org/2000/svg\" height=\"24px\"viewBox=\"0 0 24 24\"\n",
              "     width=\"24px\">\n",
              "    <g>\n",
              "        <path d=\"M19 3H5c-1.1 0-2 .9-2 2v14c0 1.1.9 2 2 2h14c1.1 0 2-.9 2-2V5c0-1.1-.9-2-2-2zM9 17H7v-7h2v7zm4 0h-2V7h2v10zm4 0h-2v-4h2v4z\"/>\n",
              "    </g>\n",
              "</svg>\n",
              "  </button>\n",
              "\n",
              "<style>\n",
              "  .colab-df-quickchart {\n",
              "      --bg-color: #E8F0FE;\n",
              "      --fill-color: #1967D2;\n",
              "      --hover-bg-color: #E2EBFA;\n",
              "      --hover-fill-color: #174EA6;\n",
              "      --disabled-fill-color: #AAA;\n",
              "      --disabled-bg-color: #DDD;\n",
              "  }\n",
              "\n",
              "  [theme=dark] .colab-df-quickchart {\n",
              "      --bg-color: #3B4455;\n",
              "      --fill-color: #D2E3FC;\n",
              "      --hover-bg-color: #434B5C;\n",
              "      --hover-fill-color: #FFFFFF;\n",
              "      --disabled-bg-color: #3B4455;\n",
              "      --disabled-fill-color: #666;\n",
              "  }\n",
              "\n",
              "  .colab-df-quickchart {\n",
              "    background-color: var(--bg-color);\n",
              "    border: none;\n",
              "    border-radius: 50%;\n",
              "    cursor: pointer;\n",
              "    display: none;\n",
              "    fill: var(--fill-color);\n",
              "    height: 32px;\n",
              "    padding: 0;\n",
              "    width: 32px;\n",
              "  }\n",
              "\n",
              "  .colab-df-quickchart:hover {\n",
              "    background-color: var(--hover-bg-color);\n",
              "    box-shadow: 0 1px 2px rgba(60, 64, 67, 0.3), 0 1px 3px 1px rgba(60, 64, 67, 0.15);\n",
              "    fill: var(--button-hover-fill-color);\n",
              "  }\n",
              "\n",
              "  .colab-df-quickchart-complete:disabled,\n",
              "  .colab-df-quickchart-complete:disabled:hover {\n",
              "    background-color: var(--disabled-bg-color);\n",
              "    fill: var(--disabled-fill-color);\n",
              "    box-shadow: none;\n",
              "  }\n",
              "\n",
              "  .colab-df-spinner {\n",
              "    border: 2px solid var(--fill-color);\n",
              "    border-color: transparent;\n",
              "    border-bottom-color: var(--fill-color);\n",
              "    animation:\n",
              "      spin 1s steps(1) infinite;\n",
              "  }\n",
              "\n",
              "  @keyframes spin {\n",
              "    0% {\n",
              "      border-color: transparent;\n",
              "      border-bottom-color: var(--fill-color);\n",
              "      border-left-color: var(--fill-color);\n",
              "    }\n",
              "    20% {\n",
              "      border-color: transparent;\n",
              "      border-left-color: var(--fill-color);\n",
              "      border-top-color: var(--fill-color);\n",
              "    }\n",
              "    30% {\n",
              "      border-color: transparent;\n",
              "      border-left-color: var(--fill-color);\n",
              "      border-top-color: var(--fill-color);\n",
              "      border-right-color: var(--fill-color);\n",
              "    }\n",
              "    40% {\n",
              "      border-color: transparent;\n",
              "      border-right-color: var(--fill-color);\n",
              "      border-top-color: var(--fill-color);\n",
              "    }\n",
              "    60% {\n",
              "      border-color: transparent;\n",
              "      border-right-color: var(--fill-color);\n",
              "    }\n",
              "    80% {\n",
              "      border-color: transparent;\n",
              "      border-right-color: var(--fill-color);\n",
              "      border-bottom-color: var(--fill-color);\n",
              "    }\n",
              "    90% {\n",
              "      border-color: transparent;\n",
              "      border-bottom-color: var(--fill-color);\n",
              "    }\n",
              "  }\n",
              "</style>\n",
              "\n",
              "  <script>\n",
              "    async function quickchart(key) {\n",
              "      const quickchartButtonEl =\n",
              "        document.querySelector('#' + key + ' button');\n",
              "      quickchartButtonEl.disabled = true;  // To prevent multiple clicks.\n",
              "      quickchartButtonEl.classList.add('colab-df-spinner');\n",
              "      try {\n",
              "        const charts = await google.colab.kernel.invokeFunction(\n",
              "            'suggestCharts', [key], {});\n",
              "      } catch (error) {\n",
              "        console.error('Error during call to suggestCharts:', error);\n",
              "      }\n",
              "      quickchartButtonEl.classList.remove('colab-df-spinner');\n",
              "      quickchartButtonEl.classList.add('colab-df-quickchart-complete');\n",
              "    }\n",
              "    (() => {\n",
              "      let quickchartButtonEl =\n",
              "        document.querySelector('#df-811eae55-35f6-4bad-9c04-a1104aa3dd8d button');\n",
              "      quickchartButtonEl.style.display =\n",
              "        google.colab.kernel.accessAllowed ? 'block' : 'none';\n",
              "    })();\n",
              "  </script>\n",
              "</div>\n",
              "    </div>\n",
              "  </div>\n"
            ],
            "application/vnd.google.colaboratory.intrinsic+json": {
              "type": "dataframe",
              "variable_name": "df",
              "summary": "{\n  \"name\": \"df\",\n  \"rows\": 5571,\n  \"fields\": [\n    {\n      \"column\": \"name\",\n      \"properties\": {\n        \"dtype\": \"category\",\n        \"num_unique_values\": 2228,\n        \"samples\": [\n          \"Tenuta Regaleali Cabernet Sauvignon Vigna San Francesco\",\n          \"Hermitage Blanc\",\n          \"Chemin des Papes La Noblesse Cotes-du-Rhone\"\n        ],\n        \"semantic_type\": \"\",\n        \"description\": \"\"\n      }\n    },\n    {\n      \"column\": \"country\",\n      \"properties\": {\n        \"dtype\": \"category\",\n        \"num_unique_values\": 20,\n        \"samples\": [\n          \"\\u042e\\u0436\\u043d\\u0430\\u044f \\u0410\\u0444\\u0440\\u0438\\u043a\\u0430\",\n          \"\\u0420\\u0435\\u0441\\u043f\\u0443\\u0431\\u043b\\u0438\\u043a\\u0430 \\u041c\\u043e\\u043b\\u0434\\u043e\\u0432\\u0430\",\n          \"\\u0410\\u0440\\u043c\\u0435\\u043d\\u0438\\u044f\"\n        ],\n        \"semantic_type\": \"\",\n        \"description\": \"\"\n      }\n    },\n    {\n      \"column\": \"color\",\n      \"properties\": {\n        \"dtype\": \"category\",\n        \"num_unique_values\": 5,\n        \"samples\": [\n          \"\\u0431\\u0435\\u043b\\u043e\\u0435\",\n          \"0.75\\u00a0\\u043b.\",\n          \"\\u0440\\u043e\\u0437\\u043e\\u0432\\u043e\\u0435\"\n        ],\n        \"semantic_type\": \"\",\n        \"description\": \"\"\n      }\n    },\n    {\n      \"column\": \"sugar\",\n      \"properties\": {\n        \"dtype\": \"category\",\n        \"num_unique_values\": 8,\n        \"samples\": [\n          \"\\u043f\\u043e\\u043b\\u0443\\u0441\\u0443\\u0445\\u043e\\u0435\",\n          \"\\u0442\\u0443\\u0440\\u0438\\u0433\\u0430 \\u043d\\u0430\\u0441\\u044c\\u043e\\u043d\\u0430\\u043b\\u044c\",\n          \"\\u0441\\u0443\\u0445\\u043e\\u0435\"\n        ],\n        \"semantic_type\": \"\",\n        \"description\": \"\"\n      }\n    },\n    {\n      \"column\": \"volume\",\n      \"properties\": {\n        \"dtype\": \"category\",\n        \"num_unique_values\": 16,\n        \"samples\": [\n          \"0.75\\u00a0\\u043b.\",\n          \"0.375\\u00a0\\u043b.\",\n          \"0.187\\u00a0\\u043b.\"\n        ],\n        \"semantic_type\": \"\",\n        \"description\": \"\"\n      }\n    },\n    {\n      \"column\": \"manufacturer\",\n      \"properties\": {\n        \"dtype\": \"category\",\n        \"num_unique_values\": 527,\n        \"samples\": [\n          \"Domaine Bruno Clair\",\n          \"Domaine Anne-Francoise Gros\",\n          \"Frescobaldi\"\n        ],\n        \"semantic_type\": \"\",\n        \"description\": \"\"\n      }\n    },\n    {\n      \"column\": \"region\",\n      \"properties\": {\n        \"dtype\": \"category\",\n        \"num_unique_values\": 93,\n        \"samples\": [\n          \"\\u0421\\u0430\\u043c\\u0435\\u0433\\u0440\\u0435\\u043b\\u043e\",\n          \"\\u041c\\u0430\\u043b\\u044c\\u0431\\u043e\\u0440\\u043e\",\n          \"\\u042d\\u0441\\u0442\\u0440\\u0435\\u043c\\u0430\\u0434\\u0443\\u0440\\u0430\"\n        ],\n        \"semantic_type\": \"\",\n        \"description\": \"\"\n      }\n    },\n    {\n      \"column\": \"grape\",\n      \"properties\": {\n        \"dtype\": \"category\",\n        \"num_unique_values\": 970,\n        \"samples\": [\n          \"\\u043a\\u0430\\u0431\\u0435\\u0440\\u043d\\u0435 \\u0441\\u043e\\u0432\\u0438\\u043d\\u044c\\u043e\\u043d 75%&\\u043c\\u0435\\u0440\\u043b\\u043e 22%&\\u043a\\u0430\\u0431\\u0435\\u0440\\u043d\\u0435 \\u0444\\u0440\\u0430\\u043d 2%&\\u043f\\u0442\\u0438 \\u0432\\u0435\\u0440\\u0434\\u043e 1%\",\n          \"\\u043c\\u0435\\u0440\\u043b\\u043e 77%&\\u043a\\u0430\\u0431\\u0435\\u0440\\u043d\\u0435 \\u0444\\u0440\\u0430\\u043d 23%\",\n          \"\\u0440\\u043e\\u0441\\u0441\\u0435\\u0437\\u0435 100%\"\n        ],\n        \"semantic_type\": \"\",\n        \"description\": \"\"\n      }\n    },\n    {\n      \"column\": \"year\",\n      \"properties\": {\n        \"dtype\": \"category\",\n        \"num_unique_values\": 37,\n        \"samples\": [\n          \"2006\\u00a0\\u0433.\",\n          \"2012\\u00a0\\u0433.\",\n          \"2019\\u00a0\\u0433.\"\n        ],\n        \"semantic_type\": \"\",\n        \"description\": \"\"\n      }\n    },\n    {\n      \"column\": \"price\",\n      \"properties\": {\n        \"dtype\": \"category\",\n        \"num_unique_values\": 332,\n        \"samples\": [\n          \"10 490\",\n          \"329 990\",\n          \"6 890\"\n        ],\n        \"semantic_type\": \"\",\n        \"description\": \"\"\n      }\n    }\n  ]\n}"
            }
          },
          "metadata": {},
          "execution_count": 2
        }
      ]
    },
    {
      "cell_type": "markdown",
      "source": [
        "В датасете содержится о 5571 разновидностях вина"
      ],
      "metadata": {
        "id": "m1pN98woZ26d"
      }
    },
    {
      "cell_type": "markdown",
      "source": [
        "### Описание переменных:\n",
        "* **name** — название вина\n",
        "* **country** — страна производства\n",
        "* **color** — цвет вина\n",
        "* **sugar** — сладость вина\n",
        "* **volume** — объем одной бутылки в литрах\n",
        "* **manufacturer** — производитель\n",
        "* **region** — регион производства\n",
        "* **grape** — сорт винограда\n",
        "* **year** — год производства\n",
        "* **price** — цена за бутылку в рублях"
      ],
      "metadata": {
        "id": "mGOcVFd2Z26e"
      }
    },
    {
      "cell_type": "markdown",
      "source": [
        "Посмотрим есть ли в данных пропуски\n"
      ],
      "metadata": {
        "id": "0h1DGeiSZ26f"
      }
    },
    {
      "cell_type": "code",
      "source": [
        "df.isnull().sum()"
      ],
      "metadata": {
        "colab": {
          "base_uri": "https://localhost:8080/"
        },
        "outputId": "62e42d01-4b93-4445-c704-c25141074ea9",
        "id": "VIp1a3hpZ26g"
      },
      "execution_count": 3,
      "outputs": [
        {
          "output_type": "execute_result",
          "data": {
            "text/plain": [
              "name             4\n",
              "country          0\n",
              "color            0\n",
              "sugar            0\n",
              "volume           0\n",
              "manufacturer     0\n",
              "region           0\n",
              "grape            0\n",
              "year            76\n",
              "price            0\n",
              "dtype: int64"
            ]
          },
          "metadata": {},
          "execution_count": 3
        }
      ]
    },
    {
      "cell_type": "markdown",
      "source": [
        "Как можно заметить в данных не хватает 4 наименований вин и 76 годов производства. Так как название вина выступает простым идентификатором и не будет играть большой роли в обучении моделей в дальнейшем, не имеет смысла как-то пытаться заместить пропущенные значения или избавляться от этих товаров. Год производства является весьма важным признаком. Заполнение его средним значением плохо интерпретируемо. Заполнение данного признака медианным тоже может привести к искажению соотношений в данных, поэтому было принято решение удалить вина с пропущенными значениями признака year."
      ],
      "metadata": {
        "id": "xr3MQcWEZ26i"
      }
    },
    {
      "cell_type": "code",
      "source": [
        "df.dropna(subset=['year'], inplace=True)\n",
        "df.reset_index(inplace=True)\n",
        "df.drop('index', axis=1, inplace=True)\n",
        "df.shape"
      ],
      "metadata": {
        "colab": {
          "base_uri": "https://localhost:8080/"
        },
        "outputId": "add0fb6d-f678-426b-ac93-a67bba5bf716",
        "id": "EnRdP5ebZ26j"
      },
      "execution_count": 4,
      "outputs": [
        {
          "output_type": "execute_result",
          "data": {
            "text/plain": [
              "(5495, 10)"
            ]
          },
          "metadata": {},
          "execution_count": 4
        }
      ]
    },
    {
      "cell_type": "markdown",
      "source": [
        "После очистки датасета у нас получилось 5495 элемента, которые мы будем анализировать в дальнейшем"
      ],
      "metadata": {
        "id": "mVfS6mdzZ26k"
      }
    },
    {
      "cell_type": "markdown",
      "source": [
        "Для дальнейшего анализа необходимо преобразить некоторые столбцы в таблице."
      ],
      "metadata": {
        "id": "tPPthZCoZ26m"
      }
    },
    {
      "cell_type": "markdown",
      "source": [
        "### **Преображение колонки price**\n",
        "\n",
        "Для перевода строк в числа была написана функция, которая сначала убирает пробелы между разрядами, а потом переводит получившуюся строку в число"
      ],
      "metadata": {
        "id": "QbNdlo_tZ26n"
      }
    },
    {
      "cell_type": "code",
      "source": [
        "def correct_price(value: str):\n",
        "    correct = int(value.replace(' ', ''))\n",
        "    return correct"
      ],
      "metadata": {
        "id": "pH_zvRf_Z26p"
      },
      "execution_count": 5,
      "outputs": []
    },
    {
      "cell_type": "code",
      "source": [
        "df = pd.DataFrame(df)\n",
        "price_corrected = df['price'].map(correct_price)\n",
        "\n",
        "df['price'] = price_corrected\n",
        "df.head()"
      ],
      "metadata": {
        "colab": {
          "base_uri": "https://localhost:8080/",
          "height": 206
        },
        "outputId": "9909e471-943d-4658-90c3-c2b077478ba8",
        "id": "9lOZ0Bt2Z26q"
      },
      "execution_count": 6,
      "outputs": [
        {
          "output_type": "execute_result",
          "data": {
            "text/plain": [
              "                                  name       country    color      sugar  \\\n",
              "0                    Shiraz Mr Borio's  Южная Африка  красное      сухое   \n",
              "1       Gavi dei Gavi (Etichetta Nera)        Италия    белое      сухое   \n",
              "2  Красностоп Золотовский на Террасах         Россия  красное      сухое   \n",
              "3                Vermentino di Toscana        Италия    белое      сухое   \n",
              "4                            Pfefferer        Италия    белое  полусухое   \n",
              "\n",
              "    volume        manufacturer                 region               grape  \\\n",
              "0  0.75 л.            Simonsig             Стелленбош          шираз 100%   \n",
              "1  0.75 л.           La Scolca                Пьемонт        кортезе 100%   \n",
              "2  0.75 л.              Сикоры                 Кубань     красностоп 100%   \n",
              "3  0.75 л.  Fattoria del Cerro                Тоскана          верментино   \n",
              "4  0.75 л.         Colterenzio  Трентино-Альто Адидже  мускат желтый 100%   \n",
              "\n",
              "      year  price  \n",
              "0  2020 г.   2990  \n",
              "1  2022 г.   5990  \n",
              "2  2018 г.   5490  \n",
              "3  2022 г.   2490  \n",
              "4  2023 г.   2490  "
            ],
            "text/html": [
              "\n",
              "  <div id=\"df-c839f364-3e96-4bf9-bec4-626a94a0a123\" class=\"colab-df-container\">\n",
              "    <div>\n",
              "<style scoped>\n",
              "    .dataframe tbody tr th:only-of-type {\n",
              "        vertical-align: middle;\n",
              "    }\n",
              "\n",
              "    .dataframe tbody tr th {\n",
              "        vertical-align: top;\n",
              "    }\n",
              "\n",
              "    .dataframe thead th {\n",
              "        text-align: right;\n",
              "    }\n",
              "</style>\n",
              "<table border=\"1\" class=\"dataframe\">\n",
              "  <thead>\n",
              "    <tr style=\"text-align: right;\">\n",
              "      <th></th>\n",
              "      <th>name</th>\n",
              "      <th>country</th>\n",
              "      <th>color</th>\n",
              "      <th>sugar</th>\n",
              "      <th>volume</th>\n",
              "      <th>manufacturer</th>\n",
              "      <th>region</th>\n",
              "      <th>grape</th>\n",
              "      <th>year</th>\n",
              "      <th>price</th>\n",
              "    </tr>\n",
              "  </thead>\n",
              "  <tbody>\n",
              "    <tr>\n",
              "      <th>0</th>\n",
              "      <td>Shiraz Mr Borio's</td>\n",
              "      <td>Южная Африка</td>\n",
              "      <td>красное</td>\n",
              "      <td>сухое</td>\n",
              "      <td>0.75 л.</td>\n",
              "      <td>Simonsig</td>\n",
              "      <td>Стелленбош</td>\n",
              "      <td>шираз 100%</td>\n",
              "      <td>2020 г.</td>\n",
              "      <td>2990</td>\n",
              "    </tr>\n",
              "    <tr>\n",
              "      <th>1</th>\n",
              "      <td>Gavi dei Gavi (Etichetta Nera)</td>\n",
              "      <td>Италия</td>\n",
              "      <td>белое</td>\n",
              "      <td>сухое</td>\n",
              "      <td>0.75 л.</td>\n",
              "      <td>La Scolca</td>\n",
              "      <td>Пьемонт</td>\n",
              "      <td>кортезе 100%</td>\n",
              "      <td>2022 г.</td>\n",
              "      <td>5990</td>\n",
              "    </tr>\n",
              "    <tr>\n",
              "      <th>2</th>\n",
              "      <td>Красностоп Золотовский на Террасах</td>\n",
              "      <td>Россия</td>\n",
              "      <td>красное</td>\n",
              "      <td>сухое</td>\n",
              "      <td>0.75 л.</td>\n",
              "      <td>Сикоры</td>\n",
              "      <td>Кубань</td>\n",
              "      <td>красностоп 100%</td>\n",
              "      <td>2018 г.</td>\n",
              "      <td>5490</td>\n",
              "    </tr>\n",
              "    <tr>\n",
              "      <th>3</th>\n",
              "      <td>Vermentino di Toscana</td>\n",
              "      <td>Италия</td>\n",
              "      <td>белое</td>\n",
              "      <td>сухое</td>\n",
              "      <td>0.75 л.</td>\n",
              "      <td>Fattoria del Cerro</td>\n",
              "      <td>Тоскана</td>\n",
              "      <td>верментино</td>\n",
              "      <td>2022 г.</td>\n",
              "      <td>2490</td>\n",
              "    </tr>\n",
              "    <tr>\n",
              "      <th>4</th>\n",
              "      <td>Pfefferer</td>\n",
              "      <td>Италия</td>\n",
              "      <td>белое</td>\n",
              "      <td>полусухое</td>\n",
              "      <td>0.75 л.</td>\n",
              "      <td>Colterenzio</td>\n",
              "      <td>Трентино-Альто Адидже</td>\n",
              "      <td>мускат желтый 100%</td>\n",
              "      <td>2023 г.</td>\n",
              "      <td>2490</td>\n",
              "    </tr>\n",
              "  </tbody>\n",
              "</table>\n",
              "</div>\n",
              "    <div class=\"colab-df-buttons\">\n",
              "\n",
              "  <div class=\"colab-df-container\">\n",
              "    <button class=\"colab-df-convert\" onclick=\"convertToInteractive('df-c839f364-3e96-4bf9-bec4-626a94a0a123')\"\n",
              "            title=\"Convert this dataframe to an interactive table.\"\n",
              "            style=\"display:none;\">\n",
              "\n",
              "  <svg xmlns=\"http://www.w3.org/2000/svg\" height=\"24px\" viewBox=\"0 -960 960 960\">\n",
              "    <path d=\"M120-120v-720h720v720H120Zm60-500h600v-160H180v160Zm220 220h160v-160H400v160Zm0 220h160v-160H400v160ZM180-400h160v-160H180v160Zm440 0h160v-160H620v160ZM180-180h160v-160H180v160Zm440 0h160v-160H620v160Z\"/>\n",
              "  </svg>\n",
              "    </button>\n",
              "\n",
              "  <style>\n",
              "    .colab-df-container {\n",
              "      display:flex;\n",
              "      gap: 12px;\n",
              "    }\n",
              "\n",
              "    .colab-df-convert {\n",
              "      background-color: #E8F0FE;\n",
              "      border: none;\n",
              "      border-radius: 50%;\n",
              "      cursor: pointer;\n",
              "      display: none;\n",
              "      fill: #1967D2;\n",
              "      height: 32px;\n",
              "      padding: 0 0 0 0;\n",
              "      width: 32px;\n",
              "    }\n",
              "\n",
              "    .colab-df-convert:hover {\n",
              "      background-color: #E2EBFA;\n",
              "      box-shadow: 0px 1px 2px rgba(60, 64, 67, 0.3), 0px 1px 3px 1px rgba(60, 64, 67, 0.15);\n",
              "      fill: #174EA6;\n",
              "    }\n",
              "\n",
              "    .colab-df-buttons div {\n",
              "      margin-bottom: 4px;\n",
              "    }\n",
              "\n",
              "    [theme=dark] .colab-df-convert {\n",
              "      background-color: #3B4455;\n",
              "      fill: #D2E3FC;\n",
              "    }\n",
              "\n",
              "    [theme=dark] .colab-df-convert:hover {\n",
              "      background-color: #434B5C;\n",
              "      box-shadow: 0px 1px 3px 1px rgba(0, 0, 0, 0.15);\n",
              "      filter: drop-shadow(0px 1px 2px rgba(0, 0, 0, 0.3));\n",
              "      fill: #FFFFFF;\n",
              "    }\n",
              "  </style>\n",
              "\n",
              "    <script>\n",
              "      const buttonEl =\n",
              "        document.querySelector('#df-c839f364-3e96-4bf9-bec4-626a94a0a123 button.colab-df-convert');\n",
              "      buttonEl.style.display =\n",
              "        google.colab.kernel.accessAllowed ? 'block' : 'none';\n",
              "\n",
              "      async function convertToInteractive(key) {\n",
              "        const element = document.querySelector('#df-c839f364-3e96-4bf9-bec4-626a94a0a123');\n",
              "        const dataTable =\n",
              "          await google.colab.kernel.invokeFunction('convertToInteractive',\n",
              "                                                    [key], {});\n",
              "        if (!dataTable) return;\n",
              "\n",
              "        const docLinkHtml = 'Like what you see? Visit the ' +\n",
              "          '<a target=\"_blank\" href=https://colab.research.google.com/notebooks/data_table.ipynb>data table notebook</a>'\n",
              "          + ' to learn more about interactive tables.';\n",
              "        element.innerHTML = '';\n",
              "        dataTable['output_type'] = 'display_data';\n",
              "        await google.colab.output.renderOutput(dataTable, element);\n",
              "        const docLink = document.createElement('div');\n",
              "        docLink.innerHTML = docLinkHtml;\n",
              "        element.appendChild(docLink);\n",
              "      }\n",
              "    </script>\n",
              "  </div>\n",
              "\n",
              "\n",
              "<div id=\"df-8b7bddbb-bc10-4339-9dec-cf2f409096f2\">\n",
              "  <button class=\"colab-df-quickchart\" onclick=\"quickchart('df-8b7bddbb-bc10-4339-9dec-cf2f409096f2')\"\n",
              "            title=\"Suggest charts\"\n",
              "            style=\"display:none;\">\n",
              "\n",
              "<svg xmlns=\"http://www.w3.org/2000/svg\" height=\"24px\"viewBox=\"0 0 24 24\"\n",
              "     width=\"24px\">\n",
              "    <g>\n",
              "        <path d=\"M19 3H5c-1.1 0-2 .9-2 2v14c0 1.1.9 2 2 2h14c1.1 0 2-.9 2-2V5c0-1.1-.9-2-2-2zM9 17H7v-7h2v7zm4 0h-2V7h2v10zm4 0h-2v-4h2v4z\"/>\n",
              "    </g>\n",
              "</svg>\n",
              "  </button>\n",
              "\n",
              "<style>\n",
              "  .colab-df-quickchart {\n",
              "      --bg-color: #E8F0FE;\n",
              "      --fill-color: #1967D2;\n",
              "      --hover-bg-color: #E2EBFA;\n",
              "      --hover-fill-color: #174EA6;\n",
              "      --disabled-fill-color: #AAA;\n",
              "      --disabled-bg-color: #DDD;\n",
              "  }\n",
              "\n",
              "  [theme=dark] .colab-df-quickchart {\n",
              "      --bg-color: #3B4455;\n",
              "      --fill-color: #D2E3FC;\n",
              "      --hover-bg-color: #434B5C;\n",
              "      --hover-fill-color: #FFFFFF;\n",
              "      --disabled-bg-color: #3B4455;\n",
              "      --disabled-fill-color: #666;\n",
              "  }\n",
              "\n",
              "  .colab-df-quickchart {\n",
              "    background-color: var(--bg-color);\n",
              "    border: none;\n",
              "    border-radius: 50%;\n",
              "    cursor: pointer;\n",
              "    display: none;\n",
              "    fill: var(--fill-color);\n",
              "    height: 32px;\n",
              "    padding: 0;\n",
              "    width: 32px;\n",
              "  }\n",
              "\n",
              "  .colab-df-quickchart:hover {\n",
              "    background-color: var(--hover-bg-color);\n",
              "    box-shadow: 0 1px 2px rgba(60, 64, 67, 0.3), 0 1px 3px 1px rgba(60, 64, 67, 0.15);\n",
              "    fill: var(--button-hover-fill-color);\n",
              "  }\n",
              "\n",
              "  .colab-df-quickchart-complete:disabled,\n",
              "  .colab-df-quickchart-complete:disabled:hover {\n",
              "    background-color: var(--disabled-bg-color);\n",
              "    fill: var(--disabled-fill-color);\n",
              "    box-shadow: none;\n",
              "  }\n",
              "\n",
              "  .colab-df-spinner {\n",
              "    border: 2px solid var(--fill-color);\n",
              "    border-color: transparent;\n",
              "    border-bottom-color: var(--fill-color);\n",
              "    animation:\n",
              "      spin 1s steps(1) infinite;\n",
              "  }\n",
              "\n",
              "  @keyframes spin {\n",
              "    0% {\n",
              "      border-color: transparent;\n",
              "      border-bottom-color: var(--fill-color);\n",
              "      border-left-color: var(--fill-color);\n",
              "    }\n",
              "    20% {\n",
              "      border-color: transparent;\n",
              "      border-left-color: var(--fill-color);\n",
              "      border-top-color: var(--fill-color);\n",
              "    }\n",
              "    30% {\n",
              "      border-color: transparent;\n",
              "      border-left-color: var(--fill-color);\n",
              "      border-top-color: var(--fill-color);\n",
              "      border-right-color: var(--fill-color);\n",
              "    }\n",
              "    40% {\n",
              "      border-color: transparent;\n",
              "      border-right-color: var(--fill-color);\n",
              "      border-top-color: var(--fill-color);\n",
              "    }\n",
              "    60% {\n",
              "      border-color: transparent;\n",
              "      border-right-color: var(--fill-color);\n",
              "    }\n",
              "    80% {\n",
              "      border-color: transparent;\n",
              "      border-right-color: var(--fill-color);\n",
              "      border-bottom-color: var(--fill-color);\n",
              "    }\n",
              "    90% {\n",
              "      border-color: transparent;\n",
              "      border-bottom-color: var(--fill-color);\n",
              "    }\n",
              "  }\n",
              "</style>\n",
              "\n",
              "  <script>\n",
              "    async function quickchart(key) {\n",
              "      const quickchartButtonEl =\n",
              "        document.querySelector('#' + key + ' button');\n",
              "      quickchartButtonEl.disabled = true;  // To prevent multiple clicks.\n",
              "      quickchartButtonEl.classList.add('colab-df-spinner');\n",
              "      try {\n",
              "        const charts = await google.colab.kernel.invokeFunction(\n",
              "            'suggestCharts', [key], {});\n",
              "      } catch (error) {\n",
              "        console.error('Error during call to suggestCharts:', error);\n",
              "      }\n",
              "      quickchartButtonEl.classList.remove('colab-df-spinner');\n",
              "      quickchartButtonEl.classList.add('colab-df-quickchart-complete');\n",
              "    }\n",
              "    (() => {\n",
              "      let quickchartButtonEl =\n",
              "        document.querySelector('#df-8b7bddbb-bc10-4339-9dec-cf2f409096f2 button');\n",
              "      quickchartButtonEl.style.display =\n",
              "        google.colab.kernel.accessAllowed ? 'block' : 'none';\n",
              "    })();\n",
              "  </script>\n",
              "</div>\n",
              "    </div>\n",
              "  </div>\n"
            ],
            "application/vnd.google.colaboratory.intrinsic+json": {
              "type": "dataframe",
              "variable_name": "df",
              "summary": "{\n  \"name\": \"df\",\n  \"rows\": 5495,\n  \"fields\": [\n    {\n      \"column\": \"name\",\n      \"properties\": {\n        \"dtype\": \"category\",\n        \"num_unique_values\": 2172,\n        \"samples\": [\n          \"La Gioia \\u0432 \\u043f\\u043e\\u0434\\u0430\\u0440\\u043e\\u0447\\u043d\\u043e\\u0439 \\u0443\\u043f\\u0430\\u043a\\u043e\\u0432\\u043a\\u0435\",\n          \"\\u041f\\u0435\\u0442\\u0440\\u0438\\u043a\\u043e\\u0440 \\u0410\\u043b\\u0438\\u0433\\u043e\\u0442\\u0435\",\n          \"Morey-Saint-Denis 1er Cru Monts Luisants\"\n        ],\n        \"semantic_type\": \"\",\n        \"description\": \"\"\n      }\n    },\n    {\n      \"column\": \"country\",\n      \"properties\": {\n        \"dtype\": \"category\",\n        \"num_unique_values\": 20,\n        \"samples\": [\n          \"\\u042e\\u0436\\u043d\\u0430\\u044f \\u0410\\u0444\\u0440\\u0438\\u043a\\u0430\",\n          \"\\u0420\\u0435\\u0441\\u043f\\u0443\\u0431\\u043b\\u0438\\u043a\\u0430 \\u041c\\u043e\\u043b\\u0434\\u043e\\u0432\\u0430\",\n          \"\\u0421\\u043e\\u0435\\u0434\\u0438\\u043d\\u0435\\u043d\\u043d\\u044b\\u0435 \\u0428\\u0442\\u0430\\u0442\\u044b \\u0410\\u043c\\u0435\\u0440\\u0438\\u043a\\u0438\"\n        ],\n        \"semantic_type\": \"\",\n        \"description\": \"\"\n      }\n    },\n    {\n      \"column\": \"color\",\n      \"properties\": {\n        \"dtype\": \"category\",\n        \"num_unique_values\": 5,\n        \"samples\": [\n          \"\\u0431\\u0435\\u043b\\u043e\\u0435\",\n          \"0.75\\u00a0\\u043b.\",\n          \"\\u0440\\u043e\\u0437\\u043e\\u0432\\u043e\\u0435\"\n        ],\n        \"semantic_type\": \"\",\n        \"description\": \"\"\n      }\n    },\n    {\n      \"column\": \"sugar\",\n      \"properties\": {\n        \"dtype\": \"category\",\n        \"num_unique_values\": 8,\n        \"samples\": [\n          \"\\u043f\\u043e\\u043b\\u0443\\u0441\\u0443\\u0445\\u043e\\u0435\",\n          \"\\u0442\\u0443\\u0440\\u0438\\u0433\\u0430 \\u043d\\u0430\\u0441\\u044c\\u043e\\u043d\\u0430\\u043b\\u044c\",\n          \"\\u0441\\u0443\\u0445\\u043e\\u0435\"\n        ],\n        \"semantic_type\": \"\",\n        \"description\": \"\"\n      }\n    },\n    {\n      \"column\": \"volume\",\n      \"properties\": {\n        \"dtype\": \"category\",\n        \"num_unique_values\": 15,\n        \"samples\": [\n          \"\\u0442\\u0443\\u0440\\u0438\\u0433\\u0430 \\u043d\\u0430\\u0441\\u044c\\u043e\\u043d\\u0430\\u043b\\u044c\",\n          \"\\u0442\\u0438\\u043d\\u0442\\u0430 \\u0440\\u043e\\u0440\\u0438\\u0448\",\n          \"0.75\\u00a0\\u043b.\"\n        ],\n        \"semantic_type\": \"\",\n        \"description\": \"\"\n      }\n    },\n    {\n      \"column\": \"manufacturer\",\n      \"properties\": {\n        \"dtype\": \"category\",\n        \"num_unique_values\": 521,\n        \"samples\": [\n          \"Domaine Arnoux-Lachaux\",\n          \"Misty Cliff\",\n          \"Frescobaldi\"\n        ],\n        \"semantic_type\": \"\",\n        \"description\": \"\"\n      }\n    },\n    {\n      \"column\": \"region\",\n      \"properties\": {\n        \"dtype\": \"category\",\n        \"num_unique_values\": 88,\n        \"samples\": [\n          \"\\u0428\\u0430\\u043c\\u043f\\u0430\\u043d\\u044c\",\n          \"\\u0421\\u0442\\u0435\\u043b\\u043b\\u0435\\u043d\\u0431\\u043e\\u0448\",\n          \"\\u041b\\u0430\\u043d\\u0433\\u0435\\u0434\\u043e\\u043a-\\u0420\\u0443\\u0441\\u0441\\u0438\\u043b\\u044c\\u043e\\u043d\"\n        ],\n        \"semantic_type\": \"\",\n        \"description\": \"\"\n      }\n    },\n    {\n      \"column\": \"grape\",\n      \"properties\": {\n        \"dtype\": \"category\",\n        \"num_unique_values\": 947,\n        \"samples\": [\n          \"\\u043c\\u0435\\u0440\\u043b\\u043e 69%&\\u043a\\u0430\\u0431\\u0435\\u0440\\u043d\\u0435 \\u0444\\u0440\\u0430\\u043d 31%\",\n          \"\\u043a\\u0430\\u0431\\u0435\\u0440\\u043d\\u0435 \\u0441\\u043e\\u0432\\u0438\\u043d\\u044c\\u043e\\u043d 75%&\\u043c\\u0435\\u0440\\u043b\\u043e 20%&\\u043f\\u0442\\u0438 \\u0432\\u0435\\u0440\\u0434\\u043e 5%\",\n          \"\\u043c\\u044e\\u043b\\u043b\\u0435\\u0440 \\u0442\\u0443\\u0440\\u0433\\u0430\\u0443 100%\"\n        ],\n        \"semantic_type\": \"\",\n        \"description\": \"\"\n      }\n    },\n    {\n      \"column\": \"year\",\n      \"properties\": {\n        \"dtype\": \"category\",\n        \"num_unique_values\": 37,\n        \"samples\": [\n          \"2006\\u00a0\\u0433.\",\n          \"2012\\u00a0\\u0433.\",\n          \"2019\\u00a0\\u0433.\"\n        ],\n        \"semantic_type\": \"\",\n        \"description\": \"\"\n      }\n    },\n    {\n      \"column\": \"price\",\n      \"properties\": {\n        \"dtype\": \"number\",\n        \"std\": 75316,\n        \"min\": 490,\n        \"max\": 1999990,\n        \"num_unique_values\": 330,\n        \"samples\": [\n          7990,\n          349990,\n          22990\n        ],\n        \"semantic_type\": \"\",\n        \"description\": \"\"\n      }\n    }\n  ]\n}"
            }
          },
          "metadata": {},
          "execution_count": 6
        }
      ]
    },
    {
      "cell_type": "markdown",
      "source": [
        "### **Преображение колонки grape**\n",
        "\n",
        "Если вино состоит из нескольких сортов винограда, то при парсинге между видами ставился \"&\", для дальнейшего анализа мы избавимся от этого разделителя."
      ],
      "metadata": {
        "id": "7Bm9oG8mZ26s"
      }
    },
    {
      "cell_type": "code",
      "source": [
        "def correct_grape(value: str):\n",
        "    corrected = value.replace('&', ', ')\n",
        "    return corrected"
      ],
      "metadata": {
        "id": "qwSrPWdHZ26u"
      },
      "execution_count": 7,
      "outputs": []
    },
    {
      "cell_type": "code",
      "source": [
        "grape_corrected = df['grape'].map(correct_grape)\n",
        "df['grape'] = grape_corrected\n",
        "df.grape.value_counts()"
      ],
      "metadata": {
        "colab": {
          "base_uri": "https://localhost:8080/"
        },
        "outputId": "3f51ffd6-d0c7-4b1b-8354-fdcd7f8aa56f",
        "id": "0UfDaURXZ26v"
      },
      "execution_count": 8,
      "outputs": [
        {
          "output_type": "execute_result",
          "data": {
            "text/plain": [
              "grape\n",
              "шардоне 100%                                        521\n",
              "пино нуар 100%                                      507\n",
              "рислинг 100%                                        232\n",
              "совиньон блан 100%                                  179\n",
              "неббиоло 100%                                       152\n",
              "                                                   ... \n",
              "совиньон блан 75%, семильон 23%, мюскадель 2%         1\n",
              "каберне совиньон 78%, сира 12%, мерло 10%             1\n",
              "каберне совиньон 64%, мерло 33%, каберне фран 3%      1\n",
              "каберне совиньон 81%, мерло 16%, каберне фран 3%      1\n",
              "лембергер (блауфранкиш) 100%                          1\n",
              "Name: count, Length: 947, dtype: int64"
            ]
          },
          "metadata": {},
          "execution_count": 8
        }
      ]
    },
    {
      "cell_type": "markdown",
      "source": [
        "### **Преображение колонки volume**\n",
        "\n",
        "Для дальнейшей работы необходимо перевести год в числовое значение. Пристальным взглядом (и поломкой кода) было замечено, что для некоторых вин отсутсвовала информация по сладости, в следствие чего при парсинге значения из последующих колонок (объем, мануфактура и тд.) переносились на предыдущие, что крайне осложняло перевод типа данных. В связи с этим было принято решение удалить все вина, у которых произошло смещение данных."
      ],
      "metadata": {
        "id": "0vMLyOrWZ26w"
      }
    },
    {
      "cell_type": "code",
      "source": [
        "df.volume.value_counts()"
      ],
      "metadata": {
        "colab": {
          "base_uri": "https://localhost:8080/"
        },
        "outputId": "4afc3524-43be-43dc-c6d9-1e3d7340f2e6",
        "id": "QD-7BG8DZ26x"
      },
      "execution_count": 9,
      "outputs": [
        {
          "output_type": "execute_result",
          "data": {
            "text/plain": [
              "volume\n",
              "0.75 л.             4887\n",
              "1.5 л.               322\n",
              "0.375 л.             184\n",
              "3 л.                  47\n",
              "0.5 л.                16\n",
              "тинта баррока          9\n",
              "турига франка          8\n",
              "0.187 л.               5\n",
              "5 л.                   4\n",
              "6 л.                   3\n",
              "турига насьональ       2\n",
              "тинта рориш            2\n",
              "тинта као              2\n",
              "9 л.                   2\n",
              "кодега                 2\n",
              "Name: count, dtype: int64"
            ]
          },
          "metadata": {},
          "execution_count": 9
        }
      ]
    },
    {
      "cell_type": "markdown",
      "source": [
        "Лишние значения в столбце volume: 'турига франка', 'турига насьональ', 'тинта рориш', 'тинта као', 'тинта баррока', 'кодега'."
      ],
      "metadata": {
        "id": "zzzE_MEbZ26x"
      }
    },
    {
      "cell_type": "code",
      "source": [
        "indices_to_drop = []\n",
        "for index, item in enumerate(df['volume']):\n",
        "    if any(word in item for word in ['турига франка', 'турига насьональ', 'тинта рориш', 'тинта као', 'тинта баррока', 'кодега']):\n",
        "        indices_to_drop.append(index)\n",
        "\n",
        "df.drop(indices_to_drop, inplace=True)\n",
        "\n",
        "#Эту функцию написал чат ГПТ. Проводка:\n",
        "#ind = 0\n",
        "#for item in df.volume:\n",
        "  #ind += 1\n",
        "  #if ('турига франка' or 'турига насьональ' or 'тинта рориш' or 'тинта као' or 'тинта баррока' or 'кодега') in item:\n",
        "    #df.drop(index = (ind-1) )\n",
        "#сделать этот код рабочим, так чтобы он удалял строки из таблицы в колонке \"объем\", которой содержатся 'турига франка' or 'турига насьональ' or 'тинта рориш' or 'тинта као' or 'тинта баррока' or 'кодега'"
      ],
      "metadata": {
        "id": "Fq5v6tFdZ26y"
      },
      "execution_count": 10,
      "outputs": []
    },
    {
      "cell_type": "code",
      "source": [
        "df.volume.value_counts()"
      ],
      "metadata": {
        "colab": {
          "base_uri": "https://localhost:8080/"
        },
        "outputId": "75659822-c965-4d5a-afe8-947e65ed6044",
        "id": "wd9lQokcZ26z"
      },
      "execution_count": 11,
      "outputs": [
        {
          "output_type": "execute_result",
          "data": {
            "text/plain": [
              "volume\n",
              "0.75 л.     4887\n",
              "1.5 л.       322\n",
              "0.375 л.     184\n",
              "3 л.          47\n",
              "0.5 л.        16\n",
              "0.187 л.       5\n",
              "5 л.           4\n",
              "6 л.           3\n",
              "9 л.           2\n",
              "Name: count, dtype: int64"
            ]
          },
          "metadata": {},
          "execution_count": 11
        }
      ]
    },
    {
      "cell_type": "markdown",
      "source": [
        "Лишние значения удалены. Уберем также единицы измерения."
      ],
      "metadata": {
        "id": "bLwbMfzWZ26z"
      }
    },
    {
      "cell_type": "code",
      "source": [
        "def correct_volume(value: str):\n",
        "    corrected = float(value.replace('\\xa0л.', ''))\n",
        "    return corrected"
      ],
      "metadata": {
        "id": "CycwohXjZ260"
      },
      "execution_count": 12,
      "outputs": []
    },
    {
      "cell_type": "code",
      "source": [
        "volume_corrected = df['volume'].map(correct_volume)\n",
        "df['volume'] = volume_corrected\n",
        "df.head()"
      ],
      "metadata": {
        "colab": {
          "base_uri": "https://localhost:8080/",
          "height": 206
        },
        "outputId": "6a9c8770-b7ed-4ca4-87b2-2ddf53e5152a",
        "id": "s_9OWuC7Z261"
      },
      "execution_count": 13,
      "outputs": [
        {
          "output_type": "execute_result",
          "data": {
            "text/plain": [
              "                                  name       country    color      sugar  \\\n",
              "0                    Shiraz Mr Borio's  Южная Африка  красное      сухое   \n",
              "1       Gavi dei Gavi (Etichetta Nera)        Италия    белое      сухое   \n",
              "2  Красностоп Золотовский на Террасах         Россия  красное      сухое   \n",
              "3                Vermentino di Toscana        Италия    белое      сухое   \n",
              "4                            Pfefferer        Италия    белое  полусухое   \n",
              "\n",
              "   volume        manufacturer                 region               grape  \\\n",
              "0    0.75            Simonsig             Стелленбош          шираз 100%   \n",
              "1    0.75           La Scolca                Пьемонт        кортезе 100%   \n",
              "2    0.75              Сикоры                 Кубань     красностоп 100%   \n",
              "3    0.75  Fattoria del Cerro                Тоскана          верментино   \n",
              "4    0.75         Colterenzio  Трентино-Альто Адидже  мускат желтый 100%   \n",
              "\n",
              "      year  price  \n",
              "0  2020 г.   2990  \n",
              "1  2022 г.   5990  \n",
              "2  2018 г.   5490  \n",
              "3  2022 г.   2490  \n",
              "4  2023 г.   2490  "
            ],
            "text/html": [
              "\n",
              "  <div id=\"df-55629b8a-2e6e-4512-b544-df1114ac43da\" class=\"colab-df-container\">\n",
              "    <div>\n",
              "<style scoped>\n",
              "    .dataframe tbody tr th:only-of-type {\n",
              "        vertical-align: middle;\n",
              "    }\n",
              "\n",
              "    .dataframe tbody tr th {\n",
              "        vertical-align: top;\n",
              "    }\n",
              "\n",
              "    .dataframe thead th {\n",
              "        text-align: right;\n",
              "    }\n",
              "</style>\n",
              "<table border=\"1\" class=\"dataframe\">\n",
              "  <thead>\n",
              "    <tr style=\"text-align: right;\">\n",
              "      <th></th>\n",
              "      <th>name</th>\n",
              "      <th>country</th>\n",
              "      <th>color</th>\n",
              "      <th>sugar</th>\n",
              "      <th>volume</th>\n",
              "      <th>manufacturer</th>\n",
              "      <th>region</th>\n",
              "      <th>grape</th>\n",
              "      <th>year</th>\n",
              "      <th>price</th>\n",
              "    </tr>\n",
              "  </thead>\n",
              "  <tbody>\n",
              "    <tr>\n",
              "      <th>0</th>\n",
              "      <td>Shiraz Mr Borio's</td>\n",
              "      <td>Южная Африка</td>\n",
              "      <td>красное</td>\n",
              "      <td>сухое</td>\n",
              "      <td>0.75</td>\n",
              "      <td>Simonsig</td>\n",
              "      <td>Стелленбош</td>\n",
              "      <td>шираз 100%</td>\n",
              "      <td>2020 г.</td>\n",
              "      <td>2990</td>\n",
              "    </tr>\n",
              "    <tr>\n",
              "      <th>1</th>\n",
              "      <td>Gavi dei Gavi (Etichetta Nera)</td>\n",
              "      <td>Италия</td>\n",
              "      <td>белое</td>\n",
              "      <td>сухое</td>\n",
              "      <td>0.75</td>\n",
              "      <td>La Scolca</td>\n",
              "      <td>Пьемонт</td>\n",
              "      <td>кортезе 100%</td>\n",
              "      <td>2022 г.</td>\n",
              "      <td>5990</td>\n",
              "    </tr>\n",
              "    <tr>\n",
              "      <th>2</th>\n",
              "      <td>Красностоп Золотовский на Террасах</td>\n",
              "      <td>Россия</td>\n",
              "      <td>красное</td>\n",
              "      <td>сухое</td>\n",
              "      <td>0.75</td>\n",
              "      <td>Сикоры</td>\n",
              "      <td>Кубань</td>\n",
              "      <td>красностоп 100%</td>\n",
              "      <td>2018 г.</td>\n",
              "      <td>5490</td>\n",
              "    </tr>\n",
              "    <tr>\n",
              "      <th>3</th>\n",
              "      <td>Vermentino di Toscana</td>\n",
              "      <td>Италия</td>\n",
              "      <td>белое</td>\n",
              "      <td>сухое</td>\n",
              "      <td>0.75</td>\n",
              "      <td>Fattoria del Cerro</td>\n",
              "      <td>Тоскана</td>\n",
              "      <td>верментино</td>\n",
              "      <td>2022 г.</td>\n",
              "      <td>2490</td>\n",
              "    </tr>\n",
              "    <tr>\n",
              "      <th>4</th>\n",
              "      <td>Pfefferer</td>\n",
              "      <td>Италия</td>\n",
              "      <td>белое</td>\n",
              "      <td>полусухое</td>\n",
              "      <td>0.75</td>\n",
              "      <td>Colterenzio</td>\n",
              "      <td>Трентино-Альто Адидже</td>\n",
              "      <td>мускат желтый 100%</td>\n",
              "      <td>2023 г.</td>\n",
              "      <td>2490</td>\n",
              "    </tr>\n",
              "  </tbody>\n",
              "</table>\n",
              "</div>\n",
              "    <div class=\"colab-df-buttons\">\n",
              "\n",
              "  <div class=\"colab-df-container\">\n",
              "    <button class=\"colab-df-convert\" onclick=\"convertToInteractive('df-55629b8a-2e6e-4512-b544-df1114ac43da')\"\n",
              "            title=\"Convert this dataframe to an interactive table.\"\n",
              "            style=\"display:none;\">\n",
              "\n",
              "  <svg xmlns=\"http://www.w3.org/2000/svg\" height=\"24px\" viewBox=\"0 -960 960 960\">\n",
              "    <path d=\"M120-120v-720h720v720H120Zm60-500h600v-160H180v160Zm220 220h160v-160H400v160Zm0 220h160v-160H400v160ZM180-400h160v-160H180v160Zm440 0h160v-160H620v160ZM180-180h160v-160H180v160Zm440 0h160v-160H620v160Z\"/>\n",
              "  </svg>\n",
              "    </button>\n",
              "\n",
              "  <style>\n",
              "    .colab-df-container {\n",
              "      display:flex;\n",
              "      gap: 12px;\n",
              "    }\n",
              "\n",
              "    .colab-df-convert {\n",
              "      background-color: #E8F0FE;\n",
              "      border: none;\n",
              "      border-radius: 50%;\n",
              "      cursor: pointer;\n",
              "      display: none;\n",
              "      fill: #1967D2;\n",
              "      height: 32px;\n",
              "      padding: 0 0 0 0;\n",
              "      width: 32px;\n",
              "    }\n",
              "\n",
              "    .colab-df-convert:hover {\n",
              "      background-color: #E2EBFA;\n",
              "      box-shadow: 0px 1px 2px rgba(60, 64, 67, 0.3), 0px 1px 3px 1px rgba(60, 64, 67, 0.15);\n",
              "      fill: #174EA6;\n",
              "    }\n",
              "\n",
              "    .colab-df-buttons div {\n",
              "      margin-bottom: 4px;\n",
              "    }\n",
              "\n",
              "    [theme=dark] .colab-df-convert {\n",
              "      background-color: #3B4455;\n",
              "      fill: #D2E3FC;\n",
              "    }\n",
              "\n",
              "    [theme=dark] .colab-df-convert:hover {\n",
              "      background-color: #434B5C;\n",
              "      box-shadow: 0px 1px 3px 1px rgba(0, 0, 0, 0.15);\n",
              "      filter: drop-shadow(0px 1px 2px rgba(0, 0, 0, 0.3));\n",
              "      fill: #FFFFFF;\n",
              "    }\n",
              "  </style>\n",
              "\n",
              "    <script>\n",
              "      const buttonEl =\n",
              "        document.querySelector('#df-55629b8a-2e6e-4512-b544-df1114ac43da button.colab-df-convert');\n",
              "      buttonEl.style.display =\n",
              "        google.colab.kernel.accessAllowed ? 'block' : 'none';\n",
              "\n",
              "      async function convertToInteractive(key) {\n",
              "        const element = document.querySelector('#df-55629b8a-2e6e-4512-b544-df1114ac43da');\n",
              "        const dataTable =\n",
              "          await google.colab.kernel.invokeFunction('convertToInteractive',\n",
              "                                                    [key], {});\n",
              "        if (!dataTable) return;\n",
              "\n",
              "        const docLinkHtml = 'Like what you see? Visit the ' +\n",
              "          '<a target=\"_blank\" href=https://colab.research.google.com/notebooks/data_table.ipynb>data table notebook</a>'\n",
              "          + ' to learn more about interactive tables.';\n",
              "        element.innerHTML = '';\n",
              "        dataTable['output_type'] = 'display_data';\n",
              "        await google.colab.output.renderOutput(dataTable, element);\n",
              "        const docLink = document.createElement('div');\n",
              "        docLink.innerHTML = docLinkHtml;\n",
              "        element.appendChild(docLink);\n",
              "      }\n",
              "    </script>\n",
              "  </div>\n",
              "\n",
              "\n",
              "<div id=\"df-cf6adf28-9ebf-422c-b34a-97ef57de5d59\">\n",
              "  <button class=\"colab-df-quickchart\" onclick=\"quickchart('df-cf6adf28-9ebf-422c-b34a-97ef57de5d59')\"\n",
              "            title=\"Suggest charts\"\n",
              "            style=\"display:none;\">\n",
              "\n",
              "<svg xmlns=\"http://www.w3.org/2000/svg\" height=\"24px\"viewBox=\"0 0 24 24\"\n",
              "     width=\"24px\">\n",
              "    <g>\n",
              "        <path d=\"M19 3H5c-1.1 0-2 .9-2 2v14c0 1.1.9 2 2 2h14c1.1 0 2-.9 2-2V5c0-1.1-.9-2-2-2zM9 17H7v-7h2v7zm4 0h-2V7h2v10zm4 0h-2v-4h2v4z\"/>\n",
              "    </g>\n",
              "</svg>\n",
              "  </button>\n",
              "\n",
              "<style>\n",
              "  .colab-df-quickchart {\n",
              "      --bg-color: #E8F0FE;\n",
              "      --fill-color: #1967D2;\n",
              "      --hover-bg-color: #E2EBFA;\n",
              "      --hover-fill-color: #174EA6;\n",
              "      --disabled-fill-color: #AAA;\n",
              "      --disabled-bg-color: #DDD;\n",
              "  }\n",
              "\n",
              "  [theme=dark] .colab-df-quickchart {\n",
              "      --bg-color: #3B4455;\n",
              "      --fill-color: #D2E3FC;\n",
              "      --hover-bg-color: #434B5C;\n",
              "      --hover-fill-color: #FFFFFF;\n",
              "      --disabled-bg-color: #3B4455;\n",
              "      --disabled-fill-color: #666;\n",
              "  }\n",
              "\n",
              "  .colab-df-quickchart {\n",
              "    background-color: var(--bg-color);\n",
              "    border: none;\n",
              "    border-radius: 50%;\n",
              "    cursor: pointer;\n",
              "    display: none;\n",
              "    fill: var(--fill-color);\n",
              "    height: 32px;\n",
              "    padding: 0;\n",
              "    width: 32px;\n",
              "  }\n",
              "\n",
              "  .colab-df-quickchart:hover {\n",
              "    background-color: var(--hover-bg-color);\n",
              "    box-shadow: 0 1px 2px rgba(60, 64, 67, 0.3), 0 1px 3px 1px rgba(60, 64, 67, 0.15);\n",
              "    fill: var(--button-hover-fill-color);\n",
              "  }\n",
              "\n",
              "  .colab-df-quickchart-complete:disabled,\n",
              "  .colab-df-quickchart-complete:disabled:hover {\n",
              "    background-color: var(--disabled-bg-color);\n",
              "    fill: var(--disabled-fill-color);\n",
              "    box-shadow: none;\n",
              "  }\n",
              "\n",
              "  .colab-df-spinner {\n",
              "    border: 2px solid var(--fill-color);\n",
              "    border-color: transparent;\n",
              "    border-bottom-color: var(--fill-color);\n",
              "    animation:\n",
              "      spin 1s steps(1) infinite;\n",
              "  }\n",
              "\n",
              "  @keyframes spin {\n",
              "    0% {\n",
              "      border-color: transparent;\n",
              "      border-bottom-color: var(--fill-color);\n",
              "      border-left-color: var(--fill-color);\n",
              "    }\n",
              "    20% {\n",
              "      border-color: transparent;\n",
              "      border-left-color: var(--fill-color);\n",
              "      border-top-color: var(--fill-color);\n",
              "    }\n",
              "    30% {\n",
              "      border-color: transparent;\n",
              "      border-left-color: var(--fill-color);\n",
              "      border-top-color: var(--fill-color);\n",
              "      border-right-color: var(--fill-color);\n",
              "    }\n",
              "    40% {\n",
              "      border-color: transparent;\n",
              "      border-right-color: var(--fill-color);\n",
              "      border-top-color: var(--fill-color);\n",
              "    }\n",
              "    60% {\n",
              "      border-color: transparent;\n",
              "      border-right-color: var(--fill-color);\n",
              "    }\n",
              "    80% {\n",
              "      border-color: transparent;\n",
              "      border-right-color: var(--fill-color);\n",
              "      border-bottom-color: var(--fill-color);\n",
              "    }\n",
              "    90% {\n",
              "      border-color: transparent;\n",
              "      border-bottom-color: var(--fill-color);\n",
              "    }\n",
              "  }\n",
              "</style>\n",
              "\n",
              "  <script>\n",
              "    async function quickchart(key) {\n",
              "      const quickchartButtonEl =\n",
              "        document.querySelector('#' + key + ' button');\n",
              "      quickchartButtonEl.disabled = true;  // To prevent multiple clicks.\n",
              "      quickchartButtonEl.classList.add('colab-df-spinner');\n",
              "      try {\n",
              "        const charts = await google.colab.kernel.invokeFunction(\n",
              "            'suggestCharts', [key], {});\n",
              "      } catch (error) {\n",
              "        console.error('Error during call to suggestCharts:', error);\n",
              "      }\n",
              "      quickchartButtonEl.classList.remove('colab-df-spinner');\n",
              "      quickchartButtonEl.classList.add('colab-df-quickchart-complete');\n",
              "    }\n",
              "    (() => {\n",
              "      let quickchartButtonEl =\n",
              "        document.querySelector('#df-cf6adf28-9ebf-422c-b34a-97ef57de5d59 button');\n",
              "      quickchartButtonEl.style.display =\n",
              "        google.colab.kernel.accessAllowed ? 'block' : 'none';\n",
              "    })();\n",
              "  </script>\n",
              "</div>\n",
              "    </div>\n",
              "  </div>\n"
            ],
            "application/vnd.google.colaboratory.intrinsic+json": {
              "type": "dataframe",
              "variable_name": "df",
              "summary": "{\n  \"name\": \"df\",\n  \"rows\": 5470,\n  \"fields\": [\n    {\n      \"column\": \"name\",\n      \"properties\": {\n        \"dtype\": \"category\",\n        \"num_unique_values\": 2163,\n        \"samples\": [\n          \"Summus \\u0432 \\u043f\\u043e\\u0434\\u0430\\u0440\\u043e\\u0447\\u043d\\u043e\\u0439 \\u0443\\u043f\\u0430\\u043a\\u043e\\u0432\\u043a\\u0435\",\n          \"Pomino Bianco\",\n          \"Pinot de Saint Pierre\"\n        ],\n        \"semantic_type\": \"\",\n        \"description\": \"\"\n      }\n    },\n    {\n      \"column\": \"country\",\n      \"properties\": {\n        \"dtype\": \"category\",\n        \"num_unique_values\": 20,\n        \"samples\": [\n          \"\\u042e\\u0436\\u043d\\u0430\\u044f \\u0410\\u0444\\u0440\\u0438\\u043a\\u0430\",\n          \"\\u0420\\u0435\\u0441\\u043f\\u0443\\u0431\\u043b\\u0438\\u043a\\u0430 \\u041c\\u043e\\u043b\\u0434\\u043e\\u0432\\u0430\",\n          \"\\u0421\\u043e\\u0435\\u0434\\u0438\\u043d\\u0435\\u043d\\u043d\\u044b\\u0435 \\u0428\\u0442\\u0430\\u0442\\u044b \\u0410\\u043c\\u0435\\u0440\\u0438\\u043a\\u0438\"\n        ],\n        \"semantic_type\": \"\",\n        \"description\": \"\"\n      }\n    },\n    {\n      \"column\": \"color\",\n      \"properties\": {\n        \"dtype\": \"category\",\n        \"num_unique_values\": 3,\n        \"samples\": [\n          \"\\u043a\\u0440\\u0430\\u0441\\u043d\\u043e\\u0435\",\n          \"\\u0431\\u0435\\u043b\\u043e\\u0435\",\n          \"\\u0440\\u043e\\u0437\\u043e\\u0432\\u043e\\u0435\"\n        ],\n        \"semantic_type\": \"\",\n        \"description\": \"\"\n      }\n    },\n    {\n      \"column\": \"sugar\",\n      \"properties\": {\n        \"dtype\": \"category\",\n        \"num_unique_values\": 4,\n        \"samples\": [\n          \"\\u043f\\u043e\\u043b\\u0443\\u0441\\u0443\\u0445\\u043e\\u0435\",\n          \"\\u0441\\u043b\\u0430\\u0434\\u043a\\u043e\\u0435\",\n          \"\\u0441\\u0443\\u0445\\u043e\\u0435\"\n        ],\n        \"semantic_type\": \"\",\n        \"description\": \"\"\n      }\n    },\n    {\n      \"column\": \"volume\",\n      \"properties\": {\n        \"dtype\": \"number\",\n        \"std\": 0.3627832517891109,\n        \"min\": 0.187,\n        \"max\": 9.0,\n        \"num_unique_values\": 9,\n        \"samples\": [\n          5.0,\n          0.375,\n          0.187\n        ],\n        \"semantic_type\": \"\",\n        \"description\": \"\"\n      }\n    },\n    {\n      \"column\": \"manufacturer\",\n      \"properties\": {\n        \"dtype\": \"category\",\n        \"num_unique_values\": 518,\n        \"samples\": [\n          \"Coto de Gomariz\",\n          \"Bodegas Faustino\",\n          \"Frescobaldi\"\n        ],\n        \"semantic_type\": \"\",\n        \"description\": \"\"\n      }\n    },\n    {\n      \"column\": \"region\",\n      \"properties\": {\n        \"dtype\": \"category\",\n        \"num_unique_values\": 84,\n        \"samples\": [\n          \"\\u0412\\u0430\\u043b\\u0435\\u043d\\u0441\\u0438\\u044f\",\n          \"\\u0421\\u0442\\u0435\\u043b\\u043b\\u0435\\u043d\\u0431\\u043e\\u0448\",\n          \"\\u042d\\u043c\\u0438\\u043b\\u0438\\u044f-\\u0420\\u043e\\u043c\\u0430\\u043d\\u044c\\u044f\"\n        ],\n        \"semantic_type\": \"\",\n        \"description\": \"\"\n      }\n    },\n    {\n      \"column\": \"grape\",\n      \"properties\": {\n        \"dtype\": \"category\",\n        \"num_unique_values\": 939,\n        \"samples\": [\n          \"\\u0442\\u0440\\u0435\\u0431\\u0431\\u044c\\u044f\\u043d\\u043e 100%\",\n          \"\\u0433\\u0440\\u0435\\u043a\\u043e 100%\",\n          \"\\u0444\\u0443\\u0440\\u043c\\u0438\\u043d\\u0442 100%\"\n        ],\n        \"semantic_type\": \"\",\n        \"description\": \"\"\n      }\n    },\n    {\n      \"column\": \"year\",\n      \"properties\": {\n        \"dtype\": \"category\",\n        \"num_unique_values\": 36,\n        \"samples\": [\n          \"1997\\u00a0\\u0433.\",\n          \"2012\\u00a0\\u0433.\",\n          \"2001\\u00a0\\u0433.\"\n        ],\n        \"semantic_type\": \"\",\n        \"description\": \"\"\n      }\n    },\n    {\n      \"column\": \"price\",\n      \"properties\": {\n        \"dtype\": \"number\",\n        \"std\": 75194,\n        \"min\": 490,\n        \"max\": 1999990,\n        \"num_unique_values\": 329,\n        \"samples\": [\n          7990,\n          349990,\n          22990\n        ],\n        \"semantic_type\": \"\",\n        \"description\": \"\"\n      }\n    }\n  ]\n}"
            }
          },
          "metadata": {},
          "execution_count": 13
        }
      ]
    },
    {
      "cell_type": "markdown",
      "source": [
        "### **Преображение колонки year**"
      ],
      "metadata": {
        "id": "hspQ-WmsZ261"
      }
    },
    {
      "cell_type": "code",
      "source": [
        "def correct_year(value: str):\n",
        "    corrected = int(value.replace('\\xa0г.', ''))\n",
        "    return corrected"
      ],
      "metadata": {
        "id": "PHV1HJfCZ262"
      },
      "execution_count": 14,
      "outputs": []
    },
    {
      "cell_type": "code",
      "source": [
        "year_corrected = df['year'].map(correct_year)\n",
        "df['year'] = year_corrected\n",
        "df.head()"
      ],
      "metadata": {
        "colab": {
          "base_uri": "https://localhost:8080/",
          "height": 206
        },
        "outputId": "fa5a13c6-879e-4bd2-fc51-8d11333ce914",
        "id": "RBLaNswHZ263"
      },
      "execution_count": 15,
      "outputs": [
        {
          "output_type": "execute_result",
          "data": {
            "text/plain": [
              "                                  name       country    color      sugar  \\\n",
              "0                    Shiraz Mr Borio's  Южная Африка  красное      сухое   \n",
              "1       Gavi dei Gavi (Etichetta Nera)        Италия    белое      сухое   \n",
              "2  Красностоп Золотовский на Террасах         Россия  красное      сухое   \n",
              "3                Vermentino di Toscana        Италия    белое      сухое   \n",
              "4                            Pfefferer        Италия    белое  полусухое   \n",
              "\n",
              "   volume        manufacturer                 region               grape  \\\n",
              "0    0.75            Simonsig             Стелленбош          шираз 100%   \n",
              "1    0.75           La Scolca                Пьемонт        кортезе 100%   \n",
              "2    0.75              Сикоры                 Кубань     красностоп 100%   \n",
              "3    0.75  Fattoria del Cerro                Тоскана          верментино   \n",
              "4    0.75         Colterenzio  Трентино-Альто Адидже  мускат желтый 100%   \n",
              "\n",
              "   year  price  \n",
              "0  2020   2990  \n",
              "1  2022   5990  \n",
              "2  2018   5490  \n",
              "3  2022   2490  \n",
              "4  2023   2490  "
            ],
            "text/html": [
              "\n",
              "  <div id=\"df-58d09246-ff36-4493-b66a-eeb6706a03ca\" class=\"colab-df-container\">\n",
              "    <div>\n",
              "<style scoped>\n",
              "    .dataframe tbody tr th:only-of-type {\n",
              "        vertical-align: middle;\n",
              "    }\n",
              "\n",
              "    .dataframe tbody tr th {\n",
              "        vertical-align: top;\n",
              "    }\n",
              "\n",
              "    .dataframe thead th {\n",
              "        text-align: right;\n",
              "    }\n",
              "</style>\n",
              "<table border=\"1\" class=\"dataframe\">\n",
              "  <thead>\n",
              "    <tr style=\"text-align: right;\">\n",
              "      <th></th>\n",
              "      <th>name</th>\n",
              "      <th>country</th>\n",
              "      <th>color</th>\n",
              "      <th>sugar</th>\n",
              "      <th>volume</th>\n",
              "      <th>manufacturer</th>\n",
              "      <th>region</th>\n",
              "      <th>grape</th>\n",
              "      <th>year</th>\n",
              "      <th>price</th>\n",
              "    </tr>\n",
              "  </thead>\n",
              "  <tbody>\n",
              "    <tr>\n",
              "      <th>0</th>\n",
              "      <td>Shiraz Mr Borio's</td>\n",
              "      <td>Южная Африка</td>\n",
              "      <td>красное</td>\n",
              "      <td>сухое</td>\n",
              "      <td>0.75</td>\n",
              "      <td>Simonsig</td>\n",
              "      <td>Стелленбош</td>\n",
              "      <td>шираз 100%</td>\n",
              "      <td>2020</td>\n",
              "      <td>2990</td>\n",
              "    </tr>\n",
              "    <tr>\n",
              "      <th>1</th>\n",
              "      <td>Gavi dei Gavi (Etichetta Nera)</td>\n",
              "      <td>Италия</td>\n",
              "      <td>белое</td>\n",
              "      <td>сухое</td>\n",
              "      <td>0.75</td>\n",
              "      <td>La Scolca</td>\n",
              "      <td>Пьемонт</td>\n",
              "      <td>кортезе 100%</td>\n",
              "      <td>2022</td>\n",
              "      <td>5990</td>\n",
              "    </tr>\n",
              "    <tr>\n",
              "      <th>2</th>\n",
              "      <td>Красностоп Золотовский на Террасах</td>\n",
              "      <td>Россия</td>\n",
              "      <td>красное</td>\n",
              "      <td>сухое</td>\n",
              "      <td>0.75</td>\n",
              "      <td>Сикоры</td>\n",
              "      <td>Кубань</td>\n",
              "      <td>красностоп 100%</td>\n",
              "      <td>2018</td>\n",
              "      <td>5490</td>\n",
              "    </tr>\n",
              "    <tr>\n",
              "      <th>3</th>\n",
              "      <td>Vermentino di Toscana</td>\n",
              "      <td>Италия</td>\n",
              "      <td>белое</td>\n",
              "      <td>сухое</td>\n",
              "      <td>0.75</td>\n",
              "      <td>Fattoria del Cerro</td>\n",
              "      <td>Тоскана</td>\n",
              "      <td>верментино</td>\n",
              "      <td>2022</td>\n",
              "      <td>2490</td>\n",
              "    </tr>\n",
              "    <tr>\n",
              "      <th>4</th>\n",
              "      <td>Pfefferer</td>\n",
              "      <td>Италия</td>\n",
              "      <td>белое</td>\n",
              "      <td>полусухое</td>\n",
              "      <td>0.75</td>\n",
              "      <td>Colterenzio</td>\n",
              "      <td>Трентино-Альто Адидже</td>\n",
              "      <td>мускат желтый 100%</td>\n",
              "      <td>2023</td>\n",
              "      <td>2490</td>\n",
              "    </tr>\n",
              "  </tbody>\n",
              "</table>\n",
              "</div>\n",
              "    <div class=\"colab-df-buttons\">\n",
              "\n",
              "  <div class=\"colab-df-container\">\n",
              "    <button class=\"colab-df-convert\" onclick=\"convertToInteractive('df-58d09246-ff36-4493-b66a-eeb6706a03ca')\"\n",
              "            title=\"Convert this dataframe to an interactive table.\"\n",
              "            style=\"display:none;\">\n",
              "\n",
              "  <svg xmlns=\"http://www.w3.org/2000/svg\" height=\"24px\" viewBox=\"0 -960 960 960\">\n",
              "    <path d=\"M120-120v-720h720v720H120Zm60-500h600v-160H180v160Zm220 220h160v-160H400v160Zm0 220h160v-160H400v160ZM180-400h160v-160H180v160Zm440 0h160v-160H620v160ZM180-180h160v-160H180v160Zm440 0h160v-160H620v160Z\"/>\n",
              "  </svg>\n",
              "    </button>\n",
              "\n",
              "  <style>\n",
              "    .colab-df-container {\n",
              "      display:flex;\n",
              "      gap: 12px;\n",
              "    }\n",
              "\n",
              "    .colab-df-convert {\n",
              "      background-color: #E8F0FE;\n",
              "      border: none;\n",
              "      border-radius: 50%;\n",
              "      cursor: pointer;\n",
              "      display: none;\n",
              "      fill: #1967D2;\n",
              "      height: 32px;\n",
              "      padding: 0 0 0 0;\n",
              "      width: 32px;\n",
              "    }\n",
              "\n",
              "    .colab-df-convert:hover {\n",
              "      background-color: #E2EBFA;\n",
              "      box-shadow: 0px 1px 2px rgba(60, 64, 67, 0.3), 0px 1px 3px 1px rgba(60, 64, 67, 0.15);\n",
              "      fill: #174EA6;\n",
              "    }\n",
              "\n",
              "    .colab-df-buttons div {\n",
              "      margin-bottom: 4px;\n",
              "    }\n",
              "\n",
              "    [theme=dark] .colab-df-convert {\n",
              "      background-color: #3B4455;\n",
              "      fill: #D2E3FC;\n",
              "    }\n",
              "\n",
              "    [theme=dark] .colab-df-convert:hover {\n",
              "      background-color: #434B5C;\n",
              "      box-shadow: 0px 1px 3px 1px rgba(0, 0, 0, 0.15);\n",
              "      filter: drop-shadow(0px 1px 2px rgba(0, 0, 0, 0.3));\n",
              "      fill: #FFFFFF;\n",
              "    }\n",
              "  </style>\n",
              "\n",
              "    <script>\n",
              "      const buttonEl =\n",
              "        document.querySelector('#df-58d09246-ff36-4493-b66a-eeb6706a03ca button.colab-df-convert');\n",
              "      buttonEl.style.display =\n",
              "        google.colab.kernel.accessAllowed ? 'block' : 'none';\n",
              "\n",
              "      async function convertToInteractive(key) {\n",
              "        const element = document.querySelector('#df-58d09246-ff36-4493-b66a-eeb6706a03ca');\n",
              "        const dataTable =\n",
              "          await google.colab.kernel.invokeFunction('convertToInteractive',\n",
              "                                                    [key], {});\n",
              "        if (!dataTable) return;\n",
              "\n",
              "        const docLinkHtml = 'Like what you see? Visit the ' +\n",
              "          '<a target=\"_blank\" href=https://colab.research.google.com/notebooks/data_table.ipynb>data table notebook</a>'\n",
              "          + ' to learn more about interactive tables.';\n",
              "        element.innerHTML = '';\n",
              "        dataTable['output_type'] = 'display_data';\n",
              "        await google.colab.output.renderOutput(dataTable, element);\n",
              "        const docLink = document.createElement('div');\n",
              "        docLink.innerHTML = docLinkHtml;\n",
              "        element.appendChild(docLink);\n",
              "      }\n",
              "    </script>\n",
              "  </div>\n",
              "\n",
              "\n",
              "<div id=\"df-3f849a07-ada0-49b8-b5a5-1a01634b813b\">\n",
              "  <button class=\"colab-df-quickchart\" onclick=\"quickchart('df-3f849a07-ada0-49b8-b5a5-1a01634b813b')\"\n",
              "            title=\"Suggest charts\"\n",
              "            style=\"display:none;\">\n",
              "\n",
              "<svg xmlns=\"http://www.w3.org/2000/svg\" height=\"24px\"viewBox=\"0 0 24 24\"\n",
              "     width=\"24px\">\n",
              "    <g>\n",
              "        <path d=\"M19 3H5c-1.1 0-2 .9-2 2v14c0 1.1.9 2 2 2h14c1.1 0 2-.9 2-2V5c0-1.1-.9-2-2-2zM9 17H7v-7h2v7zm4 0h-2V7h2v10zm4 0h-2v-4h2v4z\"/>\n",
              "    </g>\n",
              "</svg>\n",
              "  </button>\n",
              "\n",
              "<style>\n",
              "  .colab-df-quickchart {\n",
              "      --bg-color: #E8F0FE;\n",
              "      --fill-color: #1967D2;\n",
              "      --hover-bg-color: #E2EBFA;\n",
              "      --hover-fill-color: #174EA6;\n",
              "      --disabled-fill-color: #AAA;\n",
              "      --disabled-bg-color: #DDD;\n",
              "  }\n",
              "\n",
              "  [theme=dark] .colab-df-quickchart {\n",
              "      --bg-color: #3B4455;\n",
              "      --fill-color: #D2E3FC;\n",
              "      --hover-bg-color: #434B5C;\n",
              "      --hover-fill-color: #FFFFFF;\n",
              "      --disabled-bg-color: #3B4455;\n",
              "      --disabled-fill-color: #666;\n",
              "  }\n",
              "\n",
              "  .colab-df-quickchart {\n",
              "    background-color: var(--bg-color);\n",
              "    border: none;\n",
              "    border-radius: 50%;\n",
              "    cursor: pointer;\n",
              "    display: none;\n",
              "    fill: var(--fill-color);\n",
              "    height: 32px;\n",
              "    padding: 0;\n",
              "    width: 32px;\n",
              "  }\n",
              "\n",
              "  .colab-df-quickchart:hover {\n",
              "    background-color: var(--hover-bg-color);\n",
              "    box-shadow: 0 1px 2px rgba(60, 64, 67, 0.3), 0 1px 3px 1px rgba(60, 64, 67, 0.15);\n",
              "    fill: var(--button-hover-fill-color);\n",
              "  }\n",
              "\n",
              "  .colab-df-quickchart-complete:disabled,\n",
              "  .colab-df-quickchart-complete:disabled:hover {\n",
              "    background-color: var(--disabled-bg-color);\n",
              "    fill: var(--disabled-fill-color);\n",
              "    box-shadow: none;\n",
              "  }\n",
              "\n",
              "  .colab-df-spinner {\n",
              "    border: 2px solid var(--fill-color);\n",
              "    border-color: transparent;\n",
              "    border-bottom-color: var(--fill-color);\n",
              "    animation:\n",
              "      spin 1s steps(1) infinite;\n",
              "  }\n",
              "\n",
              "  @keyframes spin {\n",
              "    0% {\n",
              "      border-color: transparent;\n",
              "      border-bottom-color: var(--fill-color);\n",
              "      border-left-color: var(--fill-color);\n",
              "    }\n",
              "    20% {\n",
              "      border-color: transparent;\n",
              "      border-left-color: var(--fill-color);\n",
              "      border-top-color: var(--fill-color);\n",
              "    }\n",
              "    30% {\n",
              "      border-color: transparent;\n",
              "      border-left-color: var(--fill-color);\n",
              "      border-top-color: var(--fill-color);\n",
              "      border-right-color: var(--fill-color);\n",
              "    }\n",
              "    40% {\n",
              "      border-color: transparent;\n",
              "      border-right-color: var(--fill-color);\n",
              "      border-top-color: var(--fill-color);\n",
              "    }\n",
              "    60% {\n",
              "      border-color: transparent;\n",
              "      border-right-color: var(--fill-color);\n",
              "    }\n",
              "    80% {\n",
              "      border-color: transparent;\n",
              "      border-right-color: var(--fill-color);\n",
              "      border-bottom-color: var(--fill-color);\n",
              "    }\n",
              "    90% {\n",
              "      border-color: transparent;\n",
              "      border-bottom-color: var(--fill-color);\n",
              "    }\n",
              "  }\n",
              "</style>\n",
              "\n",
              "  <script>\n",
              "    async function quickchart(key) {\n",
              "      const quickchartButtonEl =\n",
              "        document.querySelector('#' + key + ' button');\n",
              "      quickchartButtonEl.disabled = true;  // To prevent multiple clicks.\n",
              "      quickchartButtonEl.classList.add('colab-df-spinner');\n",
              "      try {\n",
              "        const charts = await google.colab.kernel.invokeFunction(\n",
              "            'suggestCharts', [key], {});\n",
              "      } catch (error) {\n",
              "        console.error('Error during call to suggestCharts:', error);\n",
              "      }\n",
              "      quickchartButtonEl.classList.remove('colab-df-spinner');\n",
              "      quickchartButtonEl.classList.add('colab-df-quickchart-complete');\n",
              "    }\n",
              "    (() => {\n",
              "      let quickchartButtonEl =\n",
              "        document.querySelector('#df-3f849a07-ada0-49b8-b5a5-1a01634b813b button');\n",
              "      quickchartButtonEl.style.display =\n",
              "        google.colab.kernel.accessAllowed ? 'block' : 'none';\n",
              "    })();\n",
              "  </script>\n",
              "</div>\n",
              "    </div>\n",
              "  </div>\n"
            ],
            "application/vnd.google.colaboratory.intrinsic+json": {
              "type": "dataframe",
              "variable_name": "df",
              "summary": "{\n  \"name\": \"df\",\n  \"rows\": 5470,\n  \"fields\": [\n    {\n      \"column\": \"name\",\n      \"properties\": {\n        \"dtype\": \"category\",\n        \"num_unique_values\": 2163,\n        \"samples\": [\n          \"Summus \\u0432 \\u043f\\u043e\\u0434\\u0430\\u0440\\u043e\\u0447\\u043d\\u043e\\u0439 \\u0443\\u043f\\u0430\\u043a\\u043e\\u0432\\u043a\\u0435\",\n          \"Pomino Bianco\",\n          \"Pinot de Saint Pierre\"\n        ],\n        \"semantic_type\": \"\",\n        \"description\": \"\"\n      }\n    },\n    {\n      \"column\": \"country\",\n      \"properties\": {\n        \"dtype\": \"category\",\n        \"num_unique_values\": 20,\n        \"samples\": [\n          \"\\u042e\\u0436\\u043d\\u0430\\u044f \\u0410\\u0444\\u0440\\u0438\\u043a\\u0430\",\n          \"\\u0420\\u0435\\u0441\\u043f\\u0443\\u0431\\u043b\\u0438\\u043a\\u0430 \\u041c\\u043e\\u043b\\u0434\\u043e\\u0432\\u0430\",\n          \"\\u0421\\u043e\\u0435\\u0434\\u0438\\u043d\\u0435\\u043d\\u043d\\u044b\\u0435 \\u0428\\u0442\\u0430\\u0442\\u044b \\u0410\\u043c\\u0435\\u0440\\u0438\\u043a\\u0438\"\n        ],\n        \"semantic_type\": \"\",\n        \"description\": \"\"\n      }\n    },\n    {\n      \"column\": \"color\",\n      \"properties\": {\n        \"dtype\": \"category\",\n        \"num_unique_values\": 3,\n        \"samples\": [\n          \"\\u043a\\u0440\\u0430\\u0441\\u043d\\u043e\\u0435\",\n          \"\\u0431\\u0435\\u043b\\u043e\\u0435\",\n          \"\\u0440\\u043e\\u0437\\u043e\\u0432\\u043e\\u0435\"\n        ],\n        \"semantic_type\": \"\",\n        \"description\": \"\"\n      }\n    },\n    {\n      \"column\": \"sugar\",\n      \"properties\": {\n        \"dtype\": \"category\",\n        \"num_unique_values\": 4,\n        \"samples\": [\n          \"\\u043f\\u043e\\u043b\\u0443\\u0441\\u0443\\u0445\\u043e\\u0435\",\n          \"\\u0441\\u043b\\u0430\\u0434\\u043a\\u043e\\u0435\",\n          \"\\u0441\\u0443\\u0445\\u043e\\u0435\"\n        ],\n        \"semantic_type\": \"\",\n        \"description\": \"\"\n      }\n    },\n    {\n      \"column\": \"volume\",\n      \"properties\": {\n        \"dtype\": \"number\",\n        \"std\": 0.3627832517891109,\n        \"min\": 0.187,\n        \"max\": 9.0,\n        \"num_unique_values\": 9,\n        \"samples\": [\n          5.0,\n          0.375,\n          0.187\n        ],\n        \"semantic_type\": \"\",\n        \"description\": \"\"\n      }\n    },\n    {\n      \"column\": \"manufacturer\",\n      \"properties\": {\n        \"dtype\": \"category\",\n        \"num_unique_values\": 518,\n        \"samples\": [\n          \"Coto de Gomariz\",\n          \"Bodegas Faustino\",\n          \"Frescobaldi\"\n        ],\n        \"semantic_type\": \"\",\n        \"description\": \"\"\n      }\n    },\n    {\n      \"column\": \"region\",\n      \"properties\": {\n        \"dtype\": \"category\",\n        \"num_unique_values\": 84,\n        \"samples\": [\n          \"\\u0412\\u0430\\u043b\\u0435\\u043d\\u0441\\u0438\\u044f\",\n          \"\\u0421\\u0442\\u0435\\u043b\\u043b\\u0435\\u043d\\u0431\\u043e\\u0448\",\n          \"\\u042d\\u043c\\u0438\\u043b\\u0438\\u044f-\\u0420\\u043e\\u043c\\u0430\\u043d\\u044c\\u044f\"\n        ],\n        \"semantic_type\": \"\",\n        \"description\": \"\"\n      }\n    },\n    {\n      \"column\": \"grape\",\n      \"properties\": {\n        \"dtype\": \"category\",\n        \"num_unique_values\": 939,\n        \"samples\": [\n          \"\\u0442\\u0440\\u0435\\u0431\\u0431\\u044c\\u044f\\u043d\\u043e 100%\",\n          \"\\u0433\\u0440\\u0435\\u043a\\u043e 100%\",\n          \"\\u0444\\u0443\\u0440\\u043c\\u0438\\u043d\\u0442 100%\"\n        ],\n        \"semantic_type\": \"\",\n        \"description\": \"\"\n      }\n    },\n    {\n      \"column\": \"year\",\n      \"properties\": {\n        \"dtype\": \"number\",\n        \"std\": 4,\n        \"min\": 1981,\n        \"max\": 2023,\n        \"num_unique_values\": 36,\n        \"samples\": [\n          1997,\n          2012,\n          2001\n        ],\n        \"semantic_type\": \"\",\n        \"description\": \"\"\n      }\n    },\n    {\n      \"column\": \"price\",\n      \"properties\": {\n        \"dtype\": \"number\",\n        \"std\": 75194,\n        \"min\": 490,\n        \"max\": 1999990,\n        \"num_unique_values\": 329,\n        \"samples\": [\n          7990,\n          349990,\n          22990\n        ],\n        \"semantic_type\": \"\",\n        \"description\": \"\"\n      }\n    }\n  ]\n}"
            }
          },
          "metadata": {},
          "execution_count": 15
        }
      ]
    },
    {
      "cell_type": "markdown",
      "source": [
        "### Анализ преобразованных данных"
      ],
      "metadata": {
        "id": "g0iWYJCmX0-V"
      }
    },
    {
      "cell_type": "markdown",
      "source": [
        "Посмотрим, что осталось от изначальных данных."
      ],
      "metadata": {
        "id": "F5aiFJE7Z264"
      }
    },
    {
      "cell_type": "code",
      "source": [
        "df.shape"
      ],
      "metadata": {
        "colab": {
          "base_uri": "https://localhost:8080/"
        },
        "id": "6N6BQd6bb3BX",
        "outputId": "1151121d-ec25-448b-840b-1601014b636d"
      },
      "execution_count": 16,
      "outputs": [
        {
          "output_type": "execute_result",
          "data": {
            "text/plain": [
              "(5470, 10)"
            ]
          },
          "metadata": {},
          "execution_count": 16
        }
      ]
    },
    {
      "cell_type": "markdown",
      "source": [
        "В преобразованном датасете 5470 вин."
      ],
      "metadata": {
        "id": "e1IkE1ltb6G_"
      }
    },
    {
      "cell_type": "code",
      "source": [
        "unique_country = df['country'].nunique()\n",
        "print(\"Количество стран производства вина:\", unique_country)\n",
        "unique_manufacturer = df['manufacturer'].nunique()\n",
        "print(\"Количество уникальных производителей вина:\", unique_manufacturer)\n",
        "unique_year = df['year'].nunique()\n",
        "print(f\"Датасет охватывает бутылки вина, произведенные в {unique_year} разных годах\")\n",
        "\n",
        "print('\\n')\n",
        "unique_color = df['color'].value_counts()\n",
        "print(\"Виды вина по цвету:\", unique_color)\n",
        "\n",
        "print('\\n')\n",
        "unique_sugar = df['sugar'].value_counts()\n",
        "print(\"Виды вина по сладости:\", unique_sugar)\n",
        "\n",
        "print('\\n')\n",
        "unique_volume = df['volume'].value_counts()\n",
        "print(\"Возможные объёмы бутылки вина:\", unique_volume)"
      ],
      "metadata": {
        "colab": {
          "base_uri": "https://localhost:8080/"
        },
        "outputId": "03b94edb-1b38-4004-b90a-302f13e10eb2",
        "id": "f87YtZNKZ264"
      },
      "execution_count": 17,
      "outputs": [
        {
          "output_type": "stream",
          "name": "stdout",
          "text": [
            "Количество стран производства вина: 20\n",
            "Количество уникальных производителей вина: 518\n",
            "Датасет охватывает бутылки вина, произведенные в 36 разных годах\n",
            "\n",
            "\n",
            "Виды вина по цвету: color\n",
            "красное    3257\n",
            "белое      2042\n",
            "розовое     171\n",
            "Name: count, dtype: int64\n",
            "\n",
            "\n",
            "Виды вина по сладости: sugar\n",
            "сухое          4795\n",
            "полусухое       534\n",
            "сладкое          86\n",
            "полусладкое      55\n",
            "Name: count, dtype: int64\n",
            "\n",
            "\n",
            "Возможные объёмы бутылки вина: volume\n",
            "0.750    4887\n",
            "1.500     322\n",
            "0.375     184\n",
            "3.000      47\n",
            "0.500      16\n",
            "0.187       5\n",
            "5.000       4\n",
            "6.000       3\n",
            "9.000       2\n",
            "Name: count, dtype: int64\n"
          ]
        }
      ]
    },
    {
      "cell_type": "markdown",
      "source": [
        "## Шаг 4. Визуализация"
      ],
      "metadata": {
        "id": "vvuQlZvZjtbI"
      }
    },
    {
      "cell_type": "markdown",
      "source": [
        "### Данные по объему вина"
      ],
      "metadata": {
        "id": "dQLcudTMOhZ2"
      }
    },
    {
      "cell_type": "code",
      "source": [
        "unique_volume = df['volume'].value_counts()\n",
        "print(\"Возможные объёмы бутылки вина:\", unique_volume)"
      ],
      "metadata": {
        "colab": {
          "base_uri": "https://localhost:8080/"
        },
        "id": "JxnOW2L4eMEJ",
        "outputId": "c1d723d6-ce08-429f-a312-6ffadcfd72df"
      },
      "execution_count": 18,
      "outputs": [
        {
          "output_type": "stream",
          "name": "stdout",
          "text": [
            "Возможные объёмы бутылки вина: volume\n",
            "0.750    4887\n",
            "1.500     322\n",
            "0.375     184\n",
            "3.000      47\n",
            "0.500      16\n",
            "0.187       5\n",
            "5.000       4\n",
            "6.000       3\n",
            "9.000       2\n",
            "Name: count, dtype: int64\n"
          ]
        }
      ]
    },
    {
      "cell_type": "markdown",
      "source": [
        "Как можно заметить, вина некоторых объёмов встречаются в данных очень редко. Построим столбчатую диаграмму для объёмов вин, встречающихся в данных более 100 раз."
      ],
      "metadata": {
        "id": "lC3eG7u1evNo"
      }
    },
    {
      "cell_type": "code",
      "source": [
        "mask = unique_volume.values > 100\n",
        "x = unique_volume.index[mask]\n",
        "y = unique_volume.values[mask]\n",
        "\n",
        "plt.bar(x, y, width=0.3, color='darkred', edgecolor='black')\n",
        "plt.title(f'Распределение вин по объёму (без учёта выбросов)')\n",
        "plt.xlabel('Объем бутылки в литрах')\n",
        "plt.ylabel('Частота')\n",
        "plt.xticks(list(map(lambda x: round(x, 2), x)))\n",
        "plt.show()"
      ],
      "metadata": {
        "colab": {
          "base_uri": "https://localhost:8080/",
          "height": 472
        },
        "id": "H2tzkxz-ejcJ",
        "outputId": "1c94e6dd-1801-4807-f256-249325f7cd28"
      },
      "execution_count": 19,
      "outputs": [
        {
          "output_type": "display_data",
          "data": {
            "text/plain": [
              "<Figure size 640x480 with 1 Axes>"
            ],
            "image/png": "[encoded data removed]"
          },
          "metadata": {}
        }
      ]
    },
    {
      "cell_type": "markdown",
      "source": [
        "По диаграмме можно сказать, что на сайте simplewine.ru в основном представлены бутылки вина объемом 0.75 литра."
      ],
      "metadata": {
        "id": "fRt1O73g1gls"
      }
    },
    {
      "cell_type": "markdown",
      "source": [
        "### Данные по типу вина"
      ],
      "metadata": {
        "id": "pneuT2-mOpap"
      }
    },
    {
      "cell_type": "code",
      "source": [
        "x = df.color.value_counts().index\n",
        "y = df.color.value_counts().values\n",
        "\n",
        "plt.bar(x, y, width=0.5, color=['darkred', 'lightyellow', 'pink'], edgecolor='black')\n",
        "plt.title(f'Распределение вин по цвету')\n",
        "plt.xlabel('Цвет')\n",
        "plt.ylabel('Частота')\n",
        "plt.show()"
      ],
      "metadata": {
        "colab": {
          "base_uri": "https://localhost:8080/",
          "height": 472
        },
        "id": "dEpVCdgHOuDh",
        "outputId": "552e459c-43bb-48dc-95e0-d0a44b7ed471"
      },
      "execution_count": 20,
      "outputs": [
        {
          "output_type": "display_data",
          "data": {
            "text/plain": [
              "<Figure size 640x480 with 1 Axes>"
            ],
            "image/png": "[encoded data removed]"
          },
          "metadata": {}
        }
      ]
    },
    {
      "cell_type": "markdown",
      "source": [
        "На гистограмме видно, что больше половины выборки приходится на красные вина. Белые вина также представлены в довольно большом объеме, меньше всего разновидностей розового вина."
      ],
      "metadata": {
        "id": "pz-hUb3HU4_t"
      }
    },
    {
      "cell_type": "markdown",
      "source": [
        "### Данные по годам"
      ],
      "metadata": {
        "id": "otZEt2g9dHbV"
      }
    },
    {
      "cell_type": "code",
      "source": [
        "plt.hist(df.year, bins=df.year.nunique(), color='green', edgecolor='darkgreen')\n",
        "plt.title(f'Распределение вин по году производства')\n",
        "plt.xlabel('Год производства')\n",
        "plt.ylabel('Количество бутылок')\n",
        "plt.xticks(df.year.unique(), rotation=60, fontsize=8)\n",
        "\n",
        "plt.show()"
      ],
      "metadata": {
        "colab": {
          "base_uri": "https://localhost:8080/",
          "height": 487
        },
        "id": "0Pi7EPCOOuIN",
        "outputId": "7871b318-97a8-46c9-df52-2b6f8f903897"
      },
      "execution_count": 21,
      "outputs": [
        {
          "output_type": "display_data",
          "data": {
            "text/plain": [
              "<Figure size 640x480 with 1 Axes>"
            ],
            "image/png": "[encoded data removed]"
          },
          "metadata": {}
        }
      ]
    },
    {
      "cell_type": "markdown",
      "source": [
        "По данным видно, что большая часть представленных вин произведены не ранее 2016 года. Однако в каталоге встречаются и весьма старые вина, но их немного.\n",
        "\n"
      ],
      "metadata": {
        "id": "FnHLYY3t53eV"
      }
    },
    {
      "cell_type": "markdown",
      "source": [
        "### Данные по стране производства"
      ],
      "metadata": {
        "id": "GDI0aVfJVVJZ"
      }
    },
    {
      "cell_type": "code",
      "source": [
        "df.country.value_counts().plot.barh(color=sns.color_palette('Paired', len(x)))\n",
        "plt.title(f'Распределение вин по стране-производителю')\n",
        "plt.xlabel('Частота')\n",
        "plt.ylabel('Страна')\n",
        "plt.show()\n",
        "\n",
        "plt.show()"
      ],
      "metadata": {
        "colab": {
          "base_uri": "https://localhost:8080/",
          "height": 472
        },
        "id": "CGO5gxpbOuSI",
        "outputId": "ffd83fc6-ce36-4d92-b18f-f51a916f3749"
      },
      "execution_count": 22,
      "outputs": [
        {
          "output_type": "display_data",
          "data": {
            "text/plain": [
              "<Figure size 640x480 with 1 Axes>"
            ],
            "image/png": "[encoded data removed]"
          },
          "metadata": {}
        }
      ]
    },
    {
      "cell_type": "markdown",
      "source": [
        "Можно заметить, что две страны особо выделяются на фоне остальных. Это Италия и Франция. В последующем мы постоим гистрограмму для континетов. Предсказуемо, Европа будет лидировать."
      ],
      "metadata": {
        "id": "Bu-NNj4iWGVp"
      }
    },
    {
      "cell_type": "markdown",
      "source": [
        "### Данные о сладости вина"
      ],
      "metadata": {
        "id": "YtE_hFAaW6iq"
      }
    },
    {
      "cell_type": "code",
      "source": [
        "df.sugar.value_counts().plot.bar(color=['green', 'orange',\n",
        "                                        'blue', 'purple'], edgecolor='black')\n",
        "plt.title(f'Распределение вин по сладости')\n",
        "plt.xlabel('Сладость')\n",
        "plt.ylabel('Частота')\n",
        "plt.show()"
      ],
      "metadata": {
        "colab": {
          "base_uri": "https://localhost:8080/",
          "height": 553
        },
        "id": "BYLe6ZQz-z3w",
        "outputId": "bafb5d76-d30d-403e-9fde-416cdabb18d1"
      },
      "execution_count": 23,
      "outputs": [
        {
          "output_type": "display_data",
          "data": {
            "text/plain": [
              "<Figure size 640x480 with 1 Axes>"
            ],
            "image/png": "[encoded data removed]"
          },
          "metadata": {}
        }
      ]
    },
    {
      "cell_type": "markdown",
      "source": [
        "Как можно увидеть выборка в основном представлена сухими винами."
      ],
      "metadata": {
        "id": "6Ui01-ecy--3"
      }
    },
    {
      "cell_type": "markdown",
      "source": [
        "### Обработка выбросов в цене"
      ],
      "metadata": {
        "id": "fSuSlfdfHSOu"
      }
    },
    {
      "cell_type": "code",
      "source": [
        "price_info = df.describe().price"
      ],
      "metadata": {
        "id": "s3UjdzNBG80j"
      },
      "execution_count": 24,
      "outputs": []
    },
    {
      "cell_type": "code",
      "source": [
        "price_info['75%']"
      ],
      "metadata": {
        "colab": {
          "base_uri": "https://localhost:8080/"
        },
        "id": "1NvBS814HbHl",
        "outputId": "d36afb74-d0e8-4272-d53c-f5c6e142a192"
      },
      "execution_count": 25,
      "outputs": [
        {
          "output_type": "execute_result",
          "data": {
            "text/plain": [
              "17490.0"
            ]
          },
          "metadata": {},
          "execution_count": 25
        }
      ]
    },
    {
      "cell_type": "markdown",
      "source": [
        "В исследуемой выборке 75 % вин стоят не дороже 17490 руб."
      ],
      "metadata": {
        "id": "pbXqiowBHW0d"
      }
    },
    {
      "cell_type": "code",
      "source": [
        "price_info['max']"
      ],
      "metadata": {
        "colab": {
          "base_uri": "https://localhost:8080/"
        },
        "id": "vk6Q4bbbH3CR",
        "outputId": "b3e4c7f5-06d2-4299-81b1-05f59e3617c0"
      },
      "execution_count": 26,
      "outputs": [
        {
          "output_type": "execute_result",
          "data": {
            "text/plain": [
              "1999990.0"
            ]
          },
          "metadata": {},
          "execution_count": 26
        }
      ]
    },
    {
      "cell_type": "code",
      "source": [
        "df[df.price == price_info['max']]"
      ],
      "metadata": {
        "colab": {
          "base_uri": "https://localhost:8080/",
          "height": 81
        },
        "id": "r5bL8xO-JZ70",
        "outputId": "5c18dc44-ba0c-4757-b775-475e69c9867d"
      },
      "execution_count": 27,
      "outputs": [
        {
          "output_type": "execute_result",
          "data": {
            "text/plain": [
              "          name country    color  sugar  volume      manufacturer   region  \\\n",
              "589  Sassicaia  Италия  красное  сухое     6.0  Tenuta San Guido  Тоскана   \n",
              "\n",
              "                                      grape  year    price  \n",
              "589  каберне совиньон 85%, каберне фран 15%  2018  1999990  "
            ],
            "text/html": [
              "\n",
              "  <div id=\"df-d7d64a86-1c93-461d-8786-88fb830fbdb0\" class=\"colab-df-container\">\n",
              "    <div>\n",
              "<style scoped>\n",
              "    .dataframe tbody tr th:only-of-type {\n",
              "        vertical-align: middle;\n",
              "    }\n",
              "\n",
              "    .dataframe tbody tr th {\n",
              "        vertical-align: top;\n",
              "    }\n",
              "\n",
              "    .dataframe thead th {\n",
              "        text-align: right;\n",
              "    }\n",
              "</style>\n",
              "<table border=\"1\" class=\"dataframe\">\n",
              "  <thead>\n",
              "    <tr style=\"text-align: right;\">\n",
              "      <th></th>\n",
              "      <th>name</th>\n",
              "      <th>country</th>\n",
              "      <th>color</th>\n",
              "      <th>sugar</th>\n",
              "      <th>volume</th>\n",
              "      <th>manufacturer</th>\n",
              "      <th>region</th>\n",
              "      <th>grape</th>\n",
              "      <th>year</th>\n",
              "      <th>price</th>\n",
              "    </tr>\n",
              "  </thead>\n",
              "  <tbody>\n",
              "    <tr>\n",
              "      <th>589</th>\n",
              "      <td>Sassicaia</td>\n",
              "      <td>Италия</td>\n",
              "      <td>красное</td>\n",
              "      <td>сухое</td>\n",
              "      <td>6.0</td>\n",
              "      <td>Tenuta San Guido</td>\n",
              "      <td>Тоскана</td>\n",
              "      <td>каберне совиньон 85%, каберне фран 15%</td>\n",
              "      <td>2018</td>\n",
              "      <td>1999990</td>\n",
              "    </tr>\n",
              "  </tbody>\n",
              "</table>\n",
              "</div>\n",
              "    <div class=\"colab-df-buttons\">\n",
              "\n",
              "  <div class=\"colab-df-container\">\n",
              "    <button class=\"colab-df-convert\" onclick=\"convertToInteractive('df-d7d64a86-1c93-461d-8786-88fb830fbdb0')\"\n",
              "            title=\"Convert this dataframe to an interactive table.\"\n",
              "            style=\"display:none;\">\n",
              "\n",
              "  <svg xmlns=\"http://www.w3.org/2000/svg\" height=\"24px\" viewBox=\"0 -960 960 960\">\n",
              "    <path d=\"M120-120v-720h720v720H120Zm60-500h600v-160H180v160Zm220 220h160v-160H400v160Zm0 220h160v-160H400v160ZM180-400h160v-160H180v160Zm440 0h160v-160H620v160ZM180-180h160v-160H180v160Zm440 0h160v-160H620v160Z\"/>\n",
              "  </svg>\n",
              "    </button>\n",
              "\n",
              "  <style>\n",
              "    .colab-df-container {\n",
              "      display:flex;\n",
              "      gap: 12px;\n",
              "    }\n",
              "\n",
              "    .colab-df-convert {\n",
              "      background-color: #E8F0FE;\n",
              "      border: none;\n",
              "      border-radius: 50%;\n",
              "      cursor: pointer;\n",
              "      display: none;\n",
              "      fill: #1967D2;\n",
              "      height: 32px;\n",
              "      padding: 0 0 0 0;\n",
              "      width: 32px;\n",
              "    }\n",
              "\n",
              "    .colab-df-convert:hover {\n",
              "      background-color: #E2EBFA;\n",
              "      box-shadow: 0px 1px 2px rgba(60, 64, 67, 0.3), 0px 1px 3px 1px rgba(60, 64, 67, 0.15);\n",
              "      fill: #174EA6;\n",
              "    }\n",
              "\n",
              "    .colab-df-buttons div {\n",
              "      margin-bottom: 4px;\n",
              "    }\n",
              "\n",
              "    [theme=dark] .colab-df-convert {\n",
              "      background-color: #3B4455;\n",
              "      fill: #D2E3FC;\n",
              "    }\n",
              "\n",
              "    [theme=dark] .colab-df-convert:hover {\n",
              "      background-color: #434B5C;\n",
              "      box-shadow: 0px 1px 3px 1px rgba(0, 0, 0, 0.15);\n",
              "      filter: drop-shadow(0px 1px 2px rgba(0, 0, 0, 0.3));\n",
              "      fill: #FFFFFF;\n",
              "    }\n",
              "  </style>\n",
              "\n",
              "    <script>\n",
              "      const buttonEl =\n",
              "        document.querySelector('#df-d7d64a86-1c93-461d-8786-88fb830fbdb0 button.colab-df-convert');\n",
              "      buttonEl.style.display =\n",
              "        google.colab.kernel.accessAllowed ? 'block' : 'none';\n",
              "\n",
              "      async function convertToInteractive(key) {\n",
              "        const element = document.querySelector('#df-d7d64a86-1c93-461d-8786-88fb830fbdb0');\n",
              "        const dataTable =\n",
              "          await google.colab.kernel.invokeFunction('convertToInteractive',\n",
              "                                                    [key], {});\n",
              "        if (!dataTable) return;\n",
              "\n",
              "        const docLinkHtml = 'Like what you see? Visit the ' +\n",
              "          '<a target=\"_blank\" href=https://colab.research.google.com/notebooks/data_table.ipynb>data table notebook</a>'\n",
              "          + ' to learn more about interactive tables.';\n",
              "        element.innerHTML = '';\n",
              "        dataTable['output_type'] = 'display_data';\n",
              "        await google.colab.output.renderOutput(dataTable, element);\n",
              "        const docLink = document.createElement('div');\n",
              "        docLink.innerHTML = docLinkHtml;\n",
              "        element.appendChild(docLink);\n",
              "      }\n",
              "    </script>\n",
              "  </div>\n",
              "\n",
              "    </div>\n",
              "  </div>\n"
            ],
            "application/vnd.google.colaboratory.intrinsic+json": {
              "type": "dataframe",
              "summary": "{\n  \"name\": \"df[df\",\n  \"rows\": 1,\n  \"fields\": [\n    {\n      \"column\": \"name\",\n      \"properties\": {\n        \"dtype\": \"string\",\n        \"num_unique_values\": 1,\n        \"samples\": [\n          \"Sassicaia\"\n        ],\n        \"semantic_type\": \"\",\n        \"description\": \"\"\n      }\n    },\n    {\n      \"column\": \"country\",\n      \"properties\": {\n        \"dtype\": \"string\",\n        \"num_unique_values\": 1,\n        \"samples\": [\n          \"\\u0418\\u0442\\u0430\\u043b\\u0438\\u044f\"\n        ],\n        \"semantic_type\": \"\",\n        \"description\": \"\"\n      }\n    },\n    {\n      \"column\": \"color\",\n      \"properties\": {\n        \"dtype\": \"string\",\n        \"num_unique_values\": 1,\n        \"samples\": [\n          \"\\u043a\\u0440\\u0430\\u0441\\u043d\\u043e\\u0435\"\n        ],\n        \"semantic_type\": \"\",\n        \"description\": \"\"\n      }\n    },\n    {\n      \"column\": \"sugar\",\n      \"properties\": {\n        \"dtype\": \"string\",\n        \"num_unique_values\": 1,\n        \"samples\": [\n          \"\\u0441\\u0443\\u0445\\u043e\\u0435\"\n        ],\n        \"semantic_type\": \"\",\n        \"description\": \"\"\n      }\n    },\n    {\n      \"column\": \"volume\",\n      \"properties\": {\n        \"dtype\": \"number\",\n        \"std\": null,\n        \"min\": 6.0,\n        \"max\": 6.0,\n        \"num_unique_values\": 1,\n        \"samples\": [\n          6.0\n        ],\n        \"semantic_type\": \"\",\n        \"description\": \"\"\n      }\n    },\n    {\n      \"column\": \"manufacturer\",\n      \"properties\": {\n        \"dtype\": \"string\",\n        \"num_unique_values\": 1,\n        \"samples\": [\n          \"Tenuta San Guido\"\n        ],\n        \"semantic_type\": \"\",\n        \"description\": \"\"\n      }\n    },\n    {\n      \"column\": \"region\",\n      \"properties\": {\n        \"dtype\": \"string\",\n        \"num_unique_values\": 1,\n        \"samples\": [\n          \"\\u0422\\u043e\\u0441\\u043a\\u0430\\u043d\\u0430\"\n        ],\n        \"semantic_type\": \"\",\n        \"description\": \"\"\n      }\n    },\n    {\n      \"column\": \"grape\",\n      \"properties\": {\n        \"dtype\": \"string\",\n        \"num_unique_values\": 1,\n        \"samples\": [\n          \"\\u043a\\u0430\\u0431\\u0435\\u0440\\u043d\\u0435 \\u0441\\u043e\\u0432\\u0438\\u043d\\u044c\\u043e\\u043d 85%, \\u043a\\u0430\\u0431\\u0435\\u0440\\u043d\\u0435 \\u0444\\u0440\\u0430\\u043d 15%\"\n        ],\n        \"semantic_type\": \"\",\n        \"description\": \"\"\n      }\n    },\n    {\n      \"column\": \"year\",\n      \"properties\": {\n        \"dtype\": \"number\",\n        \"std\": null,\n        \"min\": 2018,\n        \"max\": 2018,\n        \"num_unique_values\": 1,\n        \"samples\": [\n          2018\n        ],\n        \"semantic_type\": \"\",\n        \"description\": \"\"\n      }\n    },\n    {\n      \"column\": \"price\",\n      \"properties\": {\n        \"dtype\": \"number\",\n        \"std\": null,\n        \"min\": 1999990,\n        \"max\": 1999990,\n        \"num_unique_values\": 1,\n        \"samples\": [\n          1999990\n        ],\n        \"semantic_type\": \"\",\n        \"description\": \"\"\n      }\n    }\n  ]\n}"
            }
          },
          "metadata": {},
          "execution_count": 27
        }
      ]
    },
    {
      "cell_type": "markdown",
      "source": [
        "В то же время в выборке имеются экстремально высокие значения цен. Максимально возможное значение цены - около 2 млн руб. Это 6-литровая бутылка красного сухого итальянского вина."
      ],
      "metadata": {
        "id": "SFoh0efQJV7E"
      }
    },
    {
      "cell_type": "code",
      "source": [
        "df.price.hist()\n",
        "plt.title(f'Распределение цены вина')\n",
        "plt.xlabel('Цена')\n",
        "plt.ylabel('Частота')\n",
        "plt.show()"
      ],
      "metadata": {
        "colab": {
          "base_uri": "https://localhost:8080/",
          "height": 472
        },
        "id": "x72szbtNIAwv",
        "outputId": "5f77f683-e962-4f2d-dd5d-46c5df425d17"
      },
      "execution_count": 28,
      "outputs": [
        {
          "output_type": "display_data",
          "data": {
            "text/plain": [
              "<Figure size 640x480 with 1 Axes>"
            ],
            "image/png": "[encoded data removed]"
          },
          "metadata": {}
        }
      ]
    },
    {
      "cell_type": "markdown",
      "source": [
        "По гистограмме можно заметить, что большая часть вин стоит не более 250 тыс.руб. (0.25 * 10^6).\n",
        "\n"
      ],
      "metadata": {
        "id": "iUB2IcD2MIqj"
      }
    },
    {
      "cell_type": "markdown",
      "source": [
        "Посмотрим какое значение цены соответсвует диапазону трёх стандартных отклонений от среднего."
      ],
      "metadata": {
        "id": "hu-dU66XNfRl"
      }
    },
    {
      "cell_type": "code",
      "source": [
        "price_3_sigma = df.price.mean() + 3 * df.price.std()\n",
        "price_3_sigma"
      ],
      "metadata": {
        "colab": {
          "base_uri": "https://localhost:8080/"
        },
        "id": "Lkb7tuPiNQxN",
        "outputId": "87123d47-c616-49ba-a706-b131d8dc394f"
      },
      "execution_count": 29,
      "outputs": [
        {
          "output_type": "execute_result",
          "data": {
            "text/plain": [
              "248768.5845239383"
            ]
          },
          "metadata": {},
          "execution_count": 29
        }
      ]
    },
    {
      "cell_type": "markdown",
      "source": [
        "Подтверждая наблюдение, сделанное по графику, мы получили значение около 250 тыс. руб."
      ],
      "metadata": {
        "id": "IpVC8-uFN5CO"
      }
    },
    {
      "cell_type": "code",
      "source": [
        "(df.price <= 250000).mean()"
      ],
      "metadata": {
        "colab": {
          "base_uri": "https://localhost:8080/"
        },
        "id": "cDgtJ5ErLted",
        "outputId": "d68e51d1-2f0a-41eb-e904-69a6b234262a"
      },
      "execution_count": 30,
      "outputs": [
        {
          "output_type": "execute_result",
          "data": {
            "text/plain": [
              "0.990127970749543"
            ]
          },
          "metadata": {},
          "execution_count": 30
        }
      ]
    },
    {
      "cell_type": "markdown",
      "source": [
        "99 % вин в выборке имеют цену не более 250 тыс. руб. Цены больше этого значения будем считать выбросами и исключим из исследования."
      ],
      "metadata": {
        "id": "CU8WPMeFNLvt"
      }
    },
    {
      "cell_type": "code",
      "source": [
        "mask = df.price > 250000\n",
        "df.drop(df.index[mask], inplace=True)\n",
        "df.shape"
      ],
      "metadata": {
        "colab": {
          "base_uri": "https://localhost:8080/"
        },
        "id": "RwoHfZ2fLT4A",
        "outputId": "0e94546a-a78b-4cd8-d8d7-19774ec789d7"
      },
      "execution_count": 31,
      "outputs": [
        {
          "output_type": "execute_result",
          "data": {
            "text/plain": [
              "(5416, 10)"
            ]
          },
          "metadata": {},
          "execution_count": 31
        }
      ]
    },
    {
      "cell_type": "code",
      "source": [
        "df.reset_index(inplace=True)\n",
        "df.drop('index', axis=1, inplace=True)\n",
        "df.tail()"
      ],
      "metadata": {
        "colab": {
          "base_uri": "https://localhost:8080/",
          "height": 206
        },
        "id": "wLU0kpo7OzVz",
        "outputId": "3319cebc-1aa4-48a2-f8fe-779b2553ab0e"
      },
      "execution_count": 32,
      "outputs": [
        {
          "output_type": "execute_result",
          "data": {
            "text/plain": [
              "                                                  name  country    color  \\\n",
              "5411                                           Pommard  Франция  красное   \n",
              "5412                                        L`Apparita   Италия  красное   \n",
              "5413  Meursault-Charmes Premier Cru Les Charmes Dessus  Франция    белое   \n",
              "5414                              Saint-Joseph Cavanos  Франция  красное   \n",
              "5415                               Chateau Calon Segur  Франция  красное   \n",
              "\n",
              "      sugar  volume           manufacturer       region  \\\n",
              "5411  сухое   0.375         Joseph Drouhin    Бургундия   \n",
              "5412  сухое   0.750        Castello di Ama      Тоскана   \n",
              "5413  сухое   0.750  Domaine Antonin Guyon    Бургундия   \n",
              "5414  сухое   0.375         Yves Cuilleron  Долина Роны   \n",
              "5415  сухое   0.750    Chateau Calon Segur        Бордо   \n",
              "\n",
              "                                                 grape  year  price  \n",
              "5411                                    пино нуар 100%  2018  11190  \n",
              "5412                                        мерло 100%  2016  67490  \n",
              "5413                                      шардоне 100%  2020  31490  \n",
              "5414                                         сира 100%  2018   4990  \n",
              "5415  каберне совиньон, мерло, каберне фран, пти вердо  2011  33990  "
            ],
            "text/html": [
              "\n",
              "  <div id=\"df-34b7d553-ee23-47b3-ba4e-69cf1ee4bac9\" class=\"colab-df-container\">\n",
              "    <div>\n",
              "<style scoped>\n",
              "    .dataframe tbody tr th:only-of-type {\n",
              "        vertical-align: middle;\n",
              "    }\n",
              "\n",
              "    .dataframe tbody tr th {\n",
              "        vertical-align: top;\n",
              "    }\n",
              "\n",
              "    .dataframe thead th {\n",
              "        text-align: right;\n",
              "    }\n",
              "</style>\n",
              "<table border=\"1\" class=\"dataframe\">\n",
              "  <thead>\n",
              "    <tr style=\"text-align: right;\">\n",
              "      <th></th>\n",
              "      <th>name</th>\n",
              "      <th>country</th>\n",
              "      <th>color</th>\n",
              "      <th>sugar</th>\n",
              "      <th>volume</th>\n",
              "      <th>manufacturer</th>\n",
              "      <th>region</th>\n",
              "      <th>grape</th>\n",
              "      <th>year</th>\n",
              "      <th>price</th>\n",
              "    </tr>\n",
              "  </thead>\n",
              "  <tbody>\n",
              "    <tr>\n",
              "      <th>5411</th>\n",
              "      <td>Pommard</td>\n",
              "      <td>Франция</td>\n",
              "      <td>красное</td>\n",
              "      <td>сухое</td>\n",
              "      <td>0.375</td>\n",
              "      <td>Joseph Drouhin</td>\n",
              "      <td>Бургундия</td>\n",
              "      <td>пино нуар 100%</td>\n",
              "      <td>2018</td>\n",
              "      <td>11190</td>\n",
              "    </tr>\n",
              "    <tr>\n",
              "      <th>5412</th>\n",
              "      <td>L`Apparita</td>\n",
              "      <td>Италия</td>\n",
              "      <td>красное</td>\n",
              "      <td>сухое</td>\n",
              "      <td>0.750</td>\n",
              "      <td>Castello di Ama</td>\n",
              "      <td>Тоскана</td>\n",
              "      <td>мерло 100%</td>\n",
              "      <td>2016</td>\n",
              "      <td>67490</td>\n",
              "    </tr>\n",
              "    <tr>\n",
              "      <th>5413</th>\n",
              "      <td>Meursault-Charmes Premier Cru Les Charmes Dessus</td>\n",
              "      <td>Франция</td>\n",
              "      <td>белое</td>\n",
              "      <td>сухое</td>\n",
              "      <td>0.750</td>\n",
              "      <td>Domaine Antonin Guyon</td>\n",
              "      <td>Бургундия</td>\n",
              "      <td>шардоне 100%</td>\n",
              "      <td>2020</td>\n",
              "      <td>31490</td>\n",
              "    </tr>\n",
              "    <tr>\n",
              "      <th>5414</th>\n",
              "      <td>Saint-Joseph Cavanos</td>\n",
              "      <td>Франция</td>\n",
              "      <td>красное</td>\n",
              "      <td>сухое</td>\n",
              "      <td>0.375</td>\n",
              "      <td>Yves Cuilleron</td>\n",
              "      <td>Долина Роны</td>\n",
              "      <td>сира 100%</td>\n",
              "      <td>2018</td>\n",
              "      <td>4990</td>\n",
              "    </tr>\n",
              "    <tr>\n",
              "      <th>5415</th>\n",
              "      <td>Chateau Calon Segur</td>\n",
              "      <td>Франция</td>\n",
              "      <td>красное</td>\n",
              "      <td>сухое</td>\n",
              "      <td>0.750</td>\n",
              "      <td>Chateau Calon Segur</td>\n",
              "      <td>Бордо</td>\n",
              "      <td>каберне совиньон, мерло, каберне фран, пти вердо</td>\n",
              "      <td>2011</td>\n",
              "      <td>33990</td>\n",
              "    </tr>\n",
              "  </tbody>\n",
              "</table>\n",
              "</div>\n",
              "    <div class=\"colab-df-buttons\">\n",
              "\n",
              "  <div class=\"colab-df-container\">\n",
              "    <button class=\"colab-df-convert\" onclick=\"convertToInteractive('df-34b7d553-ee23-47b3-ba4e-69cf1ee4bac9')\"\n",
              "            title=\"Convert this dataframe to an interactive table.\"\n",
              "            style=\"display:none;\">\n",
              "\n",
              "  <svg xmlns=\"http://www.w3.org/2000/svg\" height=\"24px\" viewBox=\"0 -960 960 960\">\n",
              "    <path d=\"M120-120v-720h720v720H120Zm60-500h600v-160H180v160Zm220 220h160v-160H400v160Zm0 220h160v-160H400v160ZM180-400h160v-160H180v160Zm440 0h160v-160H620v160ZM180-180h160v-160H180v160Zm440 0h160v-160H620v160Z\"/>\n",
              "  </svg>\n",
              "    </button>\n",
              "\n",
              "  <style>\n",
              "    .colab-df-container {\n",
              "      display:flex;\n",
              "      gap: 12px;\n",
              "    }\n",
              "\n",
              "    .colab-df-convert {\n",
              "      background-color: #E8F0FE;\n",
              "      border: none;\n",
              "      border-radius: 50%;\n",
              "      cursor: pointer;\n",
              "      display: none;\n",
              "      fill: #1967D2;\n",
              "      height: 32px;\n",
              "      padding: 0 0 0 0;\n",
              "      width: 32px;\n",
              "    }\n",
              "\n",
              "    .colab-df-convert:hover {\n",
              "      background-color: #E2EBFA;\n",
              "      box-shadow: 0px 1px 2px rgba(60, 64, 67, 0.3), 0px 1px 3px 1px rgba(60, 64, 67, 0.15);\n",
              "      fill: #174EA6;\n",
              "    }\n",
              "\n",
              "    .colab-df-buttons div {\n",
              "      margin-bottom: 4px;\n",
              "    }\n",
              "\n",
              "    [theme=dark] .colab-df-convert {\n",
              "      background-color: #3B4455;\n",
              "      fill: #D2E3FC;\n",
              "    }\n",
              "\n",
              "    [theme=dark] .colab-df-convert:hover {\n",
              "      background-color: #434B5C;\n",
              "      box-shadow: 0px 1px 3px 1px rgba(0, 0, 0, 0.15);\n",
              "      filter: drop-shadow(0px 1px 2px rgba(0, 0, 0, 0.3));\n",
              "      fill: #FFFFFF;\n",
              "    }\n",
              "  </style>\n",
              "\n",
              "    <script>\n",
              "      const buttonEl =\n",
              "        document.querySelector('#df-34b7d553-ee23-47b3-ba4e-69cf1ee4bac9 button.colab-df-convert');\n",
              "      buttonEl.style.display =\n",
              "        google.colab.kernel.accessAllowed ? 'block' : 'none';\n",
              "\n",
              "      async function convertToInteractive(key) {\n",
              "        const element = document.querySelector('#df-34b7d553-ee23-47b3-ba4e-69cf1ee4bac9');\n",
              "        const dataTable =\n",
              "          await google.colab.kernel.invokeFunction('convertToInteractive',\n",
              "                                                    [key], {});\n",
              "        if (!dataTable) return;\n",
              "\n",
              "        const docLinkHtml = 'Like what you see? Visit the ' +\n",
              "          '<a target=\"_blank\" href=https://colab.research.google.com/notebooks/data_table.ipynb>data table notebook</a>'\n",
              "          + ' to learn more about interactive tables.';\n",
              "        element.innerHTML = '';\n",
              "        dataTable['output_type'] = 'display_data';\n",
              "        await google.colab.output.renderOutput(dataTable, element);\n",
              "        const docLink = document.createElement('div');\n",
              "        docLink.innerHTML = docLinkHtml;\n",
              "        element.appendChild(docLink);\n",
              "      }\n",
              "    </script>\n",
              "  </div>\n",
              "\n",
              "\n",
              "<div id=\"df-baa13989-2569-4fee-ae36-b292f6ab41fb\">\n",
              "  <button class=\"colab-df-quickchart\" onclick=\"quickchart('df-baa13989-2569-4fee-ae36-b292f6ab41fb')\"\n",
              "            title=\"Suggest charts\"\n",
              "            style=\"display:none;\">\n",
              "\n",
              "<svg xmlns=\"http://www.w3.org/2000/svg\" height=\"24px\"viewBox=\"0 0 24 24\"\n",
              "     width=\"24px\">\n",
              "    <g>\n",
              "        <path d=\"M19 3H5c-1.1 0-2 .9-2 2v14c0 1.1.9 2 2 2h14c1.1 0 2-.9 2-2V5c0-1.1-.9-2-2-2zM9 17H7v-7h2v7zm4 0h-2V7h2v10zm4 0h-2v-4h2v4z\"/>\n",
              "    </g>\n",
              "</svg>\n",
              "  </button>\n",
              "\n",
              "<style>\n",
              "  .colab-df-quickchart {\n",
              "      --bg-color: #E8F0FE;\n",
              "      --fill-color: #1967D2;\n",
              "      --hover-bg-color: #E2EBFA;\n",
              "      --hover-fill-color: #174EA6;\n",
              "      --disabled-fill-color: #AAA;\n",
              "      --disabled-bg-color: #DDD;\n",
              "  }\n",
              "\n",
              "  [theme=dark] .colab-df-quickchart {\n",
              "      --bg-color: #3B4455;\n",
              "      --fill-color: #D2E3FC;\n",
              "      --hover-bg-color: #434B5C;\n",
              "      --hover-fill-color: #FFFFFF;\n",
              "      --disabled-bg-color: #3B4455;\n",
              "      --disabled-fill-color: #666;\n",
              "  }\n",
              "\n",
              "  .colab-df-quickchart {\n",
              "    background-color: var(--bg-color);\n",
              "    border: none;\n",
              "    border-radius: 50%;\n",
              "    cursor: pointer;\n",
              "    display: none;\n",
              "    fill: var(--fill-color);\n",
              "    height: 32px;\n",
              "    padding: 0;\n",
              "    width: 32px;\n",
              "  }\n",
              "\n",
              "  .colab-df-quickchart:hover {\n",
              "    background-color: var(--hover-bg-color);\n",
              "    box-shadow: 0 1px 2px rgba(60, 64, 67, 0.3), 0 1px 3px 1px rgba(60, 64, 67, 0.15);\n",
              "    fill: var(--button-hover-fill-color);\n",
              "  }\n",
              "\n",
              "  .colab-df-quickchart-complete:disabled,\n",
              "  .colab-df-quickchart-complete:disabled:hover {\n",
              "    background-color: var(--disabled-bg-color);\n",
              "    fill: var(--disabled-fill-color);\n",
              "    box-shadow: none;\n",
              "  }\n",
              "\n",
              "  .colab-df-spinner {\n",
              "    border: 2px solid var(--fill-color);\n",
              "    border-color: transparent;\n",
              "    border-bottom-color: var(--fill-color);\n",
              "    animation:\n",
              "      spin 1s steps(1) infinite;\n",
              "  }\n",
              "\n",
              "  @keyframes spin {\n",
              "    0% {\n",
              "      border-color: transparent;\n",
              "      border-bottom-color: var(--fill-color);\n",
              "      border-left-color: var(--fill-color);\n",
              "    }\n",
              "    20% {\n",
              "      border-color: transparent;\n",
              "      border-left-color: var(--fill-color);\n",
              "      border-top-color: var(--fill-color);\n",
              "    }\n",
              "    30% {\n",
              "      border-color: transparent;\n",
              "      border-left-color: var(--fill-color);\n",
              "      border-top-color: var(--fill-color);\n",
              "      border-right-color: var(--fill-color);\n",
              "    }\n",
              "    40% {\n",
              "      border-color: transparent;\n",
              "      border-right-color: var(--fill-color);\n",
              "      border-top-color: var(--fill-color);\n",
              "    }\n",
              "    60% {\n",
              "      border-color: transparent;\n",
              "      border-right-color: var(--fill-color);\n",
              "    }\n",
              "    80% {\n",
              "      border-color: transparent;\n",
              "      border-right-color: var(--fill-color);\n",
              "      border-bottom-color: var(--fill-color);\n",
              "    }\n",
              "    90% {\n",
              "      border-color: transparent;\n",
              "      border-bottom-color: var(--fill-color);\n",
              "    }\n",
              "  }\n",
              "</style>\n",
              "\n",
              "  <script>\n",
              "    async function quickchart(key) {\n",
              "      const quickchartButtonEl =\n",
              "        document.querySelector('#' + key + ' button');\n",
              "      quickchartButtonEl.disabled = true;  // To prevent multiple clicks.\n",
              "      quickchartButtonEl.classList.add('colab-df-spinner');\n",
              "      try {\n",
              "        const charts = await google.colab.kernel.invokeFunction(\n",
              "            'suggestCharts', [key], {});\n",
              "      } catch (error) {\n",
              "        console.error('Error during call to suggestCharts:', error);\n",
              "      }\n",
              "      quickchartButtonEl.classList.remove('colab-df-spinner');\n",
              "      quickchartButtonEl.classList.add('colab-df-quickchart-complete');\n",
              "    }\n",
              "    (() => {\n",
              "      let quickchartButtonEl =\n",
              "        document.querySelector('#df-baa13989-2569-4fee-ae36-b292f6ab41fb button');\n",
              "      quickchartButtonEl.style.display =\n",
              "        google.colab.kernel.accessAllowed ? 'block' : 'none';\n",
              "    })();\n",
              "  </script>\n",
              "</div>\n",
              "    </div>\n",
              "  </div>\n"
            ],
            "application/vnd.google.colaboratory.intrinsic+json": {
              "type": "dataframe",
              "summary": "{\n  \"name\": \"df\",\n  \"rows\": 5,\n  \"fields\": [\n    {\n      \"column\": \"name\",\n      \"properties\": {\n        \"dtype\": \"string\",\n        \"num_unique_values\": 5,\n        \"samples\": [\n          \"L`Apparita\",\n          \"Chateau Calon Segur\",\n          \"Meursault-Charmes Premier Cru Les Charmes Dessus\"\n        ],\n        \"semantic_type\": \"\",\n        \"description\": \"\"\n      }\n    },\n    {\n      \"column\": \"country\",\n      \"properties\": {\n        \"dtype\": \"category\",\n        \"num_unique_values\": 2,\n        \"samples\": [\n          \"\\u0418\\u0442\\u0430\\u043b\\u0438\\u044f\",\n          \"\\u0424\\u0440\\u0430\\u043d\\u0446\\u0438\\u044f\"\n        ],\n        \"semantic_type\": \"\",\n        \"description\": \"\"\n      }\n    },\n    {\n      \"column\": \"color\",\n      \"properties\": {\n        \"dtype\": \"category\",\n        \"num_unique_values\": 2,\n        \"samples\": [\n          \"\\u0431\\u0435\\u043b\\u043e\\u0435\",\n          \"\\u043a\\u0440\\u0430\\u0441\\u043d\\u043e\\u0435\"\n        ],\n        \"semantic_type\": \"\",\n        \"description\": \"\"\n      }\n    },\n    {\n      \"column\": \"sugar\",\n      \"properties\": {\n        \"dtype\": \"category\",\n        \"num_unique_values\": 1,\n        \"samples\": [\n          \"\\u0441\\u0443\\u0445\\u043e\\u0435\"\n        ],\n        \"semantic_type\": \"\",\n        \"description\": \"\"\n      }\n    },\n    {\n      \"column\": \"volume\",\n      \"properties\": {\n        \"dtype\": \"number\",\n        \"std\": 0.2053959590644373,\n        \"min\": 0.375,\n        \"max\": 0.75,\n        \"num_unique_values\": 2,\n        \"samples\": [\n          0.75\n        ],\n        \"semantic_type\": \"\",\n        \"description\": \"\"\n      }\n    },\n    {\n      \"column\": \"manufacturer\",\n      \"properties\": {\n        \"dtype\": \"string\",\n        \"num_unique_values\": 5,\n        \"samples\": [\n          \"Castello di Ama\"\n        ],\n        \"semantic_type\": \"\",\n        \"description\": \"\"\n      }\n    },\n    {\n      \"column\": \"region\",\n      \"properties\": {\n        \"dtype\": \"string\",\n        \"num_unique_values\": 4,\n        \"samples\": [\n          \"\\u0422\\u043e\\u0441\\u043a\\u0430\\u043d\\u0430\"\n        ],\n        \"semantic_type\": \"\",\n        \"description\": \"\"\n      }\n    },\n    {\n      \"column\": \"grape\",\n      \"properties\": {\n        \"dtype\": \"string\",\n        \"num_unique_values\": 5,\n        \"samples\": [\n          \"\\u043c\\u0435\\u0440\\u043b\\u043e 100%\"\n        ],\n        \"semantic_type\": \"\",\n        \"description\": \"\"\n      }\n    },\n    {\n      \"column\": \"year\",\n      \"properties\": {\n        \"dtype\": \"number\",\n        \"std\": 3,\n        \"min\": 2011,\n        \"max\": 2020,\n        \"num_unique_values\": 4,\n        \"samples\": [\n          2016\n        ],\n        \"semantic_type\": \"\",\n        \"description\": \"\"\n      }\n    },\n    {\n      \"column\": \"price\",\n      \"properties\": {\n        \"dtype\": \"number\",\n        \"std\": 24509,\n        \"min\": 4990,\n        \"max\": 67490,\n        \"num_unique_values\": 5,\n        \"samples\": [\n          67490\n        ],\n        \"semantic_type\": \"\",\n        \"description\": \"\"\n      }\n    }\n  ]\n}"
            }
          },
          "metadata": {},
          "execution_count": 32
        }
      ]
    },
    {
      "cell_type": "code",
      "source": [
        "df.price.hist()\n",
        "plt.title(f'Распределение цены вина (без учёта выбросов)')\n",
        "plt.xlabel('Цена')\n",
        "plt.ylabel('Частота')\n",
        "plt.show()"
      ],
      "metadata": {
        "colab": {
          "base_uri": "https://localhost:8080/",
          "height": 472
        },
        "id": "JvJ80K0MUzq9",
        "outputId": "6874652c-af08-45a4-98ad-ba68d9841011"
      },
      "execution_count": 33,
      "outputs": [
        {
          "output_type": "display_data",
          "data": {
            "text/plain": [
              "<Figure size 640x480 with 1 Axes>"
            ],
            "image/png": "[encoded data removed]"
          },
          "metadata": {}
        }
      ]
    },
    {
      "cell_type": "markdown",
      "source": [
        "### Исследование зависимостей между признаками"
      ],
      "metadata": {
        "id": "NFJVYzK9AUT2"
      }
    },
    {
      "cell_type": "markdown",
      "source": [
        "Посмотрим на взаимосвязь цены за бутылку вина от её характеристик."
      ],
      "metadata": {
        "id": "O6WyaP2YYDKy"
      }
    },
    {
      "cell_type": "code",
      "source": [
        "fig, axs = plt.subplots(1, 3, figsize=(15, 5))\n",
        "\n",
        "fig.suptitle('Зависимость между ценой и некоторыми признаками')\n",
        "df.plot(kind='scatter', x='sugar', y='price', ax=axs[0])\n",
        "df.plot(kind='scatter', x='volume', y='price', ax=axs[1])\n",
        "df.plot(kind='scatter', x='color', y='price', ax=axs[2])\n",
        "\n",
        "\n",
        "plt.subplots_adjust(wspace=0.5)"
      ],
      "metadata": {
        "colab": {
          "base_uri": "https://localhost:8080/",
          "height": 515
        },
        "id": "NBXCYHxPaMgX",
        "outputId": "af867dc3-0464-4274-c326-368fc7b2bd04"
      },
      "execution_count": 34,
      "outputs": [
        {
          "output_type": "display_data",
          "data": {
            "text/plain": [
              "<Figure size 1500x500 with 3 Axes>"
            ],
            "image/png": "[encoded data removed]"
          },
          "metadata": {}
        }
      ]
    },
    {
      "cell_type": "markdown",
      "source": [
        "Как можно увидеть, полусухое, полусладкое и сладкое вино в среднем сильно дешевле сухого. Также красное вино имеет больший разброс цен, чем белое и розовое. Это может быть связано с тем, что в выборке представлено больше красного вина. Про объем можно лишь сказать, что имеется очень сильный разброс значений. В целом по диаграмме рассеяния можно отметить присутствие положительной корреляции - чем больше объём бутылки вина, тем выше её цена."
      ],
      "metadata": {
        "id": "kEmJS2GLxZXP"
      }
    },
    {
      "cell_type": "markdown",
      "source": [
        "## Шаг 5. Создание новых признаков"
      ],
      "metadata": {
        "id": "agHI1eyI_wTN"
      }
    },
    {
      "cell_type": "markdown",
      "source": [
        "### **Новый признак колонки country**"
      ],
      "metadata": {
        "id": "XrokD6kwQ3Dl"
      }
    },
    {
      "cell_type": "code",
      "source": [
        "unique_countries = df['country'].unique()\n",
        "print(\"Страны - производители вина:\", unique_countries)"
      ],
      "metadata": {
        "colab": {
          "base_uri": "https://localhost:8080/"
        },
        "id": "tc-coBpHRAP3",
        "outputId": "1cb91463-f4a1-44a4-f3c0-d7a5a2a6b308"
      },
      "execution_count": 35,
      "outputs": [
        {
          "output_type": "stream",
          "name": "stdout",
          "text": [
            "Страны - производители вина: ['Южная Африка' 'Италия' 'Россия' 'Аргентина' 'Франция' 'Испания'\n",
            " 'Австралия' 'Германия' 'Австрия' 'Новая Зеландия' 'Чили' 'Португалия'\n",
            " 'Грузия' 'Венгрия' 'Армения' 'Соединенные Штаты Америки' 'Греция'\n",
            " 'Республика Молдова' 'Словения' 'Сербия']\n"
          ]
        }
      ]
    },
    {
      "cell_type": "markdown",
      "source": [
        "Так как в данных представлены с разных континентов, то для дальнейшей работы было решено объединить страны по частям света. Так, к Европе относятся: Италия, Россия, Франция, Испания, Германия, Австрия, Португалия, Грузия, Венгрия, Армения, Греция, Республика Молдова, Словения, Сербия. К Америке: Аргентина, Чили, Соединенные Штаты Америки. Африку представляет Южная Африка. Океанию - Австралия и Новая Зеландия."
      ],
      "metadata": {
        "id": "Ydq3vRe1Q3Mg"
      }
    },
    {
      "cell_type": "code",
      "source": [
        "Africa = ['Южная Африка']\n",
        "Europe = ['Италия', 'Россия', 'Франция', 'Испания', 'Германия', 'Австрия', 'Португалия', 'Грузия', 'Венгрия',\n",
        " 'Армения', 'Греция', 'Республика Молдова', 'Словения', 'Сербия']\n",
        "America = ['Аргентина', 'Соединенные Штаты Америки', 'Чили']\n",
        "Oceania = ['Новая Зеландия', 'Австралия']"
      ],
      "metadata": {
        "id": "HhvTEUTCRE4l"
      },
      "execution_count": 36,
      "outputs": []
    },
    {
      "cell_type": "code",
      "source": [
        "def region(x):\n",
        "  if x in Africa:\n",
        "    return 'Africa'\n",
        "  elif x in Europe:\n",
        "    return 'Europe'\n",
        "  elif x in America:\n",
        "    return 'America'\n",
        "  else:\n",
        "    return 'Oceania'"
      ],
      "metadata": {
        "id": "mrhzW54gRQLx"
      },
      "execution_count": 37,
      "outputs": []
    },
    {
      "cell_type": "code",
      "source": [
        "df['region'] = df['country'].apply(region)\n",
        "df.head()"
      ],
      "metadata": {
        "colab": {
          "base_uri": "https://localhost:8080/",
          "height": 206
        },
        "id": "XtDBGziuRTT1",
        "outputId": "b08930fa-9649-465c-a30b-baa0770cc225"
      },
      "execution_count": 38,
      "outputs": [
        {
          "output_type": "execute_result",
          "data": {
            "text/plain": [
              "                                  name       country    color      sugar  \\\n",
              "0                    Shiraz Mr Borio's  Южная Африка  красное      сухое   \n",
              "1       Gavi dei Gavi (Etichetta Nera)        Италия    белое      сухое   \n",
              "2  Красностоп Золотовский на Террасах         Россия  красное      сухое   \n",
              "3                Vermentino di Toscana        Италия    белое      сухое   \n",
              "4                            Pfefferer        Италия    белое  полусухое   \n",
              "\n",
              "   volume        manufacturer  region               grape  year  price  \n",
              "0    0.75            Simonsig  Africa          шираз 100%  2020   2990  \n",
              "1    0.75           La Scolca  Europe        кортезе 100%  2022   5990  \n",
              "2    0.75              Сикоры  Europe     красностоп 100%  2018   5490  \n",
              "3    0.75  Fattoria del Cerro  Europe          верментино  2022   2490  \n",
              "4    0.75         Colterenzio  Europe  мускат желтый 100%  2023   2490  "
            ],
            "text/html": [
              "\n",
              "  <div id=\"df-a4b80b93-304d-4c88-873c-fb1fdd72ca4c\" class=\"colab-df-container\">\n",
              "    <div>\n",
              "<style scoped>\n",
              "    .dataframe tbody tr th:only-of-type {\n",
              "        vertical-align: middle;\n",
              "    }\n",
              "\n",
              "    .dataframe tbody tr th {\n",
              "        vertical-align: top;\n",
              "    }\n",
              "\n",
              "    .dataframe thead th {\n",
              "        text-align: right;\n",
              "    }\n",
              "</style>\n",
              "<table border=\"1\" class=\"dataframe\">\n",
              "  <thead>\n",
              "    <tr style=\"text-align: right;\">\n",
              "      <th></th>\n",
              "      <th>name</th>\n",
              "      <th>country</th>\n",
              "      <th>color</th>\n",
              "      <th>sugar</th>\n",
              "      <th>volume</th>\n",
              "      <th>manufacturer</th>\n",
              "      <th>region</th>\n",
              "      <th>grape</th>\n",
              "      <th>year</th>\n",
              "      <th>price</th>\n",
              "    </tr>\n",
              "  </thead>\n",
              "  <tbody>\n",
              "    <tr>\n",
              "      <th>0</th>\n",
              "      <td>Shiraz Mr Borio's</td>\n",
              "      <td>Южная Африка</td>\n",
              "      <td>красное</td>\n",
              "      <td>сухое</td>\n",
              "      <td>0.75</td>\n",
              "      <td>Simonsig</td>\n",
              "      <td>Africa</td>\n",
              "      <td>шираз 100%</td>\n",
              "      <td>2020</td>\n",
              "      <td>2990</td>\n",
              "    </tr>\n",
              "    <tr>\n",
              "      <th>1</th>\n",
              "      <td>Gavi dei Gavi (Etichetta Nera)</td>\n",
              "      <td>Италия</td>\n",
              "      <td>белое</td>\n",
              "      <td>сухое</td>\n",
              "      <td>0.75</td>\n",
              "      <td>La Scolca</td>\n",
              "      <td>Europe</td>\n",
              "      <td>кортезе 100%</td>\n",
              "      <td>2022</td>\n",
              "      <td>5990</td>\n",
              "    </tr>\n",
              "    <tr>\n",
              "      <th>2</th>\n",
              "      <td>Красностоп Золотовский на Террасах</td>\n",
              "      <td>Россия</td>\n",
              "      <td>красное</td>\n",
              "      <td>сухое</td>\n",
              "      <td>0.75</td>\n",
              "      <td>Сикоры</td>\n",
              "      <td>Europe</td>\n",
              "      <td>красностоп 100%</td>\n",
              "      <td>2018</td>\n",
              "      <td>5490</td>\n",
              "    </tr>\n",
              "    <tr>\n",
              "      <th>3</th>\n",
              "      <td>Vermentino di Toscana</td>\n",
              "      <td>Италия</td>\n",
              "      <td>белое</td>\n",
              "      <td>сухое</td>\n",
              "      <td>0.75</td>\n",
              "      <td>Fattoria del Cerro</td>\n",
              "      <td>Europe</td>\n",
              "      <td>верментино</td>\n",
              "      <td>2022</td>\n",
              "      <td>2490</td>\n",
              "    </tr>\n",
              "    <tr>\n",
              "      <th>4</th>\n",
              "      <td>Pfefferer</td>\n",
              "      <td>Италия</td>\n",
              "      <td>белое</td>\n",
              "      <td>полусухое</td>\n",
              "      <td>0.75</td>\n",
              "      <td>Colterenzio</td>\n",
              "      <td>Europe</td>\n",
              "      <td>мускат желтый 100%</td>\n",
              "      <td>2023</td>\n",
              "      <td>2490</td>\n",
              "    </tr>\n",
              "  </tbody>\n",
              "</table>\n",
              "</div>\n",
              "    <div class=\"colab-df-buttons\">\n",
              "\n",
              "  <div class=\"colab-df-container\">\n",
              "    <button class=\"colab-df-convert\" onclick=\"convertToInteractive('df-a4b80b93-304d-4c88-873c-fb1fdd72ca4c')\"\n",
              "            title=\"Convert this dataframe to an interactive table.\"\n",
              "            style=\"display:none;\">\n",
              "\n",
              "  <svg xmlns=\"http://www.w3.org/2000/svg\" height=\"24px\" viewBox=\"0 -960 960 960\">\n",
              "    <path d=\"M120-120v-720h720v720H120Zm60-500h600v-160H180v160Zm220 220h160v-160H400v160Zm0 220h160v-160H400v160ZM180-400h160v-160H180v160Zm440 0h160v-160H620v160ZM180-180h160v-160H180v160Zm440 0h160v-160H620v160Z\"/>\n",
              "  </svg>\n",
              "    </button>\n",
              "\n",
              "  <style>\n",
              "    .colab-df-container {\n",
              "      display:flex;\n",
              "      gap: 12px;\n",
              "    }\n",
              "\n",
              "    .colab-df-convert {\n",
              "      background-color: #E8F0FE;\n",
              "      border: none;\n",
              "      border-radius: 50%;\n",
              "      cursor: pointer;\n",
              "      display: none;\n",
              "      fill: #1967D2;\n",
              "      height: 32px;\n",
              "      padding: 0 0 0 0;\n",
              "      width: 32px;\n",
              "    }\n",
              "\n",
              "    .colab-df-convert:hover {\n",
              "      background-color: #E2EBFA;\n",
              "      box-shadow: 0px 1px 2px rgba(60, 64, 67, 0.3), 0px 1px 3px 1px rgba(60, 64, 67, 0.15);\n",
              "      fill: #174EA6;\n",
              "    }\n",
              "\n",
              "    .colab-df-buttons div {\n",
              "      margin-bottom: 4px;\n",
              "    }\n",
              "\n",
              "    [theme=dark] .colab-df-convert {\n",
              "      background-color: #3B4455;\n",
              "      fill: #D2E3FC;\n",
              "    }\n",
              "\n",
              "    [theme=dark] .colab-df-convert:hover {\n",
              "      background-color: #434B5C;\n",
              "      box-shadow: 0px 1px 3px 1px rgba(0, 0, 0, 0.15);\n",
              "      filter: drop-shadow(0px 1px 2px rgba(0, 0, 0, 0.3));\n",
              "      fill: #FFFFFF;\n",
              "    }\n",
              "  </style>\n",
              "\n",
              "    <script>\n",
              "      const buttonEl =\n",
              "        document.querySelector('#df-a4b80b93-304d-4c88-873c-fb1fdd72ca4c button.colab-df-convert');\n",
              "      buttonEl.style.display =\n",
              "        google.colab.kernel.accessAllowed ? 'block' : 'none';\n",
              "\n",
              "      async function convertToInteractive(key) {\n",
              "        const element = document.querySelector('#df-a4b80b93-304d-4c88-873c-fb1fdd72ca4c');\n",
              "        const dataTable =\n",
              "          await google.colab.kernel.invokeFunction('convertToInteractive',\n",
              "                                                    [key], {});\n",
              "        if (!dataTable) return;\n",
              "\n",
              "        const docLinkHtml = 'Like what you see? Visit the ' +\n",
              "          '<a target=\"_blank\" href=https://colab.research.google.com/notebooks/data_table.ipynb>data table notebook</a>'\n",
              "          + ' to learn more about interactive tables.';\n",
              "        element.innerHTML = '';\n",
              "        dataTable['output_type'] = 'display_data';\n",
              "        await google.colab.output.renderOutput(dataTable, element);\n",
              "        const docLink = document.createElement('div');\n",
              "        docLink.innerHTML = docLinkHtml;\n",
              "        element.appendChild(docLink);\n",
              "      }\n",
              "    </script>\n",
              "  </div>\n",
              "\n",
              "\n",
              "<div id=\"df-8eec7d3a-358c-4341-a326-4358136fbe74\">\n",
              "  <button class=\"colab-df-quickchart\" onclick=\"quickchart('df-8eec7d3a-358c-4341-a326-4358136fbe74')\"\n",
              "            title=\"Suggest charts\"\n",
              "            style=\"display:none;\">\n",
              "\n",
              "<svg xmlns=\"http://www.w3.org/2000/svg\" height=\"24px\"viewBox=\"0 0 24 24\"\n",
              "     width=\"24px\">\n",
              "    <g>\n",
              "        <path d=\"M19 3H5c-1.1 0-2 .9-2 2v14c0 1.1.9 2 2 2h14c1.1 0 2-.9 2-2V5c0-1.1-.9-2-2-2zM9 17H7v-7h2v7zm4 0h-2V7h2v10zm4 0h-2v-4h2v4z\"/>\n",
              "    </g>\n",
              "</svg>\n",
              "  </button>\n",
              "\n",
              "<style>\n",
              "  .colab-df-quickchart {\n",
              "      --bg-color: #E8F0FE;\n",
              "      --fill-color: #1967D2;\n",
              "      --hover-bg-color: #E2EBFA;\n",
              "      --hover-fill-color: #174EA6;\n",
              "      --disabled-fill-color: #AAA;\n",
              "      --disabled-bg-color: #DDD;\n",
              "  }\n",
              "\n",
              "  [theme=dark] .colab-df-quickchart {\n",
              "      --bg-color: #3B4455;\n",
              "      --fill-color: #D2E3FC;\n",
              "      --hover-bg-color: #434B5C;\n",
              "      --hover-fill-color: #FFFFFF;\n",
              "      --disabled-bg-color: #3B4455;\n",
              "      --disabled-fill-color: #666;\n",
              "  }\n",
              "\n",
              "  .colab-df-quickchart {\n",
              "    background-color: var(--bg-color);\n",
              "    border: none;\n",
              "    border-radius: 50%;\n",
              "    cursor: pointer;\n",
              "    display: none;\n",
              "    fill: var(--fill-color);\n",
              "    height: 32px;\n",
              "    padding: 0;\n",
              "    width: 32px;\n",
              "  }\n",
              "\n",
              "  .colab-df-quickchart:hover {\n",
              "    background-color: var(--hover-bg-color);\n",
              "    box-shadow: 0 1px 2px rgba(60, 64, 67, 0.3), 0 1px 3px 1px rgba(60, 64, 67, 0.15);\n",
              "    fill: var(--button-hover-fill-color);\n",
              "  }\n",
              "\n",
              "  .colab-df-quickchart-complete:disabled,\n",
              "  .colab-df-quickchart-complete:disabled:hover {\n",
              "    background-color: var(--disabled-bg-color);\n",
              "    fill: var(--disabled-fill-color);\n",
              "    box-shadow: none;\n",
              "  }\n",
              "\n",
              "  .colab-df-spinner {\n",
              "    border: 2px solid var(--fill-color);\n",
              "    border-color: transparent;\n",
              "    border-bottom-color: var(--fill-color);\n",
              "    animation:\n",
              "      spin 1s steps(1) infinite;\n",
              "  }\n",
              "\n",
              "  @keyframes spin {\n",
              "    0% {\n",
              "      border-color: transparent;\n",
              "      border-bottom-color: var(--fill-color);\n",
              "      border-left-color: var(--fill-color);\n",
              "    }\n",
              "    20% {\n",
              "      border-color: transparent;\n",
              "      border-left-color: var(--fill-color);\n",
              "      border-top-color: var(--fill-color);\n",
              "    }\n",
              "    30% {\n",
              "      border-color: transparent;\n",
              "      border-left-color: var(--fill-color);\n",
              "      border-top-color: var(--fill-color);\n",
              "      border-right-color: var(--fill-color);\n",
              "    }\n",
              "    40% {\n",
              "      border-color: transparent;\n",
              "      border-right-color: var(--fill-color);\n",
              "      border-top-color: var(--fill-color);\n",
              "    }\n",
              "    60% {\n",
              "      border-color: transparent;\n",
              "      border-right-color: var(--fill-color);\n",
              "    }\n",
              "    80% {\n",
              "      border-color: transparent;\n",
              "      border-right-color: var(--fill-color);\n",
              "      border-bottom-color: var(--fill-color);\n",
              "    }\n",
              "    90% {\n",
              "      border-color: transparent;\n",
              "      border-bottom-color: var(--fill-color);\n",
              "    }\n",
              "  }\n",
              "</style>\n",
              "\n",
              "  <script>\n",
              "    async function quickchart(key) {\n",
              "      const quickchartButtonEl =\n",
              "        document.querySelector('#' + key + ' button');\n",
              "      quickchartButtonEl.disabled = true;  // To prevent multiple clicks.\n",
              "      quickchartButtonEl.classList.add('colab-df-spinner');\n",
              "      try {\n",
              "        const charts = await google.colab.kernel.invokeFunction(\n",
              "            'suggestCharts', [key], {});\n",
              "      } catch (error) {\n",
              "        console.error('Error during call to suggestCharts:', error);\n",
              "      }\n",
              "      quickchartButtonEl.classList.remove('colab-df-spinner');\n",
              "      quickchartButtonEl.classList.add('colab-df-quickchart-complete');\n",
              "    }\n",
              "    (() => {\n",
              "      let quickchartButtonEl =\n",
              "        document.querySelector('#df-8eec7d3a-358c-4341-a326-4358136fbe74 button');\n",
              "      quickchartButtonEl.style.display =\n",
              "        google.colab.kernel.accessAllowed ? 'block' : 'none';\n",
              "    })();\n",
              "  </script>\n",
              "</div>\n",
              "    </div>\n",
              "  </div>\n"
            ],
            "application/vnd.google.colaboratory.intrinsic+json": {
              "type": "dataframe",
              "variable_name": "df",
              "summary": "{\n  \"name\": \"df\",\n  \"rows\": 5416,\n  \"fields\": [\n    {\n      \"column\": \"name\",\n      \"properties\": {\n        \"dtype\": \"category\",\n        \"num_unique_values\": 2157,\n        \"samples\": [\n          \"Riesling Ried Loibenberg Smaragd\",\n          \"Villa de Corullon\",\n          \"Hacienda Monasterio\"\n        ],\n        \"semantic_type\": \"\",\n        \"description\": \"\"\n      }\n    },\n    {\n      \"column\": \"country\",\n      \"properties\": {\n        \"dtype\": \"category\",\n        \"num_unique_values\": 20,\n        \"samples\": [\n          \"\\u042e\\u0436\\u043d\\u0430\\u044f \\u0410\\u0444\\u0440\\u0438\\u043a\\u0430\",\n          \"\\u0420\\u0435\\u0441\\u043f\\u0443\\u0431\\u043b\\u0438\\u043a\\u0430 \\u041c\\u043e\\u043b\\u0434\\u043e\\u0432\\u0430\",\n          \"\\u0421\\u043e\\u0435\\u0434\\u0438\\u043d\\u0435\\u043d\\u043d\\u044b\\u0435 \\u0428\\u0442\\u0430\\u0442\\u044b \\u0410\\u043c\\u0435\\u0440\\u0438\\u043a\\u0438\"\n        ],\n        \"semantic_type\": \"\",\n        \"description\": \"\"\n      }\n    },\n    {\n      \"column\": \"color\",\n      \"properties\": {\n        \"dtype\": \"category\",\n        \"num_unique_values\": 3,\n        \"samples\": [\n          \"\\u043a\\u0440\\u0430\\u0441\\u043d\\u043e\\u0435\",\n          \"\\u0431\\u0435\\u043b\\u043e\\u0435\",\n          \"\\u0440\\u043e\\u0437\\u043e\\u0432\\u043e\\u0435\"\n        ],\n        \"semantic_type\": \"\",\n        \"description\": \"\"\n      }\n    },\n    {\n      \"column\": \"sugar\",\n      \"properties\": {\n        \"dtype\": \"category\",\n        \"num_unique_values\": 4,\n        \"samples\": [\n          \"\\u043f\\u043e\\u043b\\u0443\\u0441\\u0443\\u0445\\u043e\\u0435\",\n          \"\\u0441\\u043b\\u0430\\u0434\\u043a\\u043e\\u0435\",\n          \"\\u0441\\u0443\\u0445\\u043e\\u0435\"\n        ],\n        \"semantic_type\": \"\",\n        \"description\": \"\"\n      }\n    },\n    {\n      \"column\": \"volume\",\n      \"properties\": {\n        \"dtype\": \"number\",\n        \"std\": 0.2562885599287769,\n        \"min\": 0.187,\n        \"max\": 3.0,\n        \"num_unique_values\": 6,\n        \"samples\": [\n          0.75,\n          0.375,\n          3.0\n        ],\n        \"semantic_type\": \"\",\n        \"description\": \"\"\n      }\n    },\n    {\n      \"column\": \"manufacturer\",\n      \"properties\": {\n        \"dtype\": \"category\",\n        \"num_unique_values\": 517,\n        \"samples\": [\n          \"Chateau Haut-Batailley\",\n          \"La Pizzuta del Principe\",\n          \"Domaine Clos de Tart\"\n        ],\n        \"semantic_type\": \"\",\n        \"description\": \"\"\n      }\n    },\n    {\n      \"column\": \"region\",\n      \"properties\": {\n        \"dtype\": \"category\",\n        \"num_unique_values\": 4,\n        \"samples\": [\n          \"Europe\",\n          \"Oceania\",\n          \"Africa\"\n        ],\n        \"semantic_type\": \"\",\n        \"description\": \"\"\n      }\n    },\n    {\n      \"column\": \"grape\",\n      \"properties\": {\n        \"dtype\": \"category\",\n        \"num_unique_values\": 930,\n        \"samples\": [\n          \"\\u043a\\u0430\\u0431\\u0435\\u0440\\u043d\\u0435 \\u0441\\u043e\\u0432\\u0438\\u043d\\u044c\\u043e\\u043d 61%, \\u043c\\u0435\\u0440\\u043b\\u043e 29%, \\u043a\\u0430\\u0431\\u0435\\u0440\\u043d\\u0435 \\u0444\\u0440\\u0430\\u043d 10%\",\n          \"\\u0440\\u0438\\u0441\\u043b\\u0438\\u043d\\u0433, \\u043c\\u0430\\u043b\\u044c\\u0432\\u0430\\u0437\\u0438\\u044f, \\u043f\\u0438\\u043d\\u043e \\u0431\\u043b\\u0430\\u043d, \\u0430\\u043b\\u0438\\u0433\\u043e\\u0442\\u0435\",\n          \"\\u043f\\u0440\\u0438\\u043c\\u0438\\u0442\\u0438\\u0432\\u043e 100%\"\n        ],\n        \"semantic_type\": \"\",\n        \"description\": \"\"\n      }\n    },\n    {\n      \"column\": \"year\",\n      \"properties\": {\n        \"dtype\": \"number\",\n        \"std\": 4,\n        \"min\": 1981,\n        \"max\": 2023,\n        \"num_unique_values\": 36,\n        \"samples\": [\n          1997,\n          2012,\n          2000\n        ],\n        \"semantic_type\": \"\",\n        \"description\": \"\"\n      }\n    },\n    {\n      \"column\": \"price\",\n      \"properties\": {\n        \"dtype\": \"number\",\n        \"std\": 30934,\n        \"min\": 490,\n        \"max\": 249990,\n        \"num_unique_values\": 293,\n        \"samples\": [\n          17490,\n          66490,\n          1490\n        ],\n        \"semantic_type\": \"\",\n        \"description\": \"\"\n      }\n    }\n  ]\n}"
            }
          },
          "metadata": {},
          "execution_count": 38
        }
      ]
    },
    {
      "cell_type": "code",
      "source": [
        "plt.hist(df['region'], bins=10, color='blue', alpha=0.7)\n",
        "plt.xlabel('Регион производства')\n",
        "plt.ylabel('Частота')\n",
        "plt.title('Распределение вин по региону производства')\n",
        "plt.show()"
      ],
      "metadata": {
        "colab": {
          "base_uri": "https://localhost:8080/",
          "height": 472
        },
        "id": "omRrzVzWRWXH",
        "outputId": "067259e6-a555-4c0e-d5bf-b1882a52de6a"
      },
      "execution_count": 39,
      "outputs": [
        {
          "output_type": "display_data",
          "data": {
            "text/plain": [
              "<Figure size 640x480 with 1 Axes>"
            ],
            "image/png": "[encoded data removed]"
          },
          "metadata": {}
        }
      ]
    },
    {
      "cell_type": "markdown",
      "source": [
        "### **Новый признак колонки year**"
      ],
      "metadata": {
        "id": "zrPSbNySX0ax"
      }
    },
    {
      "cell_type": "code",
      "source": [
        "sorted(df['year'].unique())"
      ],
      "metadata": {
        "colab": {
          "base_uri": "https://localhost:8080/"
        },
        "id": "9VLWrkQLX7I7",
        "outputId": "27ed3981-7699-489d-e10d-d51396e94d78"
      },
      "execution_count": 40,
      "outputs": [
        {
          "output_type": "execute_result",
          "data": {
            "text/plain": [
              "[1981,\n",
              " 1982,\n",
              " 1983,\n",
              " 1985,\n",
              " 1986,\n",
              " 1988,\n",
              " 1990,\n",
              " 1995,\n",
              " 1996,\n",
              " 1997,\n",
              " 1998,\n",
              " 1999,\n",
              " 2000,\n",
              " 2001,\n",
              " 2002,\n",
              " 2003,\n",
              " 2004,\n",
              " 2005,\n",
              " 2006,\n",
              " 2007,\n",
              " 2008,\n",
              " 2009,\n",
              " 2010,\n",
              " 2011,\n",
              " 2012,\n",
              " 2013,\n",
              " 2014,\n",
              " 2015,\n",
              " 2016,\n",
              " 2017,\n",
              " 2018,\n",
              " 2019,\n",
              " 2020,\n",
              " 2021,\n",
              " 2022,\n",
              " 2023]"
            ]
          },
          "metadata": {},
          "execution_count": 40
        }
      ]
    },
    {
      "cell_type": "code",
      "source": [
        "grand = range(1981, 2000)\n",
        "old = range(2000, 2010)\n",
        "new = range(2010, 2020)\n",
        "baby = range(2020, 2024)"
      ],
      "metadata": {
        "id": "OosANcQ-Yoxy"
      },
      "execution_count": 41,
      "outputs": []
    },
    {
      "cell_type": "code",
      "source": [
        "def time(x):\n",
        "  if x in grand:\n",
        "    return '1980 - 1999'\n",
        "  elif x in old:\n",
        "    return '2000 - 2009'\n",
        "  elif x in new:\n",
        "    return '2010 - 2019'\n",
        "  else:\n",
        "    return '2020 - 2023'"
      ],
      "metadata": {
        "id": "tzbAvLU4Yx1T"
      },
      "execution_count": 42,
      "outputs": []
    },
    {
      "cell_type": "code",
      "source": [
        "df['period of time'] = df['year'].apply(time)\n",
        "df.head()"
      ],
      "metadata": {
        "colab": {
          "base_uri": "https://localhost:8080/",
          "height": 206
        },
        "id": "qx0BODBNYx6A",
        "outputId": "44115a63-17d1-4162-d338-3d6f34a44dcf"
      },
      "execution_count": 43,
      "outputs": [
        {
          "output_type": "execute_result",
          "data": {
            "text/plain": [
              "                                  name       country    color      sugar  \\\n",
              "0                    Shiraz Mr Borio's  Южная Африка  красное      сухое   \n",
              "1       Gavi dei Gavi (Etichetta Nera)        Италия    белое      сухое   \n",
              "2  Красностоп Золотовский на Террасах         Россия  красное      сухое   \n",
              "3                Vermentino di Toscana        Италия    белое      сухое   \n",
              "4                            Pfefferer        Италия    белое  полусухое   \n",
              "\n",
              "   volume        manufacturer  region               grape  year  price  \\\n",
              "0    0.75            Simonsig  Africa          шираз 100%  2020   2990   \n",
              "1    0.75           La Scolca  Europe        кортезе 100%  2022   5990   \n",
              "2    0.75              Сикоры  Europe     красностоп 100%  2018   5490   \n",
              "3    0.75  Fattoria del Cerro  Europe          верментино  2022   2490   \n",
              "4    0.75         Colterenzio  Europe  мускат желтый 100%  2023   2490   \n",
              "\n",
              "  period of time  \n",
              "0    2020 - 2023  \n",
              "1    2020 - 2023  \n",
              "2    2010 - 2019  \n",
              "3    2020 - 2023  \n",
              "4    2020 - 2023  "
            ],
            "text/html": [
              "\n",
              "  <div id=\"df-aff9a6fe-644f-461d-8c89-2f7c4d8247e7\" class=\"colab-df-container\">\n",
              "    <div>\n",
              "<style scoped>\n",
              "    .dataframe tbody tr th:only-of-type {\n",
              "        vertical-align: middle;\n",
              "    }\n",
              "\n",
              "    .dataframe tbody tr th {\n",
              "        vertical-align: top;\n",
              "    }\n",
              "\n",
              "    .dataframe thead th {\n",
              "        text-align: right;\n",
              "    }\n",
              "</style>\n",
              "<table border=\"1\" class=\"dataframe\">\n",
              "  <thead>\n",
              "    <tr style=\"text-align: right;\">\n",
              "      <th></th>\n",
              "      <th>name</th>\n",
              "      <th>country</th>\n",
              "      <th>color</th>\n",
              "      <th>sugar</th>\n",
              "      <th>volume</th>\n",
              "      <th>manufacturer</th>\n",
              "      <th>region</th>\n",
              "      <th>grape</th>\n",
              "      <th>year</th>\n",
              "      <th>price</th>\n",
              "      <th>period of time</th>\n",
              "    </tr>\n",
              "  </thead>\n",
              "  <tbody>\n",
              "    <tr>\n",
              "      <th>0</th>\n",
              "      <td>Shiraz Mr Borio's</td>\n",
              "      <td>Южная Африка</td>\n",
              "      <td>красное</td>\n",
              "      <td>сухое</td>\n",
              "      <td>0.75</td>\n",
              "      <td>Simonsig</td>\n",
              "      <td>Africa</td>\n",
              "      <td>шираз 100%</td>\n",
              "      <td>2020</td>\n",
              "      <td>2990</td>\n",
              "      <td>2020 - 2023</td>\n",
              "    </tr>\n",
              "    <tr>\n",
              "      <th>1</th>\n",
              "      <td>Gavi dei Gavi (Etichetta Nera)</td>\n",
              "      <td>Италия</td>\n",
              "      <td>белое</td>\n",
              "      <td>сухое</td>\n",
              "      <td>0.75</td>\n",
              "      <td>La Scolca</td>\n",
              "      <td>Europe</td>\n",
              "      <td>кортезе 100%</td>\n",
              "      <td>2022</td>\n",
              "      <td>5990</td>\n",
              "      <td>2020 - 2023</td>\n",
              "    </tr>\n",
              "    <tr>\n",
              "      <th>2</th>\n",
              "      <td>Красностоп Золотовский на Террасах</td>\n",
              "      <td>Россия</td>\n",
              "      <td>красное</td>\n",
              "      <td>сухое</td>\n",
              "      <td>0.75</td>\n",
              "      <td>Сикоры</td>\n",
              "      <td>Europe</td>\n",
              "      <td>красностоп 100%</td>\n",
              "      <td>2018</td>\n",
              "      <td>5490</td>\n",
              "      <td>2010 - 2019</td>\n",
              "    </tr>\n",
              "    <tr>\n",
              "      <th>3</th>\n",
              "      <td>Vermentino di Toscana</td>\n",
              "      <td>Италия</td>\n",
              "      <td>белое</td>\n",
              "      <td>сухое</td>\n",
              "      <td>0.75</td>\n",
              "      <td>Fattoria del Cerro</td>\n",
              "      <td>Europe</td>\n",
              "      <td>верментино</td>\n",
              "      <td>2022</td>\n",
              "      <td>2490</td>\n",
              "      <td>2020 - 2023</td>\n",
              "    </tr>\n",
              "    <tr>\n",
              "      <th>4</th>\n",
              "      <td>Pfefferer</td>\n",
              "      <td>Италия</td>\n",
              "      <td>белое</td>\n",
              "      <td>полусухое</td>\n",
              "      <td>0.75</td>\n",
              "      <td>Colterenzio</td>\n",
              "      <td>Europe</td>\n",
              "      <td>мускат желтый 100%</td>\n",
              "      <td>2023</td>\n",
              "      <td>2490</td>\n",
              "      <td>2020 - 2023</td>\n",
              "    </tr>\n",
              "  </tbody>\n",
              "</table>\n",
              "</div>\n",
              "    <div class=\"colab-df-buttons\">\n",
              "\n",
              "  <div class=\"colab-df-container\">\n",
              "    <button class=\"colab-df-convert\" onclick=\"convertToInteractive('df-aff9a6fe-644f-461d-8c89-2f7c4d8247e7')\"\n",
              "            title=\"Convert this dataframe to an interactive table.\"\n",
              "            style=\"display:none;\">\n",
              "\n",
              "  <svg xmlns=\"http://www.w3.org/2000/svg\" height=\"24px\" viewBox=\"0 -960 960 960\">\n",
              "    <path d=\"M120-120v-720h720v720H120Zm60-500h600v-160H180v160Zm220 220h160v-160H400v160Zm0 220h160v-160H400v160ZM180-400h160v-160H180v160Zm440 0h160v-160H620v160ZM180-180h160v-160H180v160Zm440 0h160v-160H620v160Z\"/>\n",
              "  </svg>\n",
              "    </button>\n",
              "\n",
              "  <style>\n",
              "    .colab-df-container {\n",
              "      display:flex;\n",
              "      gap: 12px;\n",
              "    }\n",
              "\n",
              "    .colab-df-convert {\n",
              "      background-color: #E8F0FE;\n",
              "      border: none;\n",
              "      border-radius: 50%;\n",
              "      cursor: pointer;\n",
              "      display: none;\n",
              "      fill: #1967D2;\n",
              "      height: 32px;\n",
              "      padding: 0 0 0 0;\n",
              "      width: 32px;\n",
              "    }\n",
              "\n",
              "    .colab-df-convert:hover {\n",
              "      background-color: #E2EBFA;\n",
              "      box-shadow: 0px 1px 2px rgba(60, 64, 67, 0.3), 0px 1px 3px 1px rgba(60, 64, 67, 0.15);\n",
              "      fill: #174EA6;\n",
              "    }\n",
              "\n",
              "    .colab-df-buttons div {\n",
              "      margin-bottom: 4px;\n",
              "    }\n",
              "\n",
              "    [theme=dark] .colab-df-convert {\n",
              "      background-color: #3B4455;\n",
              "      fill: #D2E3FC;\n",
              "    }\n",
              "\n",
              "    [theme=dark] .colab-df-convert:hover {\n",
              "      background-color: #434B5C;\n",
              "      box-shadow: 0px 1px 3px 1px rgba(0, 0, 0, 0.15);\n",
              "      filter: drop-shadow(0px 1px 2px rgba(0, 0, 0, 0.3));\n",
              "      fill: #FFFFFF;\n",
              "    }\n",
              "  </style>\n",
              "\n",
              "    <script>\n",
              "      const buttonEl =\n",
              "        document.querySelector('#df-aff9a6fe-644f-461d-8c89-2f7c4d8247e7 button.colab-df-convert');\n",
              "      buttonEl.style.display =\n",
              "        google.colab.kernel.accessAllowed ? 'block' : 'none';\n",
              "\n",
              "      async function convertToInteractive(key) {\n",
              "        const element = document.querySelector('#df-aff9a6fe-644f-461d-8c89-2f7c4d8247e7');\n",
              "        const dataTable =\n",
              "          await google.colab.kernel.invokeFunction('convertToInteractive',\n",
              "                                                    [key], {});\n",
              "        if (!dataTable) return;\n",
              "\n",
              "        const docLinkHtml = 'Like what you see? Visit the ' +\n",
              "          '<a target=\"_blank\" href=https://colab.research.google.com/notebooks/data_table.ipynb>data table notebook</a>'\n",
              "          + ' to learn more about interactive tables.';\n",
              "        element.innerHTML = '';\n",
              "        dataTable['output_type'] = 'display_data';\n",
              "        await google.colab.output.renderOutput(dataTable, element);\n",
              "        const docLink = document.createElement('div');\n",
              "        docLink.innerHTML = docLinkHtml;\n",
              "        element.appendChild(docLink);\n",
              "      }\n",
              "    </script>\n",
              "  </div>\n",
              "\n",
              "\n",
              "<div id=\"df-d7c1013b-6834-453a-8b6e-ac6c9f49e7ba\">\n",
              "  <button class=\"colab-df-quickchart\" onclick=\"quickchart('df-d7c1013b-6834-453a-8b6e-ac6c9f49e7ba')\"\n",
              "            title=\"Suggest charts\"\n",
              "            style=\"display:none;\">\n",
              "\n",
              "<svg xmlns=\"http://www.w3.org/2000/svg\" height=\"24px\"viewBox=\"0 0 24 24\"\n",
              "     width=\"24px\">\n",
              "    <g>\n",
              "        <path d=\"M19 3H5c-1.1 0-2 .9-2 2v14c0 1.1.9 2 2 2h14c1.1 0 2-.9 2-2V5c0-1.1-.9-2-2-2zM9 17H7v-7h2v7zm4 0h-2V7h2v10zm4 0h-2v-4h2v4z\"/>\n",
              "    </g>\n",
              "</svg>\n",
              "  </button>\n",
              "\n",
              "<style>\n",
              "  .colab-df-quickchart {\n",
              "      --bg-color: #E8F0FE;\n",
              "      --fill-color: #1967D2;\n",
              "      --hover-bg-color: #E2EBFA;\n",
              "      --hover-fill-color: #174EA6;\n",
              "      --disabled-fill-color: #AAA;\n",
              "      --disabled-bg-color: #DDD;\n",
              "  }\n",
              "\n",
              "  [theme=dark] .colab-df-quickchart {\n",
              "      --bg-color: #3B4455;\n",
              "      --fill-color: #D2E3FC;\n",
              "      --hover-bg-color: #434B5C;\n",
              "      --hover-fill-color: #FFFFFF;\n",
              "      --disabled-bg-color: #3B4455;\n",
              "      --disabled-fill-color: #666;\n",
              "  }\n",
              "\n",
              "  .colab-df-quickchart {\n",
              "    background-color: var(--bg-color);\n",
              "    border: none;\n",
              "    border-radius: 50%;\n",
              "    cursor: pointer;\n",
              "    display: none;\n",
              "    fill: var(--fill-color);\n",
              "    height: 32px;\n",
              "    padding: 0;\n",
              "    width: 32px;\n",
              "  }\n",
              "\n",
              "  .colab-df-quickchart:hover {\n",
              "    background-color: var(--hover-bg-color);\n",
              "    box-shadow: 0 1px 2px rgba(60, 64, 67, 0.3), 0 1px 3px 1px rgba(60, 64, 67, 0.15);\n",
              "    fill: var(--button-hover-fill-color);\n",
              "  }\n",
              "\n",
              "  .colab-df-quickchart-complete:disabled,\n",
              "  .colab-df-quickchart-complete:disabled:hover {\n",
              "    background-color: var(--disabled-bg-color);\n",
              "    fill: var(--disabled-fill-color);\n",
              "    box-shadow: none;\n",
              "  }\n",
              "\n",
              "  .colab-df-spinner {\n",
              "    border: 2px solid var(--fill-color);\n",
              "    border-color: transparent;\n",
              "    border-bottom-color: var(--fill-color);\n",
              "    animation:\n",
              "      spin 1s steps(1) infinite;\n",
              "  }\n",
              "\n",
              "  @keyframes spin {\n",
              "    0% {\n",
              "      border-color: transparent;\n",
              "      border-bottom-color: var(--fill-color);\n",
              "      border-left-color: var(--fill-color);\n",
              "    }\n",
              "    20% {\n",
              "      border-color: transparent;\n",
              "      border-left-color: var(--fill-color);\n",
              "      border-top-color: var(--fill-color);\n",
              "    }\n",
              "    30% {\n",
              "      border-color: transparent;\n",
              "      border-left-color: var(--fill-color);\n",
              "      border-top-color: var(--fill-color);\n",
              "      border-right-color: var(--fill-color);\n",
              "    }\n",
              "    40% {\n",
              "      border-color: transparent;\n",
              "      border-right-color: var(--fill-color);\n",
              "      border-top-color: var(--fill-color);\n",
              "    }\n",
              "    60% {\n",
              "      border-color: transparent;\n",
              "      border-right-color: var(--fill-color);\n",
              "    }\n",
              "    80% {\n",
              "      border-color: transparent;\n",
              "      border-right-color: var(--fill-color);\n",
              "      border-bottom-color: var(--fill-color);\n",
              "    }\n",
              "    90% {\n",
              "      border-color: transparent;\n",
              "      border-bottom-color: var(--fill-color);\n",
              "    }\n",
              "  }\n",
              "</style>\n",
              "\n",
              "  <script>\n",
              "    async function quickchart(key) {\n",
              "      const quickchartButtonEl =\n",
              "        document.querySelector('#' + key + ' button');\n",
              "      quickchartButtonEl.disabled = true;  // To prevent multiple clicks.\n",
              "      quickchartButtonEl.classList.add('colab-df-spinner');\n",
              "      try {\n",
              "        const charts = await google.colab.kernel.invokeFunction(\n",
              "            'suggestCharts', [key], {});\n",
              "      } catch (error) {\n",
              "        console.error('Error during call to suggestCharts:', error);\n",
              "      }\n",
              "      quickchartButtonEl.classList.remove('colab-df-spinner');\n",
              "      quickchartButtonEl.classList.add('colab-df-quickchart-complete');\n",
              "    }\n",
              "    (() => {\n",
              "      let quickchartButtonEl =\n",
              "        document.querySelector('#df-d7c1013b-6834-453a-8b6e-ac6c9f49e7ba button');\n",
              "      quickchartButtonEl.style.display =\n",
              "        google.colab.kernel.accessAllowed ? 'block' : 'none';\n",
              "    })();\n",
              "  </script>\n",
              "</div>\n",
              "    </div>\n",
              "  </div>\n"
            ],
            "application/vnd.google.colaboratory.intrinsic+json": {
              "type": "dataframe",
              "variable_name": "df",
              "summary": "{\n  \"name\": \"df\",\n  \"rows\": 5416,\n  \"fields\": [\n    {\n      \"column\": \"name\",\n      \"properties\": {\n        \"dtype\": \"category\",\n        \"num_unique_values\": 2157,\n        \"samples\": [\n          \"Riesling Ried Loibenberg Smaragd\",\n          \"Villa de Corullon\",\n          \"Hacienda Monasterio\"\n        ],\n        \"semantic_type\": \"\",\n        \"description\": \"\"\n      }\n    },\n    {\n      \"column\": \"country\",\n      \"properties\": {\n        \"dtype\": \"category\",\n        \"num_unique_values\": 20,\n        \"samples\": [\n          \"\\u042e\\u0436\\u043d\\u0430\\u044f \\u0410\\u0444\\u0440\\u0438\\u043a\\u0430\",\n          \"\\u0420\\u0435\\u0441\\u043f\\u0443\\u0431\\u043b\\u0438\\u043a\\u0430 \\u041c\\u043e\\u043b\\u0434\\u043e\\u0432\\u0430\",\n          \"\\u0421\\u043e\\u0435\\u0434\\u0438\\u043d\\u0435\\u043d\\u043d\\u044b\\u0435 \\u0428\\u0442\\u0430\\u0442\\u044b \\u0410\\u043c\\u0435\\u0440\\u0438\\u043a\\u0438\"\n        ],\n        \"semantic_type\": \"\",\n        \"description\": \"\"\n      }\n    },\n    {\n      \"column\": \"color\",\n      \"properties\": {\n        \"dtype\": \"category\",\n        \"num_unique_values\": 3,\n        \"samples\": [\n          \"\\u043a\\u0440\\u0430\\u0441\\u043d\\u043e\\u0435\",\n          \"\\u0431\\u0435\\u043b\\u043e\\u0435\",\n          \"\\u0440\\u043e\\u0437\\u043e\\u0432\\u043e\\u0435\"\n        ],\n        \"semantic_type\": \"\",\n        \"description\": \"\"\n      }\n    },\n    {\n      \"column\": \"sugar\",\n      \"properties\": {\n        \"dtype\": \"category\",\n        \"num_unique_values\": 4,\n        \"samples\": [\n          \"\\u043f\\u043e\\u043b\\u0443\\u0441\\u0443\\u0445\\u043e\\u0435\",\n          \"\\u0441\\u043b\\u0430\\u0434\\u043a\\u043e\\u0435\",\n          \"\\u0441\\u0443\\u0445\\u043e\\u0435\"\n        ],\n        \"semantic_type\": \"\",\n        \"description\": \"\"\n      }\n    },\n    {\n      \"column\": \"volume\",\n      \"properties\": {\n        \"dtype\": \"number\",\n        \"std\": 0.2562885599287769,\n        \"min\": 0.187,\n        \"max\": 3.0,\n        \"num_unique_values\": 6,\n        \"samples\": [\n          0.75,\n          0.375,\n          3.0\n        ],\n        \"semantic_type\": \"\",\n        \"description\": \"\"\n      }\n    },\n    {\n      \"column\": \"manufacturer\",\n      \"properties\": {\n        \"dtype\": \"category\",\n        \"num_unique_values\": 517,\n        \"samples\": [\n          \"Chateau Haut-Batailley\",\n          \"La Pizzuta del Principe\",\n          \"Domaine Clos de Tart\"\n        ],\n        \"semantic_type\": \"\",\n        \"description\": \"\"\n      }\n    },\n    {\n      \"column\": \"region\",\n      \"properties\": {\n        \"dtype\": \"category\",\n        \"num_unique_values\": 4,\n        \"samples\": [\n          \"Europe\",\n          \"Oceania\",\n          \"Africa\"\n        ],\n        \"semantic_type\": \"\",\n        \"description\": \"\"\n      }\n    },\n    {\n      \"column\": \"grape\",\n      \"properties\": {\n        \"dtype\": \"category\",\n        \"num_unique_values\": 930,\n        \"samples\": [\n          \"\\u043a\\u0430\\u0431\\u0435\\u0440\\u043d\\u0435 \\u0441\\u043e\\u0432\\u0438\\u043d\\u044c\\u043e\\u043d 61%, \\u043c\\u0435\\u0440\\u043b\\u043e 29%, \\u043a\\u0430\\u0431\\u0435\\u0440\\u043d\\u0435 \\u0444\\u0440\\u0430\\u043d 10%\",\n          \"\\u0440\\u0438\\u0441\\u043b\\u0438\\u043d\\u0433, \\u043c\\u0430\\u043b\\u044c\\u0432\\u0430\\u0437\\u0438\\u044f, \\u043f\\u0438\\u043d\\u043e \\u0431\\u043b\\u0430\\u043d, \\u0430\\u043b\\u0438\\u0433\\u043e\\u0442\\u0435\",\n          \"\\u043f\\u0440\\u0438\\u043c\\u0438\\u0442\\u0438\\u0432\\u043e 100%\"\n        ],\n        \"semantic_type\": \"\",\n        \"description\": \"\"\n      }\n    },\n    {\n      \"column\": \"year\",\n      \"properties\": {\n        \"dtype\": \"number\",\n        \"std\": 4,\n        \"min\": 1981,\n        \"max\": 2023,\n        \"num_unique_values\": 36,\n        \"samples\": [\n          1997,\n          2012,\n          2000\n        ],\n        \"semantic_type\": \"\",\n        \"description\": \"\"\n      }\n    },\n    {\n      \"column\": \"price\",\n      \"properties\": {\n        \"dtype\": \"number\",\n        \"std\": 30934,\n        \"min\": 490,\n        \"max\": 249990,\n        \"num_unique_values\": 293,\n        \"samples\": [\n          17490,\n          66490,\n          1490\n        ],\n        \"semantic_type\": \"\",\n        \"description\": \"\"\n      }\n    },\n    {\n      \"column\": \"period of time\",\n      \"properties\": {\n        \"dtype\": \"category\",\n        \"num_unique_values\": 4,\n        \"samples\": [\n          \"2010 - 2019\",\n          \"1980 - 1999\",\n          \"2020 - 2023\"\n        ],\n        \"semantic_type\": \"\",\n        \"description\": \"\"\n      }\n    }\n  ]\n}"
            }
          },
          "metadata": {},
          "execution_count": 43
        }
      ]
    },
    {
      "cell_type": "code",
      "source": [
        "plt.hist(df['period of time'], bins=10, color='blue', alpha=0.7)\n",
        "plt.xlabel('Эра производства')\n",
        "plt.ylabel('Частота')\n",
        "plt.title('Столбчатая диаграмма распределения вина по времени производства')\n",
        "plt.show()"
      ],
      "metadata": {
        "id": "xAmp3Wu1aKe8",
        "outputId": "b88f7285-9883-491b-e46b-9fe7b2efa37e",
        "colab": {
          "base_uri": "https://localhost:8080/",
          "height": 472
        }
      },
      "execution_count": 44,
      "outputs": [
        {
          "output_type": "display_data",
          "data": {
            "text/plain": [
              "<Figure size 640x480 with 1 Axes>"
            ],
            "image/png": "[encoded data removed]"
          },
          "metadata": {}
        }
      ]
    },
    {
      "cell_type": "markdown",
      "source": [
        "### **Новый признак колонки цена**"
      ],
      "metadata": {
        "id": "CCFTR1e9VNsZ"
      }
    },
    {
      "cell_type": "code",
      "source": [
        " a = df['price'].quantile(0.25)\n",
        " b = df['price'].quantile(0.5)\n",
        " c = df['price'].quantile(0.75)"
      ],
      "metadata": {
        "id": "radVsj3eVnCI"
      },
      "execution_count": 45,
      "outputs": []
    },
    {
      "cell_type": "markdown",
      "source": [
        "Для создании категории \"costliness\" разобьем вина по их стоимости. Назовем вина, цена которых ниже первого квантиля, дешевыми. Винами \"ниже среднего\" будут названы вина, чья цена лежит в промежутке от первого до второго квантиля. Далее будут вина \"выше среднего\", а те вина, чья цена выше 3 квантиля будут называться \"дорогими\""
      ],
      "metadata": {
        "id": "Kg7JVHqjVsxR"
      }
    },
    {
      "cell_type": "code",
      "source": [
        "def price_label(x):\n",
        "  if x < a:\n",
        "    return \"cheap\"\n",
        "  elif a <= x < b:\n",
        "    return 'below average'\n",
        "  elif b <= x < c:\n",
        "    return 'above average'\n",
        "  else:\n",
        "    return 'expensive'"
      ],
      "metadata": {
        "id": "rdet3sjrVudX"
      },
      "execution_count": 46,
      "outputs": []
    },
    {
      "cell_type": "code",
      "source": [
        "df['costliness'] = df['price'].apply(price_label)\n",
        "df.head()"
      ],
      "metadata": {
        "colab": {
          "base_uri": "https://localhost:8080/",
          "height": 206
        },
        "id": "qsgLAmsEVxvN",
        "outputId": "aa798809-b50f-4820-fa5d-c397a2ec89b5"
      },
      "execution_count": 47,
      "outputs": [
        {
          "output_type": "execute_result",
          "data": {
            "text/plain": [
              "                                  name       country    color      sugar  \\\n",
              "0                    Shiraz Mr Borio's  Южная Африка  красное      сухое   \n",
              "1       Gavi dei Gavi (Etichetta Nera)        Италия    белое      сухое   \n",
              "2  Красностоп Золотовский на Террасах         Россия  красное      сухое   \n",
              "3                Vermentino di Toscana        Италия    белое      сухое   \n",
              "4                            Pfefferer        Италия    белое  полусухое   \n",
              "\n",
              "   volume        manufacturer  region               grape  year  price  \\\n",
              "0    0.75            Simonsig  Africa          шираз 100%  2020   2990   \n",
              "1    0.75           La Scolca  Europe        кортезе 100%  2022   5990   \n",
              "2    0.75              Сикоры  Europe     красностоп 100%  2018   5490   \n",
              "3    0.75  Fattoria del Cerro  Europe          верментино  2022   2490   \n",
              "4    0.75         Colterenzio  Europe  мускат желтый 100%  2023   2490   \n",
              "\n",
              "  period of time     costliness  \n",
              "0    2020 - 2023          cheap  \n",
              "1    2020 - 2023  below average  \n",
              "2    2010 - 2019  below average  \n",
              "3    2020 - 2023          cheap  \n",
              "4    2020 - 2023          cheap  "
            ],
            "text/html": [
              "\n",
              "  <div id=\"df-650d7e69-a101-4b86-a6c1-6fef360c1cfd\" class=\"colab-df-container\">\n",
              "    <div>\n",
              "<style scoped>\n",
              "    .dataframe tbody tr th:only-of-type {\n",
              "        vertical-align: middle;\n",
              "    }\n",
              "\n",
              "    .dataframe tbody tr th {\n",
              "        vertical-align: top;\n",
              "    }\n",
              "\n",
              "    .dataframe thead th {\n",
              "        text-align: right;\n",
              "    }\n",
              "</style>\n",
              "<table border=\"1\" class=\"dataframe\">\n",
              "  <thead>\n",
              "    <tr style=\"text-align: right;\">\n",
              "      <th></th>\n",
              "      <th>name</th>\n",
              "      <th>country</th>\n",
              "      <th>color</th>\n",
              "      <th>sugar</th>\n",
              "      <th>volume</th>\n",
              "      <th>manufacturer</th>\n",
              "      <th>region</th>\n",
              "      <th>grape</th>\n",
              "      <th>year</th>\n",
              "      <th>price</th>\n",
              "      <th>period of time</th>\n",
              "      <th>costliness</th>\n",
              "    </tr>\n",
              "  </thead>\n",
              "  <tbody>\n",
              "    <tr>\n",
              "      <th>0</th>\n",
              "      <td>Shiraz Mr Borio's</td>\n",
              "      <td>Южная Африка</td>\n",
              "      <td>красное</td>\n",
              "      <td>сухое</td>\n",
              "      <td>0.75</td>\n",
              "      <td>Simonsig</td>\n",
              "      <td>Africa</td>\n",
              "      <td>шираз 100%</td>\n",
              "      <td>2020</td>\n",
              "      <td>2990</td>\n",
              "      <td>2020 - 2023</td>\n",
              "      <td>cheap</td>\n",
              "    </tr>\n",
              "    <tr>\n",
              "      <th>1</th>\n",
              "      <td>Gavi dei Gavi (Etichetta Nera)</td>\n",
              "      <td>Италия</td>\n",
              "      <td>белое</td>\n",
              "      <td>сухое</td>\n",
              "      <td>0.75</td>\n",
              "      <td>La Scolca</td>\n",
              "      <td>Europe</td>\n",
              "      <td>кортезе 100%</td>\n",
              "      <td>2022</td>\n",
              "      <td>5990</td>\n",
              "      <td>2020 - 2023</td>\n",
              "      <td>below average</td>\n",
              "    </tr>\n",
              "    <tr>\n",
              "      <th>2</th>\n",
              "      <td>Красностоп Золотовский на Террасах</td>\n",
              "      <td>Россия</td>\n",
              "      <td>красное</td>\n",
              "      <td>сухое</td>\n",
              "      <td>0.75</td>\n",
              "      <td>Сикоры</td>\n",
              "      <td>Europe</td>\n",
              "      <td>красностоп 100%</td>\n",
              "      <td>2018</td>\n",
              "      <td>5490</td>\n",
              "      <td>2010 - 2019</td>\n",
              "      <td>below average</td>\n",
              "    </tr>\n",
              "    <tr>\n",
              "      <th>3</th>\n",
              "      <td>Vermentino di Toscana</td>\n",
              "      <td>Италия</td>\n",
              "      <td>белое</td>\n",
              "      <td>сухое</td>\n",
              "      <td>0.75</td>\n",
              "      <td>Fattoria del Cerro</td>\n",
              "      <td>Europe</td>\n",
              "      <td>верментино</td>\n",
              "      <td>2022</td>\n",
              "      <td>2490</td>\n",
              "      <td>2020 - 2023</td>\n",
              "      <td>cheap</td>\n",
              "    </tr>\n",
              "    <tr>\n",
              "      <th>4</th>\n",
              "      <td>Pfefferer</td>\n",
              "      <td>Италия</td>\n",
              "      <td>белое</td>\n",
              "      <td>полусухое</td>\n",
              "      <td>0.75</td>\n",
              "      <td>Colterenzio</td>\n",
              "      <td>Europe</td>\n",
              "      <td>мускат желтый 100%</td>\n",
              "      <td>2023</td>\n",
              "      <td>2490</td>\n",
              "      <td>2020 - 2023</td>\n",
              "      <td>cheap</td>\n",
              "    </tr>\n",
              "  </tbody>\n",
              "</table>\n",
              "</div>\n",
              "    <div class=\"colab-df-buttons\">\n",
              "\n",
              "  <div class=\"colab-df-container\">\n",
              "    <button class=\"colab-df-convert\" onclick=\"convertToInteractive('df-650d7e69-a101-4b86-a6c1-6fef360c1cfd')\"\n",
              "            title=\"Convert this dataframe to an interactive table.\"\n",
              "            style=\"display:none;\">\n",
              "\n",
              "  <svg xmlns=\"http://www.w3.org/2000/svg\" height=\"24px\" viewBox=\"0 -960 960 960\">\n",
              "    <path d=\"M120-120v-720h720v720H120Zm60-500h600v-160H180v160Zm220 220h160v-160H400v160Zm0 220h160v-160H400v160ZM180-400h160v-160H180v160Zm440 0h160v-160H620v160ZM180-180h160v-160H180v160Zm440 0h160v-160H620v160Z\"/>\n",
              "  </svg>\n",
              "    </button>\n",
              "\n",
              "  <style>\n",
              "    .colab-df-container {\n",
              "      display:flex;\n",
              "      gap: 12px;\n",
              "    }\n",
              "\n",
              "    .colab-df-convert {\n",
              "      background-color: #E8F0FE;\n",
              "      border: none;\n",
              "      border-radius: 50%;\n",
              "      cursor: pointer;\n",
              "      display: none;\n",
              "      fill: #1967D2;\n",
              "      height: 32px;\n",
              "      padding: 0 0 0 0;\n",
              "      width: 32px;\n",
              "    }\n",
              "\n",
              "    .colab-df-convert:hover {\n",
              "      background-color: #E2EBFA;\n",
              "      box-shadow: 0px 1px 2px rgba(60, 64, 67, 0.3), 0px 1px 3px 1px rgba(60, 64, 67, 0.15);\n",
              "      fill: #174EA6;\n",
              "    }\n",
              "\n",
              "    .colab-df-buttons div {\n",
              "      margin-bottom: 4px;\n",
              "    }\n",
              "\n",
              "    [theme=dark] .colab-df-convert {\n",
              "      background-color: #3B4455;\n",
              "      fill: #D2E3FC;\n",
              "    }\n",
              "\n",
              "    [theme=dark] .colab-df-convert:hover {\n",
              "      background-color: #434B5C;\n",
              "      box-shadow: 0px 1px 3px 1px rgba(0, 0, 0, 0.15);\n",
              "      filter: drop-shadow(0px 1px 2px rgba(0, 0, 0, 0.3));\n",
              "      fill: #FFFFFF;\n",
              "    }\n",
              "  </style>\n",
              "\n",
              "    <script>\n",
              "      const buttonEl =\n",
              "        document.querySelector('#df-650d7e69-a101-4b86-a6c1-6fef360c1cfd button.colab-df-convert');\n",
              "      buttonEl.style.display =\n",
              "        google.colab.kernel.accessAllowed ? 'block' : 'none';\n",
              "\n",
              "      async function convertToInteractive(key) {\n",
              "        const element = document.querySelector('#df-650d7e69-a101-4b86-a6c1-6fef360c1cfd');\n",
              "        const dataTable =\n",
              "          await google.colab.kernel.invokeFunction('convertToInteractive',\n",
              "                                                    [key], {});\n",
              "        if (!dataTable) return;\n",
              "\n",
              "        const docLinkHtml = 'Like what you see? Visit the ' +\n",
              "          '<a target=\"_blank\" href=https://colab.research.google.com/notebooks/data_table.ipynb>data table notebook</a>'\n",
              "          + ' to learn more about interactive tables.';\n",
              "        element.innerHTML = '';\n",
              "        dataTable['output_type'] = 'display_data';\n",
              "        await google.colab.output.renderOutput(dataTable, element);\n",
              "        const docLink = document.createElement('div');\n",
              "        docLink.innerHTML = docLinkHtml;\n",
              "        element.appendChild(docLink);\n",
              "      }\n",
              "    </script>\n",
              "  </div>\n",
              "\n",
              "\n",
              "<div id=\"df-f9b9eb32-d342-4531-9d22-d5c004bee351\">\n",
              "  <button class=\"colab-df-quickchart\" onclick=\"quickchart('df-f9b9eb32-d342-4531-9d22-d5c004bee351')\"\n",
              "            title=\"Suggest charts\"\n",
              "            style=\"display:none;\">\n",
              "\n",
              "<svg xmlns=\"http://www.w3.org/2000/svg\" height=\"24px\"viewBox=\"0 0 24 24\"\n",
              "     width=\"24px\">\n",
              "    <g>\n",
              "        <path d=\"M19 3H5c-1.1 0-2 .9-2 2v14c0 1.1.9 2 2 2h14c1.1 0 2-.9 2-2V5c0-1.1-.9-2-2-2zM9 17H7v-7h2v7zm4 0h-2V7h2v10zm4 0h-2v-4h2v4z\"/>\n",
              "    </g>\n",
              "</svg>\n",
              "  </button>\n",
              "\n",
              "<style>\n",
              "  .colab-df-quickchart {\n",
              "      --bg-color: #E8F0FE;\n",
              "      --fill-color: #1967D2;\n",
              "      --hover-bg-color: #E2EBFA;\n",
              "      --hover-fill-color: #174EA6;\n",
              "      --disabled-fill-color: #AAA;\n",
              "      --disabled-bg-color: #DDD;\n",
              "  }\n",
              "\n",
              "  [theme=dark] .colab-df-quickchart {\n",
              "      --bg-color: #3B4455;\n",
              "      --fill-color: #D2E3FC;\n",
              "      --hover-bg-color: #434B5C;\n",
              "      --hover-fill-color: #FFFFFF;\n",
              "      --disabled-bg-color: #3B4455;\n",
              "      --disabled-fill-color: #666;\n",
              "  }\n",
              "\n",
              "  .colab-df-quickchart {\n",
              "    background-color: var(--bg-color);\n",
              "    border: none;\n",
              "    border-radius: 50%;\n",
              "    cursor: pointer;\n",
              "    display: none;\n",
              "    fill: var(--fill-color);\n",
              "    height: 32px;\n",
              "    padding: 0;\n",
              "    width: 32px;\n",
              "  }\n",
              "\n",
              "  .colab-df-quickchart:hover {\n",
              "    background-color: var(--hover-bg-color);\n",
              "    box-shadow: 0 1px 2px rgba(60, 64, 67, 0.3), 0 1px 3px 1px rgba(60, 64, 67, 0.15);\n",
              "    fill: var(--button-hover-fill-color);\n",
              "  }\n",
              "\n",
              "  .colab-df-quickchart-complete:disabled,\n",
              "  .colab-df-quickchart-complete:disabled:hover {\n",
              "    background-color: var(--disabled-bg-color);\n",
              "    fill: var(--disabled-fill-color);\n",
              "    box-shadow: none;\n",
              "  }\n",
              "\n",
              "  .colab-df-spinner {\n",
              "    border: 2px solid var(--fill-color);\n",
              "    border-color: transparent;\n",
              "    border-bottom-color: var(--fill-color);\n",
              "    animation:\n",
              "      spin 1s steps(1) infinite;\n",
              "  }\n",
              "\n",
              "  @keyframes spin {\n",
              "    0% {\n",
              "      border-color: transparent;\n",
              "      border-bottom-color: var(--fill-color);\n",
              "      border-left-color: var(--fill-color);\n",
              "    }\n",
              "    20% {\n",
              "      border-color: transparent;\n",
              "      border-left-color: var(--fill-color);\n",
              "      border-top-color: var(--fill-color);\n",
              "    }\n",
              "    30% {\n",
              "      border-color: transparent;\n",
              "      border-left-color: var(--fill-color);\n",
              "      border-top-color: var(--fill-color);\n",
              "      border-right-color: var(--fill-color);\n",
              "    }\n",
              "    40% {\n",
              "      border-color: transparent;\n",
              "      border-right-color: var(--fill-color);\n",
              "      border-top-color: var(--fill-color);\n",
              "    }\n",
              "    60% {\n",
              "      border-color: transparent;\n",
              "      border-right-color: var(--fill-color);\n",
              "    }\n",
              "    80% {\n",
              "      border-color: transparent;\n",
              "      border-right-color: var(--fill-color);\n",
              "      border-bottom-color: var(--fill-color);\n",
              "    }\n",
              "    90% {\n",
              "      border-color: transparent;\n",
              "      border-bottom-color: var(--fill-color);\n",
              "    }\n",
              "  }\n",
              "</style>\n",
              "\n",
              "  <script>\n",
              "    async function quickchart(key) {\n",
              "      const quickchartButtonEl =\n",
              "        document.querySelector('#' + key + ' button');\n",
              "      quickchartButtonEl.disabled = true;  // To prevent multiple clicks.\n",
              "      quickchartButtonEl.classList.add('colab-df-spinner');\n",
              "      try {\n",
              "        const charts = await google.colab.kernel.invokeFunction(\n",
              "            'suggestCharts', [key], {});\n",
              "      } catch (error) {\n",
              "        console.error('Error during call to suggestCharts:', error);\n",
              "      }\n",
              "      quickchartButtonEl.classList.remove('colab-df-spinner');\n",
              "      quickchartButtonEl.classList.add('colab-df-quickchart-complete');\n",
              "    }\n",
              "    (() => {\n",
              "      let quickchartButtonEl =\n",
              "        document.querySelector('#df-f9b9eb32-d342-4531-9d22-d5c004bee351 button');\n",
              "      quickchartButtonEl.style.display =\n",
              "        google.colab.kernel.accessAllowed ? 'block' : 'none';\n",
              "    })();\n",
              "  </script>\n",
              "</div>\n",
              "    </div>\n",
              "  </div>\n"
            ],
            "application/vnd.google.colaboratory.intrinsic+json": {
              "type": "dataframe",
              "variable_name": "df",
              "summary": "{\n  \"name\": \"df\",\n  \"rows\": 5416,\n  \"fields\": [\n    {\n      \"column\": \"name\",\n      \"properties\": {\n        \"dtype\": \"category\",\n        \"num_unique_values\": 2157,\n        \"samples\": [\n          \"Riesling Ried Loibenberg Smaragd\",\n          \"Villa de Corullon\",\n          \"Hacienda Monasterio\"\n        ],\n        \"semantic_type\": \"\",\n        \"description\": \"\"\n      }\n    },\n    {\n      \"column\": \"country\",\n      \"properties\": {\n        \"dtype\": \"category\",\n        \"num_unique_values\": 20,\n        \"samples\": [\n          \"\\u042e\\u0436\\u043d\\u0430\\u044f \\u0410\\u0444\\u0440\\u0438\\u043a\\u0430\",\n          \"\\u0420\\u0435\\u0441\\u043f\\u0443\\u0431\\u043b\\u0438\\u043a\\u0430 \\u041c\\u043e\\u043b\\u0434\\u043e\\u0432\\u0430\",\n          \"\\u0421\\u043e\\u0435\\u0434\\u0438\\u043d\\u0435\\u043d\\u043d\\u044b\\u0435 \\u0428\\u0442\\u0430\\u0442\\u044b \\u0410\\u043c\\u0435\\u0440\\u0438\\u043a\\u0438\"\n        ],\n        \"semantic_type\": \"\",\n        \"description\": \"\"\n      }\n    },\n    {\n      \"column\": \"color\",\n      \"properties\": {\n        \"dtype\": \"category\",\n        \"num_unique_values\": 3,\n        \"samples\": [\n          \"\\u043a\\u0440\\u0430\\u0441\\u043d\\u043e\\u0435\",\n          \"\\u0431\\u0435\\u043b\\u043e\\u0435\",\n          \"\\u0440\\u043e\\u0437\\u043e\\u0432\\u043e\\u0435\"\n        ],\n        \"semantic_type\": \"\",\n        \"description\": \"\"\n      }\n    },\n    {\n      \"column\": \"sugar\",\n      \"properties\": {\n        \"dtype\": \"category\",\n        \"num_unique_values\": 4,\n        \"samples\": [\n          \"\\u043f\\u043e\\u043b\\u0443\\u0441\\u0443\\u0445\\u043e\\u0435\",\n          \"\\u0441\\u043b\\u0430\\u0434\\u043a\\u043e\\u0435\",\n          \"\\u0441\\u0443\\u0445\\u043e\\u0435\"\n        ],\n        \"semantic_type\": \"\",\n        \"description\": \"\"\n      }\n    },\n    {\n      \"column\": \"volume\",\n      \"properties\": {\n        \"dtype\": \"number\",\n        \"std\": 0.2562885599287769,\n        \"min\": 0.187,\n        \"max\": 3.0,\n        \"num_unique_values\": 6,\n        \"samples\": [\n          0.75,\n          0.375,\n          3.0\n        ],\n        \"semantic_type\": \"\",\n        \"description\": \"\"\n      }\n    },\n    {\n      \"column\": \"manufacturer\",\n      \"properties\": {\n        \"dtype\": \"category\",\n        \"num_unique_values\": 517,\n        \"samples\": [\n          \"Chateau Haut-Batailley\",\n          \"La Pizzuta del Principe\",\n          \"Domaine Clos de Tart\"\n        ],\n        \"semantic_type\": \"\",\n        \"description\": \"\"\n      }\n    },\n    {\n      \"column\": \"region\",\n      \"properties\": {\n        \"dtype\": \"category\",\n        \"num_unique_values\": 4,\n        \"samples\": [\n          \"Europe\",\n          \"Oceania\",\n          \"Africa\"\n        ],\n        \"semantic_type\": \"\",\n        \"description\": \"\"\n      }\n    },\n    {\n      \"column\": \"grape\",\n      \"properties\": {\n        \"dtype\": \"category\",\n        \"num_unique_values\": 930,\n        \"samples\": [\n          \"\\u043a\\u0430\\u0431\\u0435\\u0440\\u043d\\u0435 \\u0441\\u043e\\u0432\\u0438\\u043d\\u044c\\u043e\\u043d 61%, \\u043c\\u0435\\u0440\\u043b\\u043e 29%, \\u043a\\u0430\\u0431\\u0435\\u0440\\u043d\\u0435 \\u0444\\u0440\\u0430\\u043d 10%\",\n          \"\\u0440\\u0438\\u0441\\u043b\\u0438\\u043d\\u0433, \\u043c\\u0430\\u043b\\u044c\\u0432\\u0430\\u0437\\u0438\\u044f, \\u043f\\u0438\\u043d\\u043e \\u0431\\u043b\\u0430\\u043d, \\u0430\\u043b\\u0438\\u0433\\u043e\\u0442\\u0435\",\n          \"\\u043f\\u0440\\u0438\\u043c\\u0438\\u0442\\u0438\\u0432\\u043e 100%\"\n        ],\n        \"semantic_type\": \"\",\n        \"description\": \"\"\n      }\n    },\n    {\n      \"column\": \"year\",\n      \"properties\": {\n        \"dtype\": \"number\",\n        \"std\": 4,\n        \"min\": 1981,\n        \"max\": 2023,\n        \"num_unique_values\": 36,\n        \"samples\": [\n          1997,\n          2012,\n          2000\n        ],\n        \"semantic_type\": \"\",\n        \"description\": \"\"\n      }\n    },\n    {\n      \"column\": \"price\",\n      \"properties\": {\n        \"dtype\": \"number\",\n        \"std\": 30934,\n        \"min\": 490,\n        \"max\": 249990,\n        \"num_unique_values\": 293,\n        \"samples\": [\n          17490,\n          66490,\n          1490\n        ],\n        \"semantic_type\": \"\",\n        \"description\": \"\"\n      }\n    },\n    {\n      \"column\": \"period of time\",\n      \"properties\": {\n        \"dtype\": \"category\",\n        \"num_unique_values\": 4,\n        \"samples\": [\n          \"2010 - 2019\",\n          \"1980 - 1999\",\n          \"2020 - 2023\"\n        ],\n        \"semantic_type\": \"\",\n        \"description\": \"\"\n      }\n    },\n    {\n      \"column\": \"costliness\",\n      \"properties\": {\n        \"dtype\": \"category\",\n        \"num_unique_values\": 4,\n        \"samples\": [\n          \"below average\",\n          \"expensive\",\n          \"cheap\"\n        ],\n        \"semantic_type\": \"\",\n        \"description\": \"\"\n      }\n    }\n  ]\n}"
            }
          },
          "metadata": {},
          "execution_count": 47
        }
      ]
    },
    {
      "cell_type": "markdown",
      "source": [],
      "metadata": {
        "id": "blzsmbMfdrsi"
      }
    },
    {
      "cell_type": "code",
      "source": [
        "plt.hist(df['costliness'], bins=10, color='blue', alpha=0.7)\n",
        "plt.xlabel('costliness')\n",
        "plt.ylabel('Частота')\n",
        "plt.title('Столбчатая диаграмма распределения вина по категории стоимости')\n",
        "plt.show()"
      ],
      "metadata": {
        "id": "wx6SevIOdsVu",
        "colab": {
          "base_uri": "https://localhost:8080/",
          "height": 472
        },
        "outputId": "0bcec4b6-0456-4206-b5d5-6bf7f5f8e0be"
      },
      "execution_count": 48,
      "outputs": [
        {
          "output_type": "display_data",
          "data": {
            "text/plain": [
              "<Figure size 640x480 with 1 Axes>"
            ],
            "image/png": "[encoded data removed]"
          },
          "metadata": {}
        }
      ]
    },
    {
      "cell_type": "markdown",
      "source": [
        " ##  Шаг 6. Гипотезы"
      ],
      "metadata": {
        "id": "G3SlfUE2Pk5z"
      }
    },
    {
      "cell_type": "markdown",
      "source": [
        "### Гипотеза 1: Объем бутылки вина положительно коррелирует с ценой\n"
      ],
      "metadata": {
        "id": "hTihQEXgkp83"
      }
    },
    {
      "cell_type": "markdown",
      "source": [
        "Для проверки этой гипотезы раасчитаем коэфициент линейной корреляции Пирсона."
      ],
      "metadata": {
        "id": "gTJ9tBGuedN7"
      }
    },
    {
      "cell_type": "code",
      "source": [
        "df['price'].corr(df['volume'])"
      ],
      "metadata": {
        "id": "tQsEJPr4ecOr",
        "colab": {
          "base_uri": "https://localhost:8080/"
        },
        "outputId": "06a36063-1cae-402f-c5b2-6a41f788e608"
      },
      "execution_count": 82,
      "outputs": [
        {
          "output_type": "execute_result",
          "data": {
            "text/plain": [
              "0.3483829731036283"
            ]
          },
          "metadata": {},
          "execution_count": 82
        }
      ]
    },
    {
      "cell_type": "markdown",
      "source": [
        "Как мы видим коэфициент линейной корреляции Пирсона составляет 0.35, что говорит о положительной линейной взаимосвязи. Однако, учитывая модуль коэфициента, можно сказать, что связь не сильная."
      ],
      "metadata": {
        "id": "0xvj9IhffCKu"
      }
    },
    {
      "cell_type": "markdown",
      "source": [
        "### Гипотеза 2"
      ],
      "metadata": {
        "id": "kCm4E2V3QCai"
      }
    },
    {
      "cell_type": "markdown",
      "source": [
        "**H0:** Красное сухое вино будет в среднем стоить также, как другие виды вина\n",
        "\n",
        "**H1:** Красное сухое вино будет в среднем стоить дороже, чем другие виды вина"
      ],
      "metadata": {
        "id": "tytil8NvkqEU"
      }
    },
    {
      "cell_type": "code",
      "source": [
        "red_dry = df[(df['color'] == 'красное') & (df['sugar'] == 'сухое')]\n",
        "others = df[(df['color'] != 'красное') | (df['sugar'] != 'сухое')]"
      ],
      "metadata": {
        "id": "c1JF1hIof5jI"
      },
      "execution_count": 83,
      "outputs": []
    },
    {
      "cell_type": "markdown",
      "source": [
        "Для проверки гипотезы воспользуемся парным t-критерием с уровнем значимости 10%."
      ],
      "metadata": {
        "id": "XGJ1iCpHhg21"
      }
    },
    {
      "cell_type": "code",
      "source": [
        "from scipy import stats\n",
        "res = stats.ttest_ind(red_dry['price'], others['price'], alternative='greater')"
      ],
      "metadata": {
        "id": "s4aSaM0Vf5pF"
      },
      "execution_count": 84,
      "outputs": []
    },
    {
      "cell_type": "code",
      "source": [
        "res.pvalue < 0.1"
      ],
      "metadata": {
        "id": "a9nbMj5sf5wX",
        "colab": {
          "base_uri": "https://localhost:8080/"
        },
        "outputId": "ab578329-1899-4e8c-d7cc-620a7338a5de"
      },
      "execution_count": 85,
      "outputs": [
        {
          "output_type": "execute_result",
          "data": {
            "text/plain": [
              "True"
            ]
          },
          "metadata": {},
          "execution_count": 85
        }
      ]
    },
    {
      "cell_type": "markdown",
      "source": [
        "p-value < alpha, нулевая гипотеза отвергается. Различия в цене между красным сухим вином и другими винами статистически значимы (красное сухое вино дороже)."
      ],
      "metadata": {
        "id": "i1LB291Hf1uv"
      }
    },
    {
      "cell_type": "markdown",
      "source": [
        "### Гипотеза 3: Чем меньше год производства вина, тем оно будет стоить дороже"
      ],
      "metadata": {
        "id": "SiZ-eB9skqKk"
      }
    },
    {
      "cell_type": "code",
      "source": [
        "df['price'].corr(df['year'])"
      ],
      "metadata": {
        "id": "CJJkZOMTiet8",
        "colab": {
          "base_uri": "https://localhost:8080/"
        },
        "outputId": "677d246b-6b3e-4647-b08c-9b6c136e5487"
      },
      "execution_count": 86,
      "outputs": [
        {
          "output_type": "execute_result",
          "data": {
            "text/plain": [
              "-0.5061783680913556"
            ]
          },
          "metadata": {},
          "execution_count": 86
        }
      ]
    },
    {
      "cell_type": "markdown",
      "source": [
        "Вычислив коэфициент линейной корреляции Пирсона, мы можем утверждать, что цена бутылки и её год производства имеют орицательную корреляцию. Это означает, что с ростом года производства цена бутылки будет снижаться"
      ],
      "metadata": {
        "id": "xVA9eUVYjkvt"
      }
    },
    {
      "cell_type": "markdown",
      "source": [
        "### Гипотеза 4"
      ],
      "metadata": {
        "id": "0U_zeqfgkUuo"
      }
    },
    {
      "cell_type": "markdown",
      "source": [
        "**H0:** Вино, произведённое во Франции, будет в среднем стоить также, как другие виды вина\n",
        "\n",
        "**H1:** Вино, произведённое во Франции, будет в среднем стоить дороже, как другие виды вина"
      ],
      "metadata": {
        "id": "L-Ys1REMRPua"
      }
    },
    {
      "cell_type": "code",
      "source": [
        "french = df[df['country'] == 'Франция']\n",
        "not_french = df[df['country'] != 'Франция']"
      ],
      "metadata": {
        "id": "tRwkrQstie1S"
      },
      "execution_count": 87,
      "outputs": []
    },
    {
      "cell_type": "markdown",
      "source": [
        "Для проверки гипотезы воспользуемся парным t-критерием с уровнем значимости 10%."
      ],
      "metadata": {
        "id": "yBI-zavSRmYh"
      }
    },
    {
      "cell_type": "code",
      "source": [
        "from scipy import stats\n",
        "res = stats.ttest_ind(french['price'], not_french['price'], alternative='greater')"
      ],
      "metadata": {
        "id": "Wg9vDhSSRmYs"
      },
      "execution_count": 88,
      "outputs": []
    },
    {
      "cell_type": "code",
      "source": [
        "res.pvalue < 0.1"
      ],
      "metadata": {
        "colab": {
          "base_uri": "https://localhost:8080/"
        },
        "outputId": "c0b8be1d-0019-415c-81db-f47fd91e3b9a",
        "id": "EGuvACBmRmYs"
      },
      "execution_count": 89,
      "outputs": [
        {
          "output_type": "execute_result",
          "data": {
            "text/plain": [
              "True"
            ]
          },
          "metadata": {},
          "execution_count": 89
        }
      ]
    },
    {
      "cell_type": "markdown",
      "source": [
        "p-value < alpha, нулевая гипотеза отвергается. Различия в цене между французским вином и другими винами статистически значимы (французское вино дороже)."
      ],
      "metadata": {
        "id": "4pqnG_xGlUEk"
      }
    },
    {
      "cell_type": "markdown",
      "source": [
        "## Шаг 7. Машинное обучение"
      ],
      "metadata": {
        "id": "_5wtm8zlADPO"
      }
    },
    {
      "cell_type": "markdown",
      "source": [
        "### Постановка задачи и подготовка данных"
      ],
      "metadata": {
        "id": "905OrEhqJsJC"
      }
    },
    {
      "cell_type": "markdown",
      "source": [
        "Изначально нами рассматривался вариант решения задачи регрессии - предсказания цены вина на основе имеющихся характеристик, однако из числовых характеристик нам удалось собрать лишь объём и год производства (возраст вина), что, на наш взгляд, не позволит найти хорошее решение подобной задачи. Поэтому мы решили остановится на задаче многоклассовой классификации - предсказания принадлежности вина к одному из ранее выделенных 4 ценовых сегментов ('cheap', 'below average', 'above average', 'expensive'). Так как порогами для разделения на 4 класса были квартили распределения цен, то выборка является сбалансированной по классам по построению (к каждому из классов отнесено примерно 25% выборки)."
      ],
      "metadata": {
        "id": "98-F8g2ZnXNn"
      }
    },
    {
      "cell_type": "markdown",
      "source": [
        "Цель - обучить модель, относящую вино к определённому ценовому сегменту на основе признаков color, sugar, volume, region, period of time. Признак volume - количественный, остальные признаки - категориальные. Признаки region и period of time - агрегированные признаки по столбцам country и year."
      ],
      "metadata": {
        "id": "dSnKYAqdqASl"
      }
    },
    {
      "cell_type": "code",
      "source": [
        "df_ml = df[['color', 'sugar', 'volume', 'region', 'period of time', 'costliness']]\n",
        "df_ml.head()"
      ],
      "metadata": {
        "colab": {
          "base_uri": "https://localhost:8080/",
          "height": 206
        },
        "id": "gFgyzMH7nPQw",
        "outputId": "3bad6d52-2da5-42cb-b886-1262568b7ca2"
      },
      "execution_count": 49,
      "outputs": [
        {
          "output_type": "execute_result",
          "data": {
            "text/plain": [
              "     color      sugar  volume  region period of time     costliness\n",
              "0  красное      сухое    0.75  Africa    2020 - 2023          cheap\n",
              "1    белое      сухое    0.75  Europe    2020 - 2023  below average\n",
              "2  красное      сухое    0.75  Europe    2010 - 2019  below average\n",
              "3    белое      сухое    0.75  Europe    2020 - 2023          cheap\n",
              "4    белое  полусухое    0.75  Europe    2020 - 2023          cheap"
            ],
            "text/html": [
              "\n",
              "  <div id=\"df-d31ef383-8e9a-4244-b247-95219daa194d\" class=\"colab-df-container\">\n",
              "    <div>\n",
              "<style scoped>\n",
              "    .dataframe tbody tr th:only-of-type {\n",
              "        vertical-align: middle;\n",
              "    }\n",
              "\n",
              "    .dataframe tbody tr th {\n",
              "        vertical-align: top;\n",
              "    }\n",
              "\n",
              "    .dataframe thead th {\n",
              "        text-align: right;\n",
              "    }\n",
              "</style>\n",
              "<table border=\"1\" class=\"dataframe\">\n",
              "  <thead>\n",
              "    <tr style=\"text-align: right;\">\n",
              "      <th></th>\n",
              "      <th>color</th>\n",
              "      <th>sugar</th>\n",
              "      <th>volume</th>\n",
              "      <th>region</th>\n",
              "      <th>period of time</th>\n",
              "      <th>costliness</th>\n",
              "    </tr>\n",
              "  </thead>\n",
              "  <tbody>\n",
              "    <tr>\n",
              "      <th>0</th>\n",
              "      <td>красное</td>\n",
              "      <td>сухое</td>\n",
              "      <td>0.75</td>\n",
              "      <td>Africa</td>\n",
              "      <td>2020 - 2023</td>\n",
              "      <td>cheap</td>\n",
              "    </tr>\n",
              "    <tr>\n",
              "      <th>1</th>\n",
              "      <td>белое</td>\n",
              "      <td>сухое</td>\n",
              "      <td>0.75</td>\n",
              "      <td>Europe</td>\n",
              "      <td>2020 - 2023</td>\n",
              "      <td>below average</td>\n",
              "    </tr>\n",
              "    <tr>\n",
              "      <th>2</th>\n",
              "      <td>красное</td>\n",
              "      <td>сухое</td>\n",
              "      <td>0.75</td>\n",
              "      <td>Europe</td>\n",
              "      <td>2010 - 2019</td>\n",
              "      <td>below average</td>\n",
              "    </tr>\n",
              "    <tr>\n",
              "      <th>3</th>\n",
              "      <td>белое</td>\n",
              "      <td>сухое</td>\n",
              "      <td>0.75</td>\n",
              "      <td>Europe</td>\n",
              "      <td>2020 - 2023</td>\n",
              "      <td>cheap</td>\n",
              "    </tr>\n",
              "    <tr>\n",
              "      <th>4</th>\n",
              "      <td>белое</td>\n",
              "      <td>полусухое</td>\n",
              "      <td>0.75</td>\n",
              "      <td>Europe</td>\n",
              "      <td>2020 - 2023</td>\n",
              "      <td>cheap</td>\n",
              "    </tr>\n",
              "  </tbody>\n",
              "</table>\n",
              "</div>\n",
              "    <div class=\"colab-df-buttons\">\n",
              "\n",
              "  <div class=\"colab-df-container\">\n",
              "    <button class=\"colab-df-convert\" onclick=\"convertToInteractive('df-d31ef383-8e9a-4244-b247-95219daa194d')\"\n",
              "            title=\"Convert this dataframe to an interactive table.\"\n",
              "            style=\"display:none;\">\n",
              "\n",
              "  <svg xmlns=\"http://www.w3.org/2000/svg\" height=\"24px\" viewBox=\"0 -960 960 960\">\n",
              "    <path d=\"M120-120v-720h720v720H120Zm60-500h600v-160H180v160Zm220 220h160v-160H400v160Zm0 220h160v-160H400v160ZM180-400h160v-160H180v160Zm440 0h160v-160H620v160ZM180-180h160v-160H180v160Zm440 0h160v-160H620v160Z\"/>\n",
              "  </svg>\n",
              "    </button>\n",
              "\n",
              "  <style>\n",
              "    .colab-df-container {\n",
              "      display:flex;\n",
              "      gap: 12px;\n",
              "    }\n",
              "\n",
              "    .colab-df-convert {\n",
              "      background-color: #E8F0FE;\n",
              "      border: none;\n",
              "      border-radius: 50%;\n",
              "      cursor: pointer;\n",
              "      display: none;\n",
              "      fill: #1967D2;\n",
              "      height: 32px;\n",
              "      padding: 0 0 0 0;\n",
              "      width: 32px;\n",
              "    }\n",
              "\n",
              "    .colab-df-convert:hover {\n",
              "      background-color: #E2EBFA;\n",
              "      box-shadow: 0px 1px 2px rgba(60, 64, 67, 0.3), 0px 1px 3px 1px rgba(60, 64, 67, 0.15);\n",
              "      fill: #174EA6;\n",
              "    }\n",
              "\n",
              "    .colab-df-buttons div {\n",
              "      margin-bottom: 4px;\n",
              "    }\n",
              "\n",
              "    [theme=dark] .colab-df-convert {\n",
              "      background-color: #3B4455;\n",
              "      fill: #D2E3FC;\n",
              "    }\n",
              "\n",
              "    [theme=dark] .colab-df-convert:hover {\n",
              "      background-color: #434B5C;\n",
              "      box-shadow: 0px 1px 3px 1px rgba(0, 0, 0, 0.15);\n",
              "      filter: drop-shadow(0px 1px 2px rgba(0, 0, 0, 0.3));\n",
              "      fill: #FFFFFF;\n",
              "    }\n",
              "  </style>\n",
              "\n",
              "    <script>\n",
              "      const buttonEl =\n",
              "        document.querySelector('#df-d31ef383-8e9a-4244-b247-95219daa194d button.colab-df-convert');\n",
              "      buttonEl.style.display =\n",
              "        google.colab.kernel.accessAllowed ? 'block' : 'none';\n",
              "\n",
              "      async function convertToInteractive(key) {\n",
              "        const element = document.querySelector('#df-d31ef383-8e9a-4244-b247-95219daa194d');\n",
              "        const dataTable =\n",
              "          await google.colab.kernel.invokeFunction('convertToInteractive',\n",
              "                                                    [key], {});\n",
              "        if (!dataTable) return;\n",
              "\n",
              "        const docLinkHtml = 'Like what you see? Visit the ' +\n",
              "          '<a target=\"_blank\" href=https://colab.research.google.com/notebooks/data_table.ipynb>data table notebook</a>'\n",
              "          + ' to learn more about interactive tables.';\n",
              "        element.innerHTML = '';\n",
              "        dataTable['output_type'] = 'display_data';\n",
              "        await google.colab.output.renderOutput(dataTable, element);\n",
              "        const docLink = document.createElement('div');\n",
              "        docLink.innerHTML = docLinkHtml;\n",
              "        element.appendChild(docLink);\n",
              "      }\n",
              "    </script>\n",
              "  </div>\n",
              "\n",
              "\n",
              "<div id=\"df-8d080ac8-e307-42ed-8cee-b3c016034407\">\n",
              "  <button class=\"colab-df-quickchart\" onclick=\"quickchart('df-8d080ac8-e307-42ed-8cee-b3c016034407')\"\n",
              "            title=\"Suggest charts\"\n",
              "            style=\"display:none;\">\n",
              "\n",
              "<svg xmlns=\"http://www.w3.org/2000/svg\" height=\"24px\"viewBox=\"0 0 24 24\"\n",
              "     width=\"24px\">\n",
              "    <g>\n",
              "        <path d=\"M19 3H5c-1.1 0-2 .9-2 2v14c0 1.1.9 2 2 2h14c1.1 0 2-.9 2-2V5c0-1.1-.9-2-2-2zM9 17H7v-7h2v7zm4 0h-2V7h2v10zm4 0h-2v-4h2v4z\"/>\n",
              "    </g>\n",
              "</svg>\n",
              "  </button>\n",
              "\n",
              "<style>\n",
              "  .colab-df-quickchart {\n",
              "      --bg-color: #E8F0FE;\n",
              "      --fill-color: #1967D2;\n",
              "      --hover-bg-color: #E2EBFA;\n",
              "      --hover-fill-color: #174EA6;\n",
              "      --disabled-fill-color: #AAA;\n",
              "      --disabled-bg-color: #DDD;\n",
              "  }\n",
              "\n",
              "  [theme=dark] .colab-df-quickchart {\n",
              "      --bg-color: #3B4455;\n",
              "      --fill-color: #D2E3FC;\n",
              "      --hover-bg-color: #434B5C;\n",
              "      --hover-fill-color: #FFFFFF;\n",
              "      --disabled-bg-color: #3B4455;\n",
              "      --disabled-fill-color: #666;\n",
              "  }\n",
              "\n",
              "  .colab-df-quickchart {\n",
              "    background-color: var(--bg-color);\n",
              "    border: none;\n",
              "    border-radius: 50%;\n",
              "    cursor: pointer;\n",
              "    display: none;\n",
              "    fill: var(--fill-color);\n",
              "    height: 32px;\n",
              "    padding: 0;\n",
              "    width: 32px;\n",
              "  }\n",
              "\n",
              "  .colab-df-quickchart:hover {\n",
              "    background-color: var(--hover-bg-color);\n",
              "    box-shadow: 0 1px 2px rgba(60, 64, 67, 0.3), 0 1px 3px 1px rgba(60, 64, 67, 0.15);\n",
              "    fill: var(--button-hover-fill-color);\n",
              "  }\n",
              "\n",
              "  .colab-df-quickchart-complete:disabled,\n",
              "  .colab-df-quickchart-complete:disabled:hover {\n",
              "    background-color: var(--disabled-bg-color);\n",
              "    fill: var(--disabled-fill-color);\n",
              "    box-shadow: none;\n",
              "  }\n",
              "\n",
              "  .colab-df-spinner {\n",
              "    border: 2px solid var(--fill-color);\n",
              "    border-color: transparent;\n",
              "    border-bottom-color: var(--fill-color);\n",
              "    animation:\n",
              "      spin 1s steps(1) infinite;\n",
              "  }\n",
              "\n",
              "  @keyframes spin {\n",
              "    0% {\n",
              "      border-color: transparent;\n",
              "      border-bottom-color: var(--fill-color);\n",
              "      border-left-color: var(--fill-color);\n",
              "    }\n",
              "    20% {\n",
              "      border-color: transparent;\n",
              "      border-left-color: var(--fill-color);\n",
              "      border-top-color: var(--fill-color);\n",
              "    }\n",
              "    30% {\n",
              "      border-color: transparent;\n",
              "      border-left-color: var(--fill-color);\n",
              "      border-top-color: var(--fill-color);\n",
              "      border-right-color: var(--fill-color);\n",
              "    }\n",
              "    40% {\n",
              "      border-color: transparent;\n",
              "      border-right-color: var(--fill-color);\n",
              "      border-top-color: var(--fill-color);\n",
              "    }\n",
              "    60% {\n",
              "      border-color: transparent;\n",
              "      border-right-color: var(--fill-color);\n",
              "    }\n",
              "    80% {\n",
              "      border-color: transparent;\n",
              "      border-right-color: var(--fill-color);\n",
              "      border-bottom-color: var(--fill-color);\n",
              "    }\n",
              "    90% {\n",
              "      border-color: transparent;\n",
              "      border-bottom-color: var(--fill-color);\n",
              "    }\n",
              "  }\n",
              "</style>\n",
              "\n",
              "  <script>\n",
              "    async function quickchart(key) {\n",
              "      const quickchartButtonEl =\n",
              "        document.querySelector('#' + key + ' button');\n",
              "      quickchartButtonEl.disabled = true;  // To prevent multiple clicks.\n",
              "      quickchartButtonEl.classList.add('colab-df-spinner');\n",
              "      try {\n",
              "        const charts = await google.colab.kernel.invokeFunction(\n",
              "            'suggestCharts', [key], {});\n",
              "      } catch (error) {\n",
              "        console.error('Error during call to suggestCharts:', error);\n",
              "      }\n",
              "      quickchartButtonEl.classList.remove('colab-df-spinner');\n",
              "      quickchartButtonEl.classList.add('colab-df-quickchart-complete');\n",
              "    }\n",
              "    (() => {\n",
              "      let quickchartButtonEl =\n",
              "        document.querySelector('#df-8d080ac8-e307-42ed-8cee-b3c016034407 button');\n",
              "      quickchartButtonEl.style.display =\n",
              "        google.colab.kernel.accessAllowed ? 'block' : 'none';\n",
              "    })();\n",
              "  </script>\n",
              "</div>\n",
              "    </div>\n",
              "  </div>\n"
            ],
            "application/vnd.google.colaboratory.intrinsic+json": {
              "type": "dataframe",
              "variable_name": "df_ml",
              "summary": "{\n  \"name\": \"df_ml\",\n  \"rows\": 5416,\n  \"fields\": [\n    {\n      \"column\": \"color\",\n      \"properties\": {\n        \"dtype\": \"category\",\n        \"num_unique_values\": 3,\n        \"samples\": [\n          \"\\u043a\\u0440\\u0430\\u0441\\u043d\\u043e\\u0435\",\n          \"\\u0431\\u0435\\u043b\\u043e\\u0435\",\n          \"\\u0440\\u043e\\u0437\\u043e\\u0432\\u043e\\u0435\"\n        ],\n        \"semantic_type\": \"\",\n        \"description\": \"\"\n      }\n    },\n    {\n      \"column\": \"sugar\",\n      \"properties\": {\n        \"dtype\": \"category\",\n        \"num_unique_values\": 4,\n        \"samples\": [\n          \"\\u043f\\u043e\\u043b\\u0443\\u0441\\u0443\\u0445\\u043e\\u0435\",\n          \"\\u0441\\u043b\\u0430\\u0434\\u043a\\u043e\\u0435\",\n          \"\\u0441\\u0443\\u0445\\u043e\\u0435\"\n        ],\n        \"semantic_type\": \"\",\n        \"description\": \"\"\n      }\n    },\n    {\n      \"column\": \"volume\",\n      \"properties\": {\n        \"dtype\": \"number\",\n        \"std\": 0.2562885599287769,\n        \"min\": 0.187,\n        \"max\": 3.0,\n        \"num_unique_values\": 6,\n        \"samples\": [\n          0.75,\n          0.375,\n          3.0\n        ],\n        \"semantic_type\": \"\",\n        \"description\": \"\"\n      }\n    },\n    {\n      \"column\": \"region\",\n      \"properties\": {\n        \"dtype\": \"category\",\n        \"num_unique_values\": 4,\n        \"samples\": [\n          \"Europe\",\n          \"Oceania\",\n          \"Africa\"\n        ],\n        \"semantic_type\": \"\",\n        \"description\": \"\"\n      }\n    },\n    {\n      \"column\": \"period of time\",\n      \"properties\": {\n        \"dtype\": \"category\",\n        \"num_unique_values\": 4,\n        \"samples\": [\n          \"2010 - 2019\",\n          \"1980 - 1999\",\n          \"2020 - 2023\"\n        ],\n        \"semantic_type\": \"\",\n        \"description\": \"\"\n      }\n    },\n    {\n      \"column\": \"costliness\",\n      \"properties\": {\n        \"dtype\": \"category\",\n        \"num_unique_values\": 4,\n        \"samples\": [\n          \"below average\",\n          \"expensive\",\n          \"cheap\"\n        ],\n        \"semantic_type\": \"\",\n        \"description\": \"\"\n      }\n    }\n  ]\n}"
            }
          },
          "metadata": {},
          "execution_count": 49
        }
      ]
    },
    {
      "cell_type": "markdown",
      "source": [
        "Закодируем категории в категориальных переменных натуральными числами с помощью LabelEncoder. Аналогично преобразуем столбец целевой переменной."
      ],
      "metadata": {
        "id": "jM1QGzPUskM6"
      }
    },
    {
      "cell_type": "code",
      "source": [
        "from sklearn.preprocessing import LabelEncoder\n",
        "\n",
        "le = LabelEncoder()\n",
        "cat = ['color', 'sugar', 'region', 'period of time', 'costliness']\n",
        "for column in cat:\n",
        "  df_ml[column] = le.fit_transform(df_ml[column].values)\n",
        "df_ml.head()"
      ],
      "metadata": {
        "colab": {
          "base_uri": "https://localhost:8080/",
          "height": 753
        },
        "id": "YiuPVbU7seNw",
        "outputId": "bd4c46b1-2493-4990-a2ba-0e01c91fb199"
      },
      "execution_count": 50,
      "outputs": [
        {
          "output_type": "stream",
          "name": "stderr",
          "text": [
            "<ipython-input-50-0b099bd75fb6>:6: SettingWithCopyWarning: \n",
            "A value is trying to be set on a copy of a slice from a DataFrame.\n",
            "Try using .loc[row_indexer,col_indexer] = value instead\n",
            "\n",
            "See the caveats in the documentation: https://pandas.pydata.org/pandas-docs/stable/user_guide/indexing.html#returning-a-view-versus-a-copy\n",
            "  df_ml[column] = le.fit_transform(df_ml[column].values)\n",
            "<ipython-input-50-0b099bd75fb6>:6: SettingWithCopyWarning: \n",
            "A value is trying to be set on a copy of a slice from a DataFrame.\n",
            "Try using .loc[row_indexer,col_indexer] = value instead\n",
            "\n",
            "See the caveats in the documentation: https://pandas.pydata.org/pandas-docs/stable/user_guide/indexing.html#returning-a-view-versus-a-copy\n",
            "  df_ml[column] = le.fit_transform(df_ml[column].values)\n",
            "<ipython-input-50-0b099bd75fb6>:6: SettingWithCopyWarning: \n",
            "A value is trying to be set on a copy of a slice from a DataFrame.\n",
            "Try using .loc[row_indexer,col_indexer] = value instead\n",
            "\n",
            "See the caveats in the documentation: https://pandas.pydata.org/pandas-docs/stable/user_guide/indexing.html#returning-a-view-versus-a-copy\n",
            "  df_ml[column] = le.fit_transform(df_ml[column].values)\n",
            "<ipython-input-50-0b099bd75fb6>:6: SettingWithCopyWarning: \n",
            "A value is trying to be set on a copy of a slice from a DataFrame.\n",
            "Try using .loc[row_indexer,col_indexer] = value instead\n",
            "\n",
            "See the caveats in the documentation: https://pandas.pydata.org/pandas-docs/stable/user_guide/indexing.html#returning-a-view-versus-a-copy\n",
            "  df_ml[column] = le.fit_transform(df_ml[column].values)\n",
            "<ipython-input-50-0b099bd75fb6>:6: SettingWithCopyWarning: \n",
            "A value is trying to be set on a copy of a slice from a DataFrame.\n",
            "Try using .loc[row_indexer,col_indexer] = value instead\n",
            "\n",
            "See the caveats in the documentation: https://pandas.pydata.org/pandas-docs/stable/user_guide/indexing.html#returning-a-view-versus-a-copy\n",
            "  df_ml[column] = le.fit_transform(df_ml[column].values)\n"
          ]
        },
        {
          "output_type": "execute_result",
          "data": {
            "text/plain": [
              "   color  sugar  volume  region  period of time  costliness\n",
              "0      1      3    0.75       0               3           2\n",
              "1      0      3    0.75       2               3           1\n",
              "2      1      3    0.75       2               2           1\n",
              "3      0      3    0.75       2               3           2\n",
              "4      0      1    0.75       2               3           2"
            ],
            "text/html": [
              "\n",
              "  <div id=\"df-14913632-1f92-45a5-9e25-423b3594f78e\" class=\"colab-df-container\">\n",
              "    <div>\n",
              "<style scoped>\n",
              "    .dataframe tbody tr th:only-of-type {\n",
              "        vertical-align: middle;\n",
              "    }\n",
              "\n",
              "    .dataframe tbody tr th {\n",
              "        vertical-align: top;\n",
              "    }\n",
              "\n",
              "    .dataframe thead th {\n",
              "        text-align: right;\n",
              "    }\n",
              "</style>\n",
              "<table border=\"1\" class=\"dataframe\">\n",
              "  <thead>\n",
              "    <tr style=\"text-align: right;\">\n",
              "      <th></th>\n",
              "      <th>color</th>\n",
              "      <th>sugar</th>\n",
              "      <th>volume</th>\n",
              "      <th>region</th>\n",
              "      <th>period of time</th>\n",
              "      <th>costliness</th>\n",
              "    </tr>\n",
              "  </thead>\n",
              "  <tbody>\n",
              "    <tr>\n",
              "      <th>0</th>\n",
              "      <td>1</td>\n",
              "      <td>3</td>\n",
              "      <td>0.75</td>\n",
              "      <td>0</td>\n",
              "      <td>3</td>\n",
              "      <td>2</td>\n",
              "    </tr>\n",
              "    <tr>\n",
              "      <th>1</th>\n",
              "      <td>0</td>\n",
              "      <td>3</td>\n",
              "      <td>0.75</td>\n",
              "      <td>2</td>\n",
              "      <td>3</td>\n",
              "      <td>1</td>\n",
              "    </tr>\n",
              "    <tr>\n",
              "      <th>2</th>\n",
              "      <td>1</td>\n",
              "      <td>3</td>\n",
              "      <td>0.75</td>\n",
              "      <td>2</td>\n",
              "      <td>2</td>\n",
              "      <td>1</td>\n",
              "    </tr>\n",
              "    <tr>\n",
              "      <th>3</th>\n",
              "      <td>0</td>\n",
              "      <td>3</td>\n",
              "      <td>0.75</td>\n",
              "      <td>2</td>\n",
              "      <td>3</td>\n",
              "      <td>2</td>\n",
              "    </tr>\n",
              "    <tr>\n",
              "      <th>4</th>\n",
              "      <td>0</td>\n",
              "      <td>1</td>\n",
              "      <td>0.75</td>\n",
              "      <td>2</td>\n",
              "      <td>3</td>\n",
              "      <td>2</td>\n",
              "    </tr>\n",
              "  </tbody>\n",
              "</table>\n",
              "</div>\n",
              "    <div class=\"colab-df-buttons\">\n",
              "\n",
              "  <div class=\"colab-df-container\">\n",
              "    <button class=\"colab-df-convert\" onclick=\"convertToInteractive('df-14913632-1f92-45a5-9e25-423b3594f78e')\"\n",
              "            title=\"Convert this dataframe to an interactive table.\"\n",
              "            style=\"display:none;\">\n",
              "\n",
              "  <svg xmlns=\"http://www.w3.org/2000/svg\" height=\"24px\" viewBox=\"0 -960 960 960\">\n",
              "    <path d=\"M120-120v-720h720v720H120Zm60-500h600v-160H180v160Zm220 220h160v-160H400v160Zm0 220h160v-160H400v160ZM180-400h160v-160H180v160Zm440 0h160v-160H620v160ZM180-180h160v-160H180v160Zm440 0h160v-160H620v160Z\"/>\n",
              "  </svg>\n",
              "    </button>\n",
              "\n",
              "  <style>\n",
              "    .colab-df-container {\n",
              "      display:flex;\n",
              "      gap: 12px;\n",
              "    }\n",
              "\n",
              "    .colab-df-convert {\n",
              "      background-color: #E8F0FE;\n",
              "      border: none;\n",
              "      border-radius: 50%;\n",
              "      cursor: pointer;\n",
              "      display: none;\n",
              "      fill: #1967D2;\n",
              "      height: 32px;\n",
              "      padding: 0 0 0 0;\n",
              "      width: 32px;\n",
              "    }\n",
              "\n",
              "    .colab-df-convert:hover {\n",
              "      background-color: #E2EBFA;\n",
              "      box-shadow: 0px 1px 2px rgba(60, 64, 67, 0.3), 0px 1px 3px 1px rgba(60, 64, 67, 0.15);\n",
              "      fill: #174EA6;\n",
              "    }\n",
              "\n",
              "    .colab-df-buttons div {\n",
              "      margin-bottom: 4px;\n",
              "    }\n",
              "\n",
              "    [theme=dark] .colab-df-convert {\n",
              "      background-color: #3B4455;\n",
              "      fill: #D2E3FC;\n",
              "    }\n",
              "\n",
              "    [theme=dark] .colab-df-convert:hover {\n",
              "      background-color: #434B5C;\n",
              "      box-shadow: 0px 1px 3px 1px rgba(0, 0, 0, 0.15);\n",
              "      filter: drop-shadow(0px 1px 2px rgba(0, 0, 0, 0.3));\n",
              "      fill: #FFFFFF;\n",
              "    }\n",
              "  </style>\n",
              "\n",
              "    <script>\n",
              "      const buttonEl =\n",
              "        document.querySelector('#df-14913632-1f92-45a5-9e25-423b3594f78e button.colab-df-convert');\n",
              "      buttonEl.style.display =\n",
              "        google.colab.kernel.accessAllowed ? 'block' : 'none';\n",
              "\n",
              "      async function convertToInteractive(key) {\n",
              "        const element = document.querySelector('#df-14913632-1f92-45a5-9e25-423b3594f78e');\n",
              "        const dataTable =\n",
              "          await google.colab.kernel.invokeFunction('convertToInteractive',\n",
              "                                                    [key], {});\n",
              "        if (!dataTable) return;\n",
              "\n",
              "        const docLinkHtml = 'Like what you see? Visit the ' +\n",
              "          '<a target=\"_blank\" href=https://colab.research.google.com/notebooks/data_table.ipynb>data table notebook</a>'\n",
              "          + ' to learn more about interactive tables.';\n",
              "        element.innerHTML = '';\n",
              "        dataTable['output_type'] = 'display_data';\n",
              "        await google.colab.output.renderOutput(dataTable, element);\n",
              "        const docLink = document.createElement('div');\n",
              "        docLink.innerHTML = docLinkHtml;\n",
              "        element.appendChild(docLink);\n",
              "      }\n",
              "    </script>\n",
              "  </div>\n",
              "\n",
              "\n",
              "<div id=\"df-48a4c01e-6e23-4721-9725-58af737d85e0\">\n",
              "  <button class=\"colab-df-quickchart\" onclick=\"quickchart('df-48a4c01e-6e23-4721-9725-58af737d85e0')\"\n",
              "            title=\"Suggest charts\"\n",
              "            style=\"display:none;\">\n",
              "\n",
              "<svg xmlns=\"http://www.w3.org/2000/svg\" height=\"24px\"viewBox=\"0 0 24 24\"\n",
              "     width=\"24px\">\n",
              "    <g>\n",
              "        <path d=\"M19 3H5c-1.1 0-2 .9-2 2v14c0 1.1.9 2 2 2h14c1.1 0 2-.9 2-2V5c0-1.1-.9-2-2-2zM9 17H7v-7h2v7zm4 0h-2V7h2v10zm4 0h-2v-4h2v4z\"/>\n",
              "    </g>\n",
              "</svg>\n",
              "  </button>\n",
              "\n",
              "<style>\n",
              "  .colab-df-quickchart {\n",
              "      --bg-color: #E8F0FE;\n",
              "      --fill-color: #1967D2;\n",
              "      --hover-bg-color: #E2EBFA;\n",
              "      --hover-fill-color: #174EA6;\n",
              "      --disabled-fill-color: #AAA;\n",
              "      --disabled-bg-color: #DDD;\n",
              "  }\n",
              "\n",
              "  [theme=dark] .colab-df-quickchart {\n",
              "      --bg-color: #3B4455;\n",
              "      --fill-color: #D2E3FC;\n",
              "      --hover-bg-color: #434B5C;\n",
              "      --hover-fill-color: #FFFFFF;\n",
              "      --disabled-bg-color: #3B4455;\n",
              "      --disabled-fill-color: #666;\n",
              "  }\n",
              "\n",
              "  .colab-df-quickchart {\n",
              "    background-color: var(--bg-color);\n",
              "    border: none;\n",
              "    border-radius: 50%;\n",
              "    cursor: pointer;\n",
              "    display: none;\n",
              "    fill: var(--fill-color);\n",
              "    height: 32px;\n",
              "    padding: 0;\n",
              "    width: 32px;\n",
              "  }\n",
              "\n",
              "  .colab-df-quickchart:hover {\n",
              "    background-color: var(--hover-bg-color);\n",
              "    box-shadow: 0 1px 2px rgba(60, 64, 67, 0.3), 0 1px 3px 1px rgba(60, 64, 67, 0.15);\n",
              "    fill: var(--button-hover-fill-color);\n",
              "  }\n",
              "\n",
              "  .colab-df-quickchart-complete:disabled,\n",
              "  .colab-df-quickchart-complete:disabled:hover {\n",
              "    background-color: var(--disabled-bg-color);\n",
              "    fill: var(--disabled-fill-color);\n",
              "    box-shadow: none;\n",
              "  }\n",
              "\n",
              "  .colab-df-spinner {\n",
              "    border: 2px solid var(--fill-color);\n",
              "    border-color: transparent;\n",
              "    border-bottom-color: var(--fill-color);\n",
              "    animation:\n",
              "      spin 1s steps(1) infinite;\n",
              "  }\n",
              "\n",
              "  @keyframes spin {\n",
              "    0% {\n",
              "      border-color: transparent;\n",
              "      border-bottom-color: var(--fill-color);\n",
              "      border-left-color: var(--fill-color);\n",
              "    }\n",
              "    20% {\n",
              "      border-color: transparent;\n",
              "      border-left-color: var(--fill-color);\n",
              "      border-top-color: var(--fill-color);\n",
              "    }\n",
              "    30% {\n",
              "      border-color: transparent;\n",
              "      border-left-color: var(--fill-color);\n",
              "      border-top-color: var(--fill-color);\n",
              "      border-right-color: var(--fill-color);\n",
              "    }\n",
              "    40% {\n",
              "      border-color: transparent;\n",
              "      border-right-color: var(--fill-color);\n",
              "      border-top-color: var(--fill-color);\n",
              "    }\n",
              "    60% {\n",
              "      border-color: transparent;\n",
              "      border-right-color: var(--fill-color);\n",
              "    }\n",
              "    80% {\n",
              "      border-color: transparent;\n",
              "      border-right-color: var(--fill-color);\n",
              "      border-bottom-color: var(--fill-color);\n",
              "    }\n",
              "    90% {\n",
              "      border-color: transparent;\n",
              "      border-bottom-color: var(--fill-color);\n",
              "    }\n",
              "  }\n",
              "</style>\n",
              "\n",
              "  <script>\n",
              "    async function quickchart(key) {\n",
              "      const quickchartButtonEl =\n",
              "        document.querySelector('#' + key + ' button');\n",
              "      quickchartButtonEl.disabled = true;  // To prevent multiple clicks.\n",
              "      quickchartButtonEl.classList.add('colab-df-spinner');\n",
              "      try {\n",
              "        const charts = await google.colab.kernel.invokeFunction(\n",
              "            'suggestCharts', [key], {});\n",
              "      } catch (error) {\n",
              "        console.error('Error during call to suggestCharts:', error);\n",
              "      }\n",
              "      quickchartButtonEl.classList.remove('colab-df-spinner');\n",
              "      quickchartButtonEl.classList.add('colab-df-quickchart-complete');\n",
              "    }\n",
              "    (() => {\n",
              "      let quickchartButtonEl =\n",
              "        document.querySelector('#df-48a4c01e-6e23-4721-9725-58af737d85e0 button');\n",
              "      quickchartButtonEl.style.display =\n",
              "        google.colab.kernel.accessAllowed ? 'block' : 'none';\n",
              "    })();\n",
              "  </script>\n",
              "</div>\n",
              "    </div>\n",
              "  </div>\n"
            ],
            "application/vnd.google.colaboratory.intrinsic+json": {
              "type": "dataframe",
              "variable_name": "df_ml",
              "summary": "{\n  \"name\": \"df_ml\",\n  \"rows\": 5416,\n  \"fields\": [\n    {\n      \"column\": \"color\",\n      \"properties\": {\n        \"dtype\": \"number\",\n        \"std\": 0,\n        \"min\": 0,\n        \"max\": 2,\n        \"num_unique_values\": 3,\n        \"samples\": [\n          1,\n          0,\n          2\n        ],\n        \"semantic_type\": \"\",\n        \"description\": \"\"\n      }\n    },\n    {\n      \"column\": \"sugar\",\n      \"properties\": {\n        \"dtype\": \"number\",\n        \"std\": 0,\n        \"min\": 0,\n        \"max\": 3,\n        \"num_unique_values\": 4,\n        \"samples\": [\n          1,\n          2,\n          3\n        ],\n        \"semantic_type\": \"\",\n        \"description\": \"\"\n      }\n    },\n    {\n      \"column\": \"volume\",\n      \"properties\": {\n        \"dtype\": \"number\",\n        \"std\": 0.2562885599287769,\n        \"min\": 0.187,\n        \"max\": 3.0,\n        \"num_unique_values\": 6,\n        \"samples\": [\n          0.75,\n          0.375,\n          3.0\n        ],\n        \"semantic_type\": \"\",\n        \"description\": \"\"\n      }\n    },\n    {\n      \"column\": \"region\",\n      \"properties\": {\n        \"dtype\": \"number\",\n        \"std\": 0,\n        \"min\": 0,\n        \"max\": 3,\n        \"num_unique_values\": 4,\n        \"samples\": [\n          2,\n          3,\n          0\n        ],\n        \"semantic_type\": \"\",\n        \"description\": \"\"\n      }\n    },\n    {\n      \"column\": \"period of time\",\n      \"properties\": {\n        \"dtype\": \"number\",\n        \"std\": 0,\n        \"min\": 0,\n        \"max\": 3,\n        \"num_unique_values\": 4,\n        \"samples\": [\n          2,\n          0,\n          3\n        ],\n        \"semantic_type\": \"\",\n        \"description\": \"\"\n      }\n    },\n    {\n      \"column\": \"costliness\",\n      \"properties\": {\n        \"dtype\": \"number\",\n        \"std\": 1,\n        \"min\": 0,\n        \"max\": 3,\n        \"num_unique_values\": 4,\n        \"samples\": [\n          1,\n          3,\n          2\n        ],\n        \"semantic_type\": \"\",\n        \"description\": \"\"\n      }\n    }\n  ]\n}"
            }
          },
          "metadata": {},
          "execution_count": 50
        }
      ]
    },
    {
      "cell_type": "markdown",
      "source": [
        "В переменную X запишем матрицу объект-признаки, в y - значения целевой переменной."
      ],
      "metadata": {
        "id": "bQ8-kThOtjmE"
      }
    },
    {
      "cell_type": "code",
      "source": [
        "X = df_ml.drop('costliness', axis=1)\n",
        "y = df_ml.costliness.values"
      ],
      "metadata": {
        "id": "XfovDkXYtRw5"
      },
      "execution_count": 51,
      "outputs": []
    },
    {
      "cell_type": "markdown",
      "source": [
        "Разделим данные на обучающую и тренировочную выборки. Размер теста - 30%."
      ],
      "metadata": {
        "id": "EXr-CF93t5SB"
      }
    },
    {
      "cell_type": "code",
      "source": [
        "from sklearn.model_selection import train_test_split, cross_validate\n",
        "\n",
        "X_train, X_test, y_train, y_test = train_test_split(X, y, test_size=0.3, random_state=1)"
      ],
      "metadata": {
        "id": "19hIaHW6tdmC"
      },
      "execution_count": 52,
      "outputs": []
    },
    {
      "cell_type": "markdown",
      "source": [
        "### Бэггинг"
      ],
      "metadata": {
        "id": "pKvCv8nyJ3jn"
      }
    },
    {
      "cell_type": "markdown",
      "source": [
        "Для задачи многоклассовой классификации можно использовать, например, композицию деревьев принятия решений - бэггинг или случайный лес."
      ],
      "metadata": {
        "id": "9sPL14E-uGeY"
      }
    },
    {
      "cell_type": "code",
      "source": [
        "from sklearn.ensemble import BaggingClassifier, RandomForestClassifier\n",
        "from sklearn.tree import DecisionTreeClassifier\n",
        "from sklearn.metrics import accuracy_score"
      ],
      "metadata": {
        "id": "TKXex3VQuff3"
      },
      "execution_count": 53,
      "outputs": []
    },
    {
      "cell_type": "markdown",
      "source": [
        "Обучим BaggingClassifier на 100 деревьях. Для оценки качества классификации будем использовать метрикy accuracy (доля правильных ответов)."
      ],
      "metadata": {
        "id": "Xdj5Nn1Bu23J"
      }
    },
    {
      "cell_type": "code",
      "source": [
        "base_tree = DecisionTreeClassifier()\n",
        "bag = BaggingClassifier(base_tree, n_estimators=100, n_jobs=4, random_state=111)\n",
        "bag.fit(X_train, y_train)"
      ],
      "metadata": {
        "colab": {
          "base_uri": "https://localhost:8080/",
          "height": 117
        },
        "id": "q0GU9e5Wu01a",
        "outputId": "224fc2cf-15dc-4652-f254-e34eca6485ee"
      },
      "execution_count": 54,
      "outputs": [
        {
          "output_type": "execute_result",
          "data": {
            "text/plain": [
              "BaggingClassifier(estimator=DecisionTreeClassifier(), n_estimators=100,\n",
              "                  n_jobs=4, random_state=111)"
            ],
            "text/html": [
              "<style>#sk-container-id-1 {color: black;background-color: white;}#sk-container-id-1 pre{padding: 0;}#sk-container-id-1 div.sk-toggleable {background-color: white;}#sk-container-id-1 label.sk-toggleable__label {cursor: pointer;display: block;width: 100%;margin-bottom: 0;padding: 0.3em;box-sizing: border-box;text-align: center;}#sk-container-id-1 label.sk-toggleable__label-arrow:before {content: \"▸\";float: left;margin-right: 0.25em;color: #696969;}#sk-container-id-1 label.sk-toggleable__label-arrow:hover:before {color: black;}#sk-container-id-1 div.sk-estimator:hover label.sk-toggleable__label-arrow:before {color: black;}#sk-container-id-1 div.sk-toggleable__content {max-height: 0;max-width: 0;overflow: hidden;text-align: left;background-color: #f0f8ff;}#sk-container-id-1 div.sk-toggleable__content pre {margin: 0.2em;color: black;border-radius: 0.25em;background-color: #f0f8ff;}#sk-container-id-1 input.sk-toggleable__control:checked~div.sk-toggleable__content {max-height: 200px;max-width: 100%;overflow: auto;}#sk-container-id-1 input.sk-toggleable__control:checked~label.sk-toggleable__label-arrow:before {content: \"▾\";}#sk-container-id-1 div.sk-estimator input.sk-toggleable__control:checked~label.sk-toggleable__label {background-color: #d4ebff;}#sk-container-id-1 div.sk-label input.sk-toggleable__control:checked~label.sk-toggleable__label {background-color: #d4ebff;}#sk-container-id-1 input.sk-hidden--visually {border: 0;clip: rect(1px 1px 1px 1px);clip: rect(1px, 1px, 1px, 1px);height: 1px;margin: -1px;overflow: hidden;padding: 0;position: absolute;width: 1px;}#sk-container-id-1 div.sk-estimator {font-family: monospace;background-color: #f0f8ff;border: 1px dotted black;border-radius: 0.25em;box-sizing: border-box;margin-bottom: 0.5em;}#sk-container-id-1 div.sk-estimator:hover {background-color: #d4ebff;}#sk-container-id-1 div.sk-parallel-item::after {content: \"\";width: 100%;border-bottom: 1px solid gray;flex-grow: 1;}#sk-container-id-1 div.sk-label:hover label.sk-toggleable__label {background-color: #d4ebff;}#sk-container-id-1 div.sk-serial::before {content: \"\";position: absolute;border-left: 1px solid gray;box-sizing: border-box;top: 0;bottom: 0;left: 50%;z-index: 0;}#sk-container-id-1 div.sk-serial {display: flex;flex-direction: column;align-items: center;background-color: white;padding-right: 0.2em;padding-left: 0.2em;position: relative;}#sk-container-id-1 div.sk-item {position: relative;z-index: 1;}#sk-container-id-1 div.sk-parallel {display: flex;align-items: stretch;justify-content: center;background-color: white;position: relative;}#sk-container-id-1 div.sk-item::before, #sk-container-id-1 div.sk-parallel-item::before {content: \"\";position: absolute;border-left: 1px solid gray;box-sizing: border-box;top: 0;bottom: 0;left: 50%;z-index: -1;}#sk-container-id-1 div.sk-parallel-item {display: flex;flex-direction: column;z-index: 1;position: relative;background-color: white;}#sk-container-id-1 div.sk-parallel-item:first-child::after {align-self: flex-end;width: 50%;}#sk-container-id-1 div.sk-parallel-item:last-child::after {align-self: flex-start;width: 50%;}#sk-container-id-1 div.sk-parallel-item:only-child::after {width: 0;}#sk-container-id-1 div.sk-dashed-wrapped {border: 1px dashed gray;margin: 0 0.4em 0.5em 0.4em;box-sizing: border-box;padding-bottom: 0.4em;background-color: white;}#sk-container-id-1 div.sk-label label {font-family: monospace;font-weight: bold;display: inline-block;line-height: 1.2em;}#sk-container-id-1 div.sk-label-container {text-align: center;}#sk-container-id-1 div.sk-container {/* jupyter's `normalize.less` sets `[hidden] { display: none; }` but bootstrap.min.css set `[hidden] { display: none !important; }` so we also need the `!important` here to be able to override the default hidden behavior on the sphinx rendered scikit-learn.org. See: https://github.com/scikit-learn/scikit-learn/issues/21755 */display: inline-block !important;position: relative;}#sk-container-id-1 div.sk-text-repr-fallback {display: none;}</style><div id=\"sk-container-id-1\" class=\"sk-top-container\"><div class=\"sk-text-repr-fallback\"><pre>BaggingClassifier(estimator=DecisionTreeClassifier(), n_estimators=100,\n",
              "                  n_jobs=4, random_state=111)</pre><b>In a Jupyter environment, please rerun this cell to show the HTML representation or trust the notebook. <br />On GitHub, the HTML representation is unable to render, please try loading this page with nbviewer.org.</b></div><div class=\"sk-container\" hidden><div class=\"sk-item sk-dashed-wrapped\"><div class=\"sk-label-container\"><div class=\"sk-label sk-toggleable\"><input class=\"sk-toggleable__control sk-hidden--visually\" id=\"sk-estimator-id-1\" type=\"checkbox\" ><label for=\"sk-estimator-id-1\" class=\"sk-toggleable__label sk-toggleable__label-arrow\">BaggingClassifier</label><div class=\"sk-toggleable__content\"><pre>BaggingClassifier(estimator=DecisionTreeClassifier(), n_estimators=100,\n",
              "                  n_jobs=4, random_state=111)</pre></div></div></div><div class=\"sk-parallel\"><div class=\"sk-parallel-item\"><div class=\"sk-item\"><div class=\"sk-label-container\"><div class=\"sk-label sk-toggleable\"><input class=\"sk-toggleable__control sk-hidden--visually\" id=\"sk-estimator-id-2\" type=\"checkbox\" ><label for=\"sk-estimator-id-2\" class=\"sk-toggleable__label sk-toggleable__label-arrow\">estimator: DecisionTreeClassifier</label><div class=\"sk-toggleable__content\"><pre>DecisionTreeClassifier()</pre></div></div></div><div class=\"sk-serial\"><div class=\"sk-item\"><div class=\"sk-estimator sk-toggleable\"><input class=\"sk-toggleable__control sk-hidden--visually\" id=\"sk-estimator-id-3\" type=\"checkbox\" ><label for=\"sk-estimator-id-3\" class=\"sk-toggleable__label sk-toggleable__label-arrow\">DecisionTreeClassifier</label><div class=\"sk-toggleable__content\"><pre>DecisionTreeClassifier()</pre></div></div></div></div></div></div></div></div></div></div>"
            ]
          },
          "metadata": {},
          "execution_count": 54
        }
      ]
    },
    {
      "cell_type": "code",
      "source": [
        "y_pred_train = bag.predict(X_train)\n",
        "y_pred_test = bag.predict(X_test)\n",
        "print(f'Accuracy Train: {accuracy_score(y_train, y_pred_train)}')\n",
        "print(f'Accuracy Test: {accuracy_score(y_test, y_pred_test)}')"
      ],
      "metadata": {
        "colab": {
          "base_uri": "https://localhost:8080/"
        },
        "id": "SjXXag6gvlOg",
        "outputId": "e9f7eba6-fa58-4303-9f52-8ec96156f213"
      },
      "execution_count": 55,
      "outputs": [
        {
          "output_type": "stream",
          "name": "stdout",
          "text": [
            "Accuracy Train: 0.47058823529411764\n",
            "Accuracy Test: 0.4633846153846154\n"
          ]
        }
      ]
    },
    {
      "cell_type": "markdown",
      "source": [
        "Доля правильных ответов на обучающей выборке составила 47 %, на тестовой выборке - 46.3%. То есть обученная модель неверно распознает ценовой сегмент более чем на половине рассматриваемых объектов."
      ],
      "metadata": {
        "id": "uLlsZSU7vujE"
      }
    },
    {
      "cell_type": "markdown",
      "source": [
        "### Случайный лес"
      ],
      "metadata": {
        "id": "SAalkUlUJ7P-"
      }
    },
    {
      "cell_type": "markdown",
      "source": [
        "Обучим Random Forest на 100 деревьях и посмотрим, будет ли эта модель лучше по качеству. Для оценки качества модели снова используем accuracy."
      ],
      "metadata": {
        "id": "HeEZc1FmJLsr"
      }
    },
    {
      "cell_type": "markdown",
      "source": [
        "С помощью кросс-валидации на обучающей выбрке подберем оптимальные значения гиперпараметров max_depth (максимальная глубина дерева) и min_samples_split (минимальное число объектов в вершине для разбиения). Для этого зададим значения для перебора, и для каждой пары таких значений проведем кросс-валидацию на обучающей выборке (количество разбиений обучающей выборке установим равным 10). В качестве критерия оценки качества пары гиперпараметров будем использовать f1_macro - среднее значение f-мер, рассчитанных для каждого из четырёх классов (если бы мы решали для каждого из них задачу бинарной классификации). Оптимальной будет пара гиперпараметров, максимизирующая этот критерий."
      ],
      "metadata": {
        "id": "rFdidkiSJF73"
      }
    },
    {
      "cell_type": "code",
      "source": [
        "# значения для перебора\n",
        "max_depth_s = range(1, 21)\n",
        "min_samples_split_s = range(2, 21)\n",
        "\n",
        "f1_best = 0\n",
        "for i in max_depth_s:\n",
        "  for j in min_samples_split_s:\n",
        "    rf = RandomForestClassifier(\n",
        "        n_estimators=100, max_depth=i, min_samples_split=j, random_state=333, n_jobs=4\n",
        "        )\n",
        "    scores = cross_validate(rf, X_train, y_train, cv=10, scoring='f1_macro')\n",
        "    f1_avg = np.mean(scores['test_score'])\n",
        "    if f1_avg > f1_best:\n",
        "      best = (i, j)\n",
        "      f1_best = f1_avg\n",
        "print(best, f1_best)"
      ],
      "metadata": {
        "id": "gvAVV2arxAIk",
        "colab": {
          "base_uri": "https://localhost:8080/"
        },
        "outputId": "da7f3f7b-ee96-4059-89e1-d10ea225375a"
      },
      "execution_count": 56,
      "outputs": [
        {
          "output_type": "stream",
          "name": "stdout",
          "text": [
            "(9, 2) 0.4502610976365008\n"
          ]
        }
      ]
    },
    {
      "cell_type": "markdown",
      "source": [
        "Наиучшее среднее качество дают max_depth=9, min_samples_split=2."
      ],
      "metadata": {
        "id": "c8PF0WwhUsP7"
      }
    },
    {
      "cell_type": "code",
      "source": [
        "# обучаем случайный лес с подобранными гиперпараметрами\n",
        "rf = RandomForestClassifier(\n",
        "        n_estimators=100, max_depth=9, min_samples_split=2, random_state=333, n_jobs=4\n",
        "        )\n",
        "rf.fit(X_train, y_train)"
      ],
      "metadata": {
        "colab": {
          "base_uri": "https://localhost:8080/",
          "height": 74
        },
        "id": "Iwz9Qmp8Upqh",
        "outputId": "ee6d9ec4-8f7a-429e-a01b-d4217d404aef"
      },
      "execution_count": 57,
      "outputs": [
        {
          "output_type": "execute_result",
          "data": {
            "text/plain": [
              "RandomForestClassifier(max_depth=9, n_jobs=4, random_state=333)"
            ],
            "text/html": [
              "<style>#sk-container-id-2 {color: black;background-color: white;}#sk-container-id-2 pre{padding: 0;}#sk-container-id-2 div.sk-toggleable {background-color: white;}#sk-container-id-2 label.sk-toggleable__label {cursor: pointer;display: block;width: 100%;margin-bottom: 0;padding: 0.3em;box-sizing: border-box;text-align: center;}#sk-container-id-2 label.sk-toggleable__label-arrow:before {content: \"▸\";float: left;margin-right: 0.25em;color: #696969;}#sk-container-id-2 label.sk-toggleable__label-arrow:hover:before {color: black;}#sk-container-id-2 div.sk-estimator:hover label.sk-toggleable__label-arrow:before {color: black;}#sk-container-id-2 div.sk-toggleable__content {max-height: 0;max-width: 0;overflow: hidden;text-align: left;background-color: #f0f8ff;}#sk-container-id-2 div.sk-toggleable__content pre {margin: 0.2em;color: black;border-radius: 0.25em;background-color: #f0f8ff;}#sk-container-id-2 input.sk-toggleable__control:checked~div.sk-toggleable__content {max-height: 200px;max-width: 100%;overflow: auto;}#sk-container-id-2 input.sk-toggleable__control:checked~label.sk-toggleable__label-arrow:before {content: \"▾\";}#sk-container-id-2 div.sk-estimator input.sk-toggleable__control:checked~label.sk-toggleable__label {background-color: #d4ebff;}#sk-container-id-2 div.sk-label input.sk-toggleable__control:checked~label.sk-toggleable__label {background-color: #d4ebff;}#sk-container-id-2 input.sk-hidden--visually {border: 0;clip: rect(1px 1px 1px 1px);clip: rect(1px, 1px, 1px, 1px);height: 1px;margin: -1px;overflow: hidden;padding: 0;position: absolute;width: 1px;}#sk-container-id-2 div.sk-estimator {font-family: monospace;background-color: #f0f8ff;border: 1px dotted black;border-radius: 0.25em;box-sizing: border-box;margin-bottom: 0.5em;}#sk-container-id-2 div.sk-estimator:hover {background-color: #d4ebff;}#sk-container-id-2 div.sk-parallel-item::after {content: \"\";width: 100%;border-bottom: 1px solid gray;flex-grow: 1;}#sk-container-id-2 div.sk-label:hover label.sk-toggleable__label {background-color: #d4ebff;}#sk-container-id-2 div.sk-serial::before {content: \"\";position: absolute;border-left: 1px solid gray;box-sizing: border-box;top: 0;bottom: 0;left: 50%;z-index: 0;}#sk-container-id-2 div.sk-serial {display: flex;flex-direction: column;align-items: center;background-color: white;padding-right: 0.2em;padding-left: 0.2em;position: relative;}#sk-container-id-2 div.sk-item {position: relative;z-index: 1;}#sk-container-id-2 div.sk-parallel {display: flex;align-items: stretch;justify-content: center;background-color: white;position: relative;}#sk-container-id-2 div.sk-item::before, #sk-container-id-2 div.sk-parallel-item::before {content: \"\";position: absolute;border-left: 1px solid gray;box-sizing: border-box;top: 0;bottom: 0;left: 50%;z-index: -1;}#sk-container-id-2 div.sk-parallel-item {display: flex;flex-direction: column;z-index: 1;position: relative;background-color: white;}#sk-container-id-2 div.sk-parallel-item:first-child::after {align-self: flex-end;width: 50%;}#sk-container-id-2 div.sk-parallel-item:last-child::after {align-self: flex-start;width: 50%;}#sk-container-id-2 div.sk-parallel-item:only-child::after {width: 0;}#sk-container-id-2 div.sk-dashed-wrapped {border: 1px dashed gray;margin: 0 0.4em 0.5em 0.4em;box-sizing: border-box;padding-bottom: 0.4em;background-color: white;}#sk-container-id-2 div.sk-label label {font-family: monospace;font-weight: bold;display: inline-block;line-height: 1.2em;}#sk-container-id-2 div.sk-label-container {text-align: center;}#sk-container-id-2 div.sk-container {/* jupyter's `normalize.less` sets `[hidden] { display: none; }` but bootstrap.min.css set `[hidden] { display: none !important; }` so we also need the `!important` here to be able to override the default hidden behavior on the sphinx rendered scikit-learn.org. See: https://github.com/scikit-learn/scikit-learn/issues/21755 */display: inline-block !important;position: relative;}#sk-container-id-2 div.sk-text-repr-fallback {display: none;}</style><div id=\"sk-container-id-2\" class=\"sk-top-container\"><div class=\"sk-text-repr-fallback\"><pre>RandomForestClassifier(max_depth=9, n_jobs=4, random_state=333)</pre><b>In a Jupyter environment, please rerun this cell to show the HTML representation or trust the notebook. <br />On GitHub, the HTML representation is unable to render, please try loading this page with nbviewer.org.</b></div><div class=\"sk-container\" hidden><div class=\"sk-item\"><div class=\"sk-estimator sk-toggleable\"><input class=\"sk-toggleable__control sk-hidden--visually\" id=\"sk-estimator-id-4\" type=\"checkbox\" checked><label for=\"sk-estimator-id-4\" class=\"sk-toggleable__label sk-toggleable__label-arrow\">RandomForestClassifier</label><div class=\"sk-toggleable__content\"><pre>RandomForestClassifier(max_depth=9, n_jobs=4, random_state=333)</pre></div></div></div></div></div>"
            ]
          },
          "metadata": {},
          "execution_count": 57
        }
      ]
    },
    {
      "cell_type": "code",
      "source": [
        "y_pred_train = rf.predict(X_train)\n",
        "y_pred_test = rf.predict(X_test)\n",
        "print(f'Accuracy Train: {accuracy_score(y_train, y_pred_train)}')\n",
        "print(f'Accuracy Test: {accuracy_score(y_test, y_pred_test)}')"
      ],
      "metadata": {
        "colab": {
          "base_uri": "https://localhost:8080/"
        },
        "id": "eUxYxCS-MHki",
        "outputId": "75c78682-e370-490d-c79f-941e79ba6b4d"
      },
      "execution_count": 58,
      "outputs": [
        {
          "output_type": "stream",
          "name": "stdout",
          "text": [
            "Accuracy Train: 0.47058823529411764\n",
            "Accuracy Test: 0.46153846153846156\n"
          ]
        }
      ]
    },
    {
      "cell_type": "markdown",
      "source": [
        "Доля правильных ответов на обучающей выборке составила 47 %, на тестовой выборке - 46.2%. То есть случайный лес по качеству оказался близок к бэггингу."
      ],
      "metadata": {
        "id": "u7S9iQNmMnas"
      }
    },
    {
      "cell_type": "markdown",
      "source": [
        "### KNN"
      ],
      "metadata": {
        "id": "I0lT_r7GVHdp"
      }
    },
    {
      "cell_type": "markdown",
      "source": [
        "Попробуем обучить модель kNN. Данная модель также подходит для решения задачи многоклассовой классификации - класс нового объекта определяется как наиболее часто встречающийся класс из k его ближайших соседей."
      ],
      "metadata": {
        "id": "EvstcqlUYvNJ"
      }
    },
    {
      "cell_type": "code",
      "source": [
        "from sklearn.neighbors import KNeighborsClassifier\n",
        "from sklearn.preprocessing import StandardScaler"
      ],
      "metadata": {
        "id": "t0yE-rLtYeqb"
      },
      "execution_count": 59,
      "outputs": []
    },
    {
      "cell_type": "markdown",
      "source": [
        "Чтобы расстояния между объектами вычислялись корректно (все признаки вносили одинаковый вклад), проведем масштабирование признаков, используя StandardScaler."
      ],
      "metadata": {
        "id": "5opQnh1zZBTt"
      }
    },
    {
      "cell_type": "code",
      "source": [
        "# масштабирование признаков\n",
        "sc = StandardScaler().fit(X_train)\n",
        "X_train_norm = sc.transform(X_train)\n",
        "X_train_norm = pd.DataFrame(data=X_train_norm)\n",
        "X_test_norm = sc.transform(X_test)\n",
        "X_test_norm = pd.DataFrame(data=X_test_norm)"
      ],
      "metadata": {
        "id": "Qx6YRDvyYdLY"
      },
      "execution_count": 60,
      "outputs": []
    },
    {
      "cell_type": "markdown",
      "source": [
        "Обучим модели с разными значениями гиперпараметра k. В качестве метрики качества используем Accuracy."
      ],
      "metadata": {
        "id": "fGg3I4fgZbT_"
      }
    },
    {
      "cell_type": "code",
      "source": [
        "k = np.array([3, 5, 10, 15, 25, 35, 55, 75, 101, 201, 301])  # значения для перебора\n",
        "n = len(k)\n",
        "acc_train = np.zeros(n)\n",
        "acc_test = np.zeros(n)\n",
        "\n",
        "for i in range(n):\n",
        "  # обучение класссификатора\n",
        "  clf = KNeighborsClassifier(n_neighbors=k[i], p=2, n_jobs=10)  # p=2 задает евклидово расстояние\n",
        "  clf.fit(X_train_norm, y_train)\n",
        "  # предсказание модели\n",
        "  y_pred_train = clf.predict(X_train_norm)\n",
        "  y_pred_test = clf.predict(X_test_norm)\n",
        "  # доля правильных ответов\n",
        "  acc_train[i] = accuracy_score(y_train, y_pred_train)\n",
        "  acc_test[i] = accuracy_score(y_test, y_pred_test)\n",
        "\n",
        "\n",
        "dct = {'k' : k, 'Accuracy Train': acc_train, 'Accuracy Test': acc_test}\n",
        "results_knn = pd.DataFrame(dct)\n",
        "results_knn"
      ],
      "metadata": {
        "colab": {
          "base_uri": "https://localhost:8080/",
          "height": 394
        },
        "id": "3b1wPWr6VJMO",
        "outputId": "6967879c-0489-4325-e2db-fe50d531daf0"
      },
      "execution_count": 61,
      "outputs": [
        {
          "output_type": "execute_result",
          "data": {
            "text/plain": [
              "      k  Accuracy Train  Accuracy Test\n",
              "0     3        0.422316       0.393846\n",
              "1     5        0.417304       0.399385\n",
              "2    10        0.450277       0.444923\n",
              "3    15        0.449486       0.444308\n",
              "4    25        0.444210       0.441231\n",
              "5    35        0.453179       0.454769\n",
              "6    55        0.443682       0.460923\n",
              "7    75        0.446848       0.443692\n",
              "8   101        0.422844       0.433231\n",
              "9   201        0.433659       0.451692\n",
              "10  301        0.426009       0.446769"
            ],
            "text/html": [
              "\n",
              "  <div id=\"df-ea54e801-47e4-410f-8df8-7ebb36ce2d42\" class=\"colab-df-container\">\n",
              "    <div>\n",
              "<style scoped>\n",
              "    .dataframe tbody tr th:only-of-type {\n",
              "        vertical-align: middle;\n",
              "    }\n",
              "\n",
              "    .dataframe tbody tr th {\n",
              "        vertical-align: top;\n",
              "    }\n",
              "\n",
              "    .dataframe thead th {\n",
              "        text-align: right;\n",
              "    }\n",
              "</style>\n",
              "<table border=\"1\" class=\"dataframe\">\n",
              "  <thead>\n",
              "    <tr style=\"text-align: right;\">\n",
              "      <th></th>\n",
              "      <th>k</th>\n",
              "      <th>Accuracy Train</th>\n",
              "      <th>Accuracy Test</th>\n",
              "    </tr>\n",
              "  </thead>\n",
              "  <tbody>\n",
              "    <tr>\n",
              "      <th>0</th>\n",
              "      <td>3</td>\n",
              "      <td>0.422316</td>\n",
              "      <td>0.393846</td>\n",
              "    </tr>\n",
              "    <tr>\n",
              "      <th>1</th>\n",
              "      <td>5</td>\n",
              "      <td>0.417304</td>\n",
              "      <td>0.399385</td>\n",
              "    </tr>\n",
              "    <tr>\n",
              "      <th>2</th>\n",
              "      <td>10</td>\n",
              "      <td>0.450277</td>\n",
              "      <td>0.444923</td>\n",
              "    </tr>\n",
              "    <tr>\n",
              "      <th>3</th>\n",
              "      <td>15</td>\n",
              "      <td>0.449486</td>\n",
              "      <td>0.444308</td>\n",
              "    </tr>\n",
              "    <tr>\n",
              "      <th>4</th>\n",
              "      <td>25</td>\n",
              "      <td>0.444210</td>\n",
              "      <td>0.441231</td>\n",
              "    </tr>\n",
              "    <tr>\n",
              "      <th>5</th>\n",
              "      <td>35</td>\n",
              "      <td>0.453179</td>\n",
              "      <td>0.454769</td>\n",
              "    </tr>\n",
              "    <tr>\n",
              "      <th>6</th>\n",
              "      <td>55</td>\n",
              "      <td>0.443682</td>\n",
              "      <td>0.460923</td>\n",
              "    </tr>\n",
              "    <tr>\n",
              "      <th>7</th>\n",
              "      <td>75</td>\n",
              "      <td>0.446848</td>\n",
              "      <td>0.443692</td>\n",
              "    </tr>\n",
              "    <tr>\n",
              "      <th>8</th>\n",
              "      <td>101</td>\n",
              "      <td>0.422844</td>\n",
              "      <td>0.433231</td>\n",
              "    </tr>\n",
              "    <tr>\n",
              "      <th>9</th>\n",
              "      <td>201</td>\n",
              "      <td>0.433659</td>\n",
              "      <td>0.451692</td>\n",
              "    </tr>\n",
              "    <tr>\n",
              "      <th>10</th>\n",
              "      <td>301</td>\n",
              "      <td>0.426009</td>\n",
              "      <td>0.446769</td>\n",
              "    </tr>\n",
              "  </tbody>\n",
              "</table>\n",
              "</div>\n",
              "    <div class=\"colab-df-buttons\">\n",
              "\n",
              "  <div class=\"colab-df-container\">\n",
              "    <button class=\"colab-df-convert\" onclick=\"convertToInteractive('df-ea54e801-47e4-410f-8df8-7ebb36ce2d42')\"\n",
              "            title=\"Convert this dataframe to an interactive table.\"\n",
              "            style=\"display:none;\">\n",
              "\n",
              "  <svg xmlns=\"http://www.w3.org/2000/svg\" height=\"24px\" viewBox=\"0 -960 960 960\">\n",
              "    <path d=\"M120-120v-720h720v720H120Zm60-500h600v-160H180v160Zm220 220h160v-160H400v160Zm0 220h160v-160H400v160ZM180-400h160v-160H180v160Zm440 0h160v-160H620v160ZM180-180h160v-160H180v160Zm440 0h160v-160H620v160Z\"/>\n",
              "  </svg>\n",
              "    </button>\n",
              "\n",
              "  <style>\n",
              "    .colab-df-container {\n",
              "      display:flex;\n",
              "      gap: 12px;\n",
              "    }\n",
              "\n",
              "    .colab-df-convert {\n",
              "      background-color: #E8F0FE;\n",
              "      border: none;\n",
              "      border-radius: 50%;\n",
              "      cursor: pointer;\n",
              "      display: none;\n",
              "      fill: #1967D2;\n",
              "      height: 32px;\n",
              "      padding: 0 0 0 0;\n",
              "      width: 32px;\n",
              "    }\n",
              "\n",
              "    .colab-df-convert:hover {\n",
              "      background-color: #E2EBFA;\n",
              "      box-shadow: 0px 1px 2px rgba(60, 64, 67, 0.3), 0px 1px 3px 1px rgba(60, 64, 67, 0.15);\n",
              "      fill: #174EA6;\n",
              "    }\n",
              "\n",
              "    .colab-df-buttons div {\n",
              "      margin-bottom: 4px;\n",
              "    }\n",
              "\n",
              "    [theme=dark] .colab-df-convert {\n",
              "      background-color: #3B4455;\n",
              "      fill: #D2E3FC;\n",
              "    }\n",
              "\n",
              "    [theme=dark] .colab-df-convert:hover {\n",
              "      background-color: #434B5C;\n",
              "      box-shadow: 0px 1px 3px 1px rgba(0, 0, 0, 0.15);\n",
              "      filter: drop-shadow(0px 1px 2px rgba(0, 0, 0, 0.3));\n",
              "      fill: #FFFFFF;\n",
              "    }\n",
              "  </style>\n",
              "\n",
              "    <script>\n",
              "      const buttonEl =\n",
              "        document.querySelector('#df-ea54e801-47e4-410f-8df8-7ebb36ce2d42 button.colab-df-convert');\n",
              "      buttonEl.style.display =\n",
              "        google.colab.kernel.accessAllowed ? 'block' : 'none';\n",
              "\n",
              "      async function convertToInteractive(key) {\n",
              "        const element = document.querySelector('#df-ea54e801-47e4-410f-8df8-7ebb36ce2d42');\n",
              "        const dataTable =\n",
              "          await google.colab.kernel.invokeFunction('convertToInteractive',\n",
              "                                                    [key], {});\n",
              "        if (!dataTable) return;\n",
              "\n",
              "        const docLinkHtml = 'Like what you see? Visit the ' +\n",
              "          '<a target=\"_blank\" href=https://colab.research.google.com/notebooks/data_table.ipynb>data table notebook</a>'\n",
              "          + ' to learn more about interactive tables.';\n",
              "        element.innerHTML = '';\n",
              "        dataTable['output_type'] = 'display_data';\n",
              "        await google.colab.output.renderOutput(dataTable, element);\n",
              "        const docLink = document.createElement('div');\n",
              "        docLink.innerHTML = docLinkHtml;\n",
              "        element.appendChild(docLink);\n",
              "      }\n",
              "    </script>\n",
              "  </div>\n",
              "\n",
              "\n",
              "<div id=\"df-0b4e9ca4-facd-45db-bbc9-359c11fe0893\">\n",
              "  <button class=\"colab-df-quickchart\" onclick=\"quickchart('df-0b4e9ca4-facd-45db-bbc9-359c11fe0893')\"\n",
              "            title=\"Suggest charts\"\n",
              "            style=\"display:none;\">\n",
              "\n",
              "<svg xmlns=\"http://www.w3.org/2000/svg\" height=\"24px\"viewBox=\"0 0 24 24\"\n",
              "     width=\"24px\">\n",
              "    <g>\n",
              "        <path d=\"M19 3H5c-1.1 0-2 .9-2 2v14c0 1.1.9 2 2 2h14c1.1 0 2-.9 2-2V5c0-1.1-.9-2-2-2zM9 17H7v-7h2v7zm4 0h-2V7h2v10zm4 0h-2v-4h2v4z\"/>\n",
              "    </g>\n",
              "</svg>\n",
              "  </button>\n",
              "\n",
              "<style>\n",
              "  .colab-df-quickchart {\n",
              "      --bg-color: #E8F0FE;\n",
              "      --fill-color: #1967D2;\n",
              "      --hover-bg-color: #E2EBFA;\n",
              "      --hover-fill-color: #174EA6;\n",
              "      --disabled-fill-color: #AAA;\n",
              "      --disabled-bg-color: #DDD;\n",
              "  }\n",
              "\n",
              "  [theme=dark] .colab-df-quickchart {\n",
              "      --bg-color: #3B4455;\n",
              "      --fill-color: #D2E3FC;\n",
              "      --hover-bg-color: #434B5C;\n",
              "      --hover-fill-color: #FFFFFF;\n",
              "      --disabled-bg-color: #3B4455;\n",
              "      --disabled-fill-color: #666;\n",
              "  }\n",
              "\n",
              "  .colab-df-quickchart {\n",
              "    background-color: var(--bg-color);\n",
              "    border: none;\n",
              "    border-radius: 50%;\n",
              "    cursor: pointer;\n",
              "    display: none;\n",
              "    fill: var(--fill-color);\n",
              "    height: 32px;\n",
              "    padding: 0;\n",
              "    width: 32px;\n",
              "  }\n",
              "\n",
              "  .colab-df-quickchart:hover {\n",
              "    background-color: var(--hover-bg-color);\n",
              "    box-shadow: 0 1px 2px rgba(60, 64, 67, 0.3), 0 1px 3px 1px rgba(60, 64, 67, 0.15);\n",
              "    fill: var(--button-hover-fill-color);\n",
              "  }\n",
              "\n",
              "  .colab-df-quickchart-complete:disabled,\n",
              "  .colab-df-quickchart-complete:disabled:hover {\n",
              "    background-color: var(--disabled-bg-color);\n",
              "    fill: var(--disabled-fill-color);\n",
              "    box-shadow: none;\n",
              "  }\n",
              "\n",
              "  .colab-df-spinner {\n",
              "    border: 2px solid var(--fill-color);\n",
              "    border-color: transparent;\n",
              "    border-bottom-color: var(--fill-color);\n",
              "    animation:\n",
              "      spin 1s steps(1) infinite;\n",
              "  }\n",
              "\n",
              "  @keyframes spin {\n",
              "    0% {\n",
              "      border-color: transparent;\n",
              "      border-bottom-color: var(--fill-color);\n",
              "      border-left-color: var(--fill-color);\n",
              "    }\n",
              "    20% {\n",
              "      border-color: transparent;\n",
              "      border-left-color: var(--fill-color);\n",
              "      border-top-color: var(--fill-color);\n",
              "    }\n",
              "    30% {\n",
              "      border-color: transparent;\n",
              "      border-left-color: var(--fill-color);\n",
              "      border-top-color: var(--fill-color);\n",
              "      border-right-color: var(--fill-color);\n",
              "    }\n",
              "    40% {\n",
              "      border-color: transparent;\n",
              "      border-right-color: var(--fill-color);\n",
              "      border-top-color: var(--fill-color);\n",
              "    }\n",
              "    60% {\n",
              "      border-color: transparent;\n",
              "      border-right-color: var(--fill-color);\n",
              "    }\n",
              "    80% {\n",
              "      border-color: transparent;\n",
              "      border-right-color: var(--fill-color);\n",
              "      border-bottom-color: var(--fill-color);\n",
              "    }\n",
              "    90% {\n",
              "      border-color: transparent;\n",
              "      border-bottom-color: var(--fill-color);\n",
              "    }\n",
              "  }\n",
              "</style>\n",
              "\n",
              "  <script>\n",
              "    async function quickchart(key) {\n",
              "      const quickchartButtonEl =\n",
              "        document.querySelector('#' + key + ' button');\n",
              "      quickchartButtonEl.disabled = true;  // To prevent multiple clicks.\n",
              "      quickchartButtonEl.classList.add('colab-df-spinner');\n",
              "      try {\n",
              "        const charts = await google.colab.kernel.invokeFunction(\n",
              "            'suggestCharts', [key], {});\n",
              "      } catch (error) {\n",
              "        console.error('Error during call to suggestCharts:', error);\n",
              "      }\n",
              "      quickchartButtonEl.classList.remove('colab-df-spinner');\n",
              "      quickchartButtonEl.classList.add('colab-df-quickchart-complete');\n",
              "    }\n",
              "    (() => {\n",
              "      let quickchartButtonEl =\n",
              "        document.querySelector('#df-0b4e9ca4-facd-45db-bbc9-359c11fe0893 button');\n",
              "      quickchartButtonEl.style.display =\n",
              "        google.colab.kernel.accessAllowed ? 'block' : 'none';\n",
              "    })();\n",
              "  </script>\n",
              "</div>\n",
              "    </div>\n",
              "  </div>\n"
            ],
            "application/vnd.google.colaboratory.intrinsic+json": {
              "type": "dataframe",
              "variable_name": "results_knn",
              "summary": "{\n  \"name\": \"results_knn\",\n  \"rows\": 11,\n  \"fields\": [\n    {\n      \"column\": \"k\",\n      \"properties\": {\n        \"dtype\": \"number\",\n        \"std\": 94,\n        \"min\": 3,\n        \"max\": 301,\n        \"num_unique_values\": 11,\n        \"samples\": [\n          35,\n          3,\n          201\n        ],\n        \"semantic_type\": \"\",\n        \"description\": \"\"\n      }\n    },\n    {\n      \"column\": \"Accuracy Train\",\n      \"properties\": {\n        \"dtype\": \"number\",\n        \"std\": 0.013125286103689134,\n        \"min\": 0.4173041413874967,\n        \"max\": 0.4531785808493801,\n        \"num_unique_values\": 11,\n        \"samples\": [\n          0.4531785808493801,\n          0.4223160116064363,\n          0.4336586652598259\n        ],\n        \"semantic_type\": \"\",\n        \"description\": \"\"\n      }\n    },\n    {\n      \"column\": \"Accuracy Test\",\n      \"properties\": {\n        \"dtype\": \"number\",\n        \"std\": 0.021596564984971117,\n        \"min\": 0.39384615384615385,\n        \"max\": 0.46092307692307694,\n        \"num_unique_values\": 11,\n        \"samples\": [\n          0.45476923076923076,\n          0.39384615384615385,\n          0.45169230769230767\n        ],\n        \"semantic_type\": \"\",\n        \"description\": \"\"\n      }\n    }\n  ]\n}"
            }
          },
          "metadata": {},
          "execution_count": 61
        }
      ]
    },
    {
      "cell_type": "markdown",
      "source": [
        "Среди обученных классификаторов наилучшее качество на тесте даёт модель с k=55: доля правильных ответов на тесте 46%, на обучающей выборке - 44.4%."
      ],
      "metadata": {
        "id": "vBXq01sGbQ8L"
      }
    },
    {
      "cell_type": "markdown",
      "source": [
        "### Выводы"
      ],
      "metadata": {
        "id": "Ixpw924Ibxr0"
      }
    },
    {
      "cell_type": "markdown",
      "source": [
        "Для решения задачи классификации вин по 4 ценовым сегментам были обучены модели BaggingClassifier, RandomForestClassifier и KNeighborsClassifier. Композиции решающих деревьев оказались чуть лучше, чем KNeighborsClassifier, однако все три модели получились не очень хорошими по качеству - доля правильных ответов во всех случаях как на обучающей, так и на тестовой выборке менее 50%. На данный результат могла повлиять ограниченность используемых при решении задачи признаков."
      ],
      "metadata": {
        "id": "4vqLCW43b0FZ"
      }
    }
  ]
}