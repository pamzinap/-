{
  "nbformat": 4,
  "nbformat_minor": 0,
  "metadata": {
    "colab": {
      "provenance": []
    },
    "kernelspec": {
      "name": "python3",
      "display_name": "Python 3"
    },
    "language_info": {
      "name": "python"
    }
  },
  "cells": [
    {
      "cell_type": "markdown",
      "source": [
        "# Парсинг"
      ],
      "metadata": {
        "id": "9qnKvoTbVofR"
      }
    },
    {
      "cell_type": "code",
      "execution_count": 22,
      "metadata": {
        "id": "1ZrBbK3DtEEo"
      },
      "outputs": [],
      "source": [
        "# !pip install requests"
      ]
    },
    {
      "cell_type": "markdown",
      "source": [
        "Для проекта мы хотим собрать данные о винах из каталога интернет-магазина SimpleWine."
      ],
      "metadata": {
        "id": "pMOl2qsAZO8g"
      }
    },
    {
      "cell_type": "code",
      "source": [
        "import requests\n",
        "\n",
        "# устанавливаем соединение с сайтом\n",
        "url = 'https://simplewine.ru/catalog/vino/page1/.html'\n",
        "response = requests.get(url)\n",
        "response"
      ],
      "metadata": {
        "colab": {
          "base_uri": "https://localhost:8080/"
        },
        "id": "oT_lHzl8unBp",
        "outputId": "4081f9ad-ae08-4fd0-bb0b-b131426aacd2"
      },
      "execution_count": 23,
      "outputs": [
        {
          "output_type": "execute_result",
          "data": {
            "text/plain": [
              "<Response [200]>"
            ]
          },
          "metadata": {},
          "execution_count": 23
        }
      ]
    },
    {
      "cell_type": "markdown",
      "source": [
        "Для парсинга используем библиотеку BeautifulSoup."
      ],
      "metadata": {
        "id": "OkDaXq6BZrVM"
      }
    },
    {
      "cell_type": "code",
      "source": [
        "from bs4 import BeautifulSoup\n",
        "\n",
        "# дерево исследуемой веб-страницы\n",
        "tree = BeautifulSoup(response.content, 'html.parser')"
      ],
      "metadata": {
        "id": "TK_qzJE0uyCb"
      },
      "execution_count": 24,
      "outputs": []
    },
    {
      "cell_type": "markdown",
      "source": [
        "Изучив код страницы, обнаруживаем, что информация об отдельном вине в каталоге лежит внутри тега `article`, для которого прописан класс `snippet swiper-slide`.\n",
        "\n"
      ],
      "metadata": {
        "id": "eUBIOnVLZ6yM"
      }
    },
    {
      "cell_type": "code",
      "source": [
        "# собираем информацию о всех винах с исследуемой страницы\n",
        "wines = tree.find_all('article', {'class': 'snippet swiper-slide'})"
      ],
      "metadata": {
        "id": "OlteGSwju2q3"
      },
      "execution_count": 25,
      "outputs": []
    },
    {
      "cell_type": "code",
      "source": [
        "len(wines)"
      ],
      "metadata": {
        "colab": {
          "base_uri": "https://localhost:8080/"
        },
        "id": "ns8Vs3z5I5mc",
        "outputId": "4767d58c-d933-443b-bd4c-2fb3a9887afb"
      },
      "execution_count": 26,
      "outputs": [
        {
          "output_type": "execute_result",
          "data": {
            "text/plain": [
              "32"
            ]
          },
          "metadata": {},
          "execution_count": 26
        }
      ]
    },
    {
      "cell_type": "markdown",
      "source": [
        "На одной странице каталога представлено 32 вида вина."
      ],
      "metadata": {
        "id": "KUWJ0b8-cfwl"
      }
    },
    {
      "cell_type": "markdown",
      "source": [
        "Большую часть инстересующих нас характиристик (страна производства, цвет, сладость, объём, виды винограда, производитель, регион производства) можно достать из тега `div`, для которого прописан класс `snippet-description--big`."
      ],
      "metadata": {
        "id": "9f7axagmctMA"
      }
    },
    {
      "cell_type": "code",
      "source": [
        "data = wines[0].find('div', {'class': 'snippet-description--big'}).find_all('a')\n",
        "data"
      ],
      "metadata": {
        "colab": {
          "base_uri": "https://localhost:8080/"
        },
        "id": "xkVdtvtUvCU_",
        "outputId": "4578b527-a8d7-47f2-acbe-feb478743c6b"
      },
      "execution_count": 27,
      "outputs": [
        {
          "output_type": "execute_result",
          "data": {
            "text/plain": [
              "[<a data-autotest-target=\"product-item-big-snippet-1\" data-autotest-target-id=\"product-item-snippet-1-filter-1\" href=\"/catalog/vino/filter/country-yuzhnaya_afrika/\">Южная Африка</a>,\n",
              " <a data-autotest-target=\"product-item-big-snippet-1\" data-autotest-target-id=\"product-item-snippet-1-filter-2\" href=\"/catalog/vino/filter/color-krasnoe/\">красное</a>,\n",
              " <a data-autotest-target=\"product-item-big-snippet-1\" data-autotest-target-id=\"product-item-snippet-1-filter-3\" href=\"/catalog/vino/filter/sugar_type-sukhoe/\">сухое</a>,\n",
              " <a data-autotest-target=\"product-item-big-snippet-1\" data-autotest-target-id=\"product-item-snippet-1-filter-4\" href=\"/catalog/vino/filter/volume-0_75/\">0.75 л.</a>,\n",
              " <a data-autotest-target=\"product-item-big-snippet-1\" data-autotest-target-id=\"product-item-snippet-1-filter-5\" href=\"/catalog/vino/filter/grape-shiraz/\">шираз 100%</a>,\n",
              " <a data-autotest-target=\"product-item-big-snippet-1\" data-autotest-target-id=\"product-item-snippet-1-filter-6\" href=\"/catalog/vino/filter/manufacturer-simonsig/\">Simonsig</a>,\n",
              " <a data-autotest-target=\"product-item-big-snippet-1\" data-autotest-target-id=\"product-item-snippet-1-filter-7\" href=\"/catalog/vino/filter/region-stellenbosh/\">Стелленбош</a>]"
            ]
          },
          "metadata": {},
          "execution_count": 27
        }
      ]
    },
    {
      "cell_type": "markdown",
      "source": [
        "Достанем все эти характеристики и запишем их в соответствующие переменные."
      ],
      "metadata": {
        "id": "E4L5HFyTdMwL"
      }
    },
    {
      "cell_type": "code",
      "source": [
        "country, color, sugar, volume, grape, manufacturer, region = [el.text.strip() for el in data]\n",
        "country, color, sugar, volume, grape, manufacturer, region"
      ],
      "metadata": {
        "colab": {
          "base_uri": "https://localhost:8080/"
        },
        "id": "y9qh-en6248H",
        "outputId": "46c710e8-15e5-49ee-ca69-723bd5a57993"
      },
      "execution_count": 28,
      "outputs": [
        {
          "output_type": "execute_result",
          "data": {
            "text/plain": [
              "('Южная Африка',\n",
              " 'красное',\n",
              " 'сухое',\n",
              " '0.75\\xa0л.',\n",
              " 'шираз 100%',\n",
              " 'Simonsig',\n",
              " 'Стелленбош')"
            ]
          },
          "metadata": {},
          "execution_count": 28
        }
      ]
    },
    {
      "cell_type": "markdown",
      "source": [
        "Информацию о цене можно найти внутри тега `div`, для которого прописан класс `snippet-price`. В классе `snippet-price` есть ещё один тег `div`, в котором уже непосредственно лежит информация о цене вина."
      ],
      "metadata": {
        "id": "hl1_k1m_dTpl"
      }
    },
    {
      "cell_type": "code",
      "source": [
        "price = wines[0].find('div', {'class': 'snippet-price'}).div.text.split('₽')[0].strip()\n",
        "price"
      ],
      "metadata": {
        "colab": {
          "base_uri": "https://localhost:8080/",
          "height": 36
        },
        "id": "6CRyeFAW6DdC",
        "outputId": "a2a42b02-780a-4dce-be62-40241cc16e23"
      },
      "execution_count": 29,
      "outputs": [
        {
          "output_type": "execute_result",
          "data": {
            "text/plain": [
              "'2 990'"
            ],
            "application/vnd.google.colaboratory.intrinsic+json": {
              "type": "string"
            }
          },
          "metadata": {},
          "execution_count": 29
        }
      ]
    },
    {
      "cell_type": "markdown",
      "source": [
        "Аналогично находим информацию о годе производства и названии вина на странице."
      ],
      "metadata": {
        "id": "pJW8OqWdeCRe"
      }
    },
    {
      "cell_type": "code",
      "source": [
        "year = wines[0].find('div', {'id': 'snippet-buy-block'}).get('data-product-year')\n",
        "year"
      ],
      "metadata": {
        "colab": {
          "base_uri": "https://localhost:8080/",
          "height": 36
        },
        "id": "IgK6PruB7L2J",
        "outputId": "d5df7abb-7022-46c6-bbcd-5b5a886039d3"
      },
      "execution_count": 30,
      "outputs": [
        {
          "output_type": "execute_result",
          "data": {
            "text/plain": [
              "'2020\\xa0г.'"
            ],
            "application/vnd.google.colaboratory.intrinsic+json": {
              "type": "string"
            }
          },
          "metadata": {},
          "execution_count": 30
        }
      ]
    },
    {
      "cell_type": "code",
      "source": [
        "name = wines[0].find('div',  {'id': 'snippet-buy-block'}).get('data-product-name')\n",
        "name"
      ],
      "metadata": {
        "colab": {
          "base_uri": "https://localhost:8080/",
          "height": 36
        },
        "id": "uUmDIpVjXvru",
        "outputId": "36a9bbae-af86-4066-dd42-860fe262bb50"
      },
      "execution_count": 31,
      "outputs": [
        {
          "output_type": "execute_result",
          "data": {
            "text/plain": [
              "\"Shiraz Mr Borio's\""
            ],
            "application/vnd.google.colaboratory.intrinsic+json": {
              "type": "string"
            }
          },
          "metadata": {},
          "execution_count": 31
        }
      ]
    },
    {
      "cell_type": "markdown",
      "source": [
        "Напишем функцию, собирающую информацию о винах с одной страницы каталога."
      ],
      "metadata": {
        "id": "ZCfpmbzMeLE7"
      }
    },
    {
      "cell_type": "code",
      "source": [
        "def get_page(p, output):\n",
        "  # ссылка на страницу каталога\n",
        "  url = f'https://simplewine.ru/catalog/vino/page{p}/.html'\n",
        "  response = requests.get(url)\n",
        "  # дерево с информацией о товарах\n",
        "  tree = BeautifulSoup(response.content, 'html.parser')\n",
        "  wines = tree.find_all('article', {'class': 'snippet swiper-slide'})\n",
        "\n",
        "  # сбор информации о товарах\n",
        "  for wine in wines:\n",
        "    name = wine.find('div',  {'id': 'snippet-buy-block'}).get('data-product-name')\n",
        "\n",
        "    price_info = wine.find('div', {'class': 'snippet-price'})\n",
        "    if price_info is not None:  # проверяем наличие целевой переменной\n",
        "      price = price_info.div.text.split('₽')[0].strip()\n",
        "\n",
        "      features = wine.find('div', {'class': 'snippet-description--big'}).find_all('a')\n",
        "      year_info = wine.find('div', {'id': 'snippet-buy-block'})\n",
        "      # проверяем наличие всех основных характеристик\n",
        "      if len(features) >= 7 and year_info is not None:\n",
        "        country, color, sugar, volume = [el.text.strip() for el in features[:4]]\n",
        "        manuf, region = [el.text.strip() for el in features[-2:]]\n",
        "        grape = '&'.join([el.text.strip() for el in features[4:-2]])\n",
        "        year = year_info.get('data-product-year')\n",
        "        # записываем в файл информацию о товаре\n",
        "        print(f'{name},{country},{color},{sugar},{volume},{manuf},{region},{grape},{year},{price}\\n',\n",
        "              file=output)"
      ],
      "metadata": {
        "id": "2Rb9QaZf8KNr"
      },
      "execution_count": 32,
      "outputs": []
    },
    {
      "cell_type": "markdown",
      "source": [
        "Всего в каталоге 177 страниц. Пройдемся в цикле по всем страницам каталога, записывая в файл 'data.csv' информацию о винах. Для сбора информации используем ранее написанную функцию."
      ],
      "metadata": {
        "id": "sYh6LWQtekIE"
      }
    },
    {
      "cell_type": "code",
      "source": [
        "with open('data.csv', 'w') as output:\n",
        "  print('name,country,color,sugar,volume,manufacturer,region,grape,year,price\\n',\n",
        "              file=output) # названия колонок\n",
        "  for p in range(1, 178):\n",
        "    get_page(p, output)"
      ],
      "metadata": {
        "id": "rGvp4FIg8ZY9"
      },
      "execution_count": 35,
      "outputs": []
    },
    {
      "cell_type": "markdown",
      "source": [
        "Выгрузим из полученного файла данные в таблицу."
      ],
      "metadata": {
        "id": "8ckvL0uAe1-8"
      }
    },
    {
      "cell_type": "code",
      "source": [
        "import pandas as pd\n",
        "\n",
        "df = pd.read_csv('data.csv', on_bad_lines='skip')\n",
        "print(df.shape)\n",
        "df.head()"
      ],
      "metadata": {
        "colab": {
          "base_uri": "https://localhost:8080/",
          "height": 224
        },
        "id": "EhwgyYAN-f1Y",
        "outputId": "84c83b93-86cd-494d-d531-4a7d0a9c8f90"
      },
      "execution_count": 38,
      "outputs": [
        {
          "output_type": "stream",
          "name": "stdout",
          "text": [
            "(5571, 10)\n"
          ]
        },
        {
          "output_type": "execute_result",
          "data": {
            "text/plain": [
              "                                  name       country    color      sugar  \\\n",
              "0                    Shiraz Mr Borio's  Южная Африка  красное      сухое   \n",
              "1       Gavi dei Gavi (Etichetta Nera)        Италия    белое      сухое   \n",
              "2  Красностоп Золотовский на Террасах         Россия  красное      сухое   \n",
              "3                Vermentino di Toscana        Италия    белое      сухое   \n",
              "4                            Pfefferer        Италия    белое  полусухое   \n",
              "\n",
              "    volume        manufacturer                 region               grape  \\\n",
              "0  0.75 л.            Simonsig             Стелленбош          шираз 100%   \n",
              "1  0.75 л.           La Scolca                Пьемонт        кортезе 100%   \n",
              "2  0.75 л.              Сикоры                 Кубань     красностоп 100%   \n",
              "3  0.75 л.  Fattoria del Cerro                Тоскана          верментино   \n",
              "4  0.75 л.         Colterenzio  Трентино-Альто Адидже  мускат желтый 100%   \n",
              "\n",
              "      year  price  \n",
              "0  2020 г.  2 990  \n",
              "1  2022 г.  5 990  \n",
              "2  2018 г.  5 490  \n",
              "3  2022 г.  2 490  \n",
              "4  2023 г.  2 490  "
            ],
            "text/html": [
              "\n",
              "  <div id=\"df-8fc62dff-9e72-4577-81f9-9d7bd0ffa12c\" class=\"colab-df-container\">\n",
              "    <div>\n",
              "<style scoped>\n",
              "    .dataframe tbody tr th:only-of-type {\n",
              "        vertical-align: middle;\n",
              "    }\n",
              "\n",
              "    .dataframe tbody tr th {\n",
              "        vertical-align: top;\n",
              "    }\n",
              "\n",
              "    .dataframe thead th {\n",
              "        text-align: right;\n",
              "    }\n",
              "</style>\n",
              "<table border=\"1\" class=\"dataframe\">\n",
              "  <thead>\n",
              "    <tr style=\"text-align: right;\">\n",
              "      <th></th>\n",
              "      <th>name</th>\n",
              "      <th>country</th>\n",
              "      <th>color</th>\n",
              "      <th>sugar</th>\n",
              "      <th>volume</th>\n",
              "      <th>manufacturer</th>\n",
              "      <th>region</th>\n",
              "      <th>grape</th>\n",
              "      <th>year</th>\n",
              "      <th>price</th>\n",
              "    </tr>\n",
              "  </thead>\n",
              "  <tbody>\n",
              "    <tr>\n",
              "      <th>0</th>\n",
              "      <td>Shiraz Mr Borio's</td>\n",
              "      <td>Южная Африка</td>\n",
              "      <td>красное</td>\n",
              "      <td>сухое</td>\n",
              "      <td>0.75 л.</td>\n",
              "      <td>Simonsig</td>\n",
              "      <td>Стелленбош</td>\n",
              "      <td>шираз 100%</td>\n",
              "      <td>2020 г.</td>\n",
              "      <td>2 990</td>\n",
              "    </tr>\n",
              "    <tr>\n",
              "      <th>1</th>\n",
              "      <td>Gavi dei Gavi (Etichetta Nera)</td>\n",
              "      <td>Италия</td>\n",
              "      <td>белое</td>\n",
              "      <td>сухое</td>\n",
              "      <td>0.75 л.</td>\n",
              "      <td>La Scolca</td>\n",
              "      <td>Пьемонт</td>\n",
              "      <td>кортезе 100%</td>\n",
              "      <td>2022 г.</td>\n",
              "      <td>5 990</td>\n",
              "    </tr>\n",
              "    <tr>\n",
              "      <th>2</th>\n",
              "      <td>Красностоп Золотовский на Террасах</td>\n",
              "      <td>Россия</td>\n",
              "      <td>красное</td>\n",
              "      <td>сухое</td>\n",
              "      <td>0.75 л.</td>\n",
              "      <td>Сикоры</td>\n",
              "      <td>Кубань</td>\n",
              "      <td>красностоп 100%</td>\n",
              "      <td>2018 г.</td>\n",
              "      <td>5 490</td>\n",
              "    </tr>\n",
              "    <tr>\n",
              "      <th>3</th>\n",
              "      <td>Vermentino di Toscana</td>\n",
              "      <td>Италия</td>\n",
              "      <td>белое</td>\n",
              "      <td>сухое</td>\n",
              "      <td>0.75 л.</td>\n",
              "      <td>Fattoria del Cerro</td>\n",
              "      <td>Тоскана</td>\n",
              "      <td>верментино</td>\n",
              "      <td>2022 г.</td>\n",
              "      <td>2 490</td>\n",
              "    </tr>\n",
              "    <tr>\n",
              "      <th>4</th>\n",
              "      <td>Pfefferer</td>\n",
              "      <td>Италия</td>\n",
              "      <td>белое</td>\n",
              "      <td>полусухое</td>\n",
              "      <td>0.75 л.</td>\n",
              "      <td>Colterenzio</td>\n",
              "      <td>Трентино-Альто Адидже</td>\n",
              "      <td>мускат желтый 100%</td>\n",
              "      <td>2023 г.</td>\n",
              "      <td>2 490</td>\n",
              "    </tr>\n",
              "  </tbody>\n",
              "</table>\n",
              "</div>\n",
              "    <div class=\"colab-df-buttons\">\n",
              "\n",
              "  <div class=\"colab-df-container\">\n",
              "    <button class=\"colab-df-convert\" onclick=\"convertToInteractive('df-8fc62dff-9e72-4577-81f9-9d7bd0ffa12c')\"\n",
              "            title=\"Convert this dataframe to an interactive table.\"\n",
              "            style=\"display:none;\">\n",
              "\n",
              "  <svg xmlns=\"http://www.w3.org/2000/svg\" height=\"24px\" viewBox=\"0 -960 960 960\">\n",
              "    <path d=\"M120-120v-720h720v720H120Zm60-500h600v-160H180v160Zm220 220h160v-160H400v160Zm0 220h160v-160H400v160ZM180-400h160v-160H180v160Zm440 0h160v-160H620v160ZM180-180h160v-160H180v160Zm440 0h160v-160H620v160Z\"/>\n",
              "  </svg>\n",
              "    </button>\n",
              "\n",
              "  <style>\n",
              "    .colab-df-container {\n",
              "      display:flex;\n",
              "      gap: 12px;\n",
              "    }\n",
              "\n",
              "    .colab-df-convert {\n",
              "      background-color: #E8F0FE;\n",
              "      border: none;\n",
              "      border-radius: 50%;\n",
              "      cursor: pointer;\n",
              "      display: none;\n",
              "      fill: #1967D2;\n",
              "      height: 32px;\n",
              "      padding: 0 0 0 0;\n",
              "      width: 32px;\n",
              "    }\n",
              "\n",
              "    .colab-df-convert:hover {\n",
              "      background-color: #E2EBFA;\n",
              "      box-shadow: 0px 1px 2px rgba(60, 64, 67, 0.3), 0px 1px 3px 1px rgba(60, 64, 67, 0.15);\n",
              "      fill: #174EA6;\n",
              "    }\n",
              "\n",
              "    .colab-df-buttons div {\n",
              "      margin-bottom: 4px;\n",
              "    }\n",
              "\n",
              "    [theme=dark] .colab-df-convert {\n",
              "      background-color: #3B4455;\n",
              "      fill: #D2E3FC;\n",
              "    }\n",
              "\n",
              "    [theme=dark] .colab-df-convert:hover {\n",
              "      background-color: #434B5C;\n",
              "      box-shadow: 0px 1px 3px 1px rgba(0, 0, 0, 0.15);\n",
              "      filter: drop-shadow(0px 1px 2px rgba(0, 0, 0, 0.3));\n",
              "      fill: #FFFFFF;\n",
              "    }\n",
              "  </style>\n",
              "\n",
              "    <script>\n",
              "      const buttonEl =\n",
              "        document.querySelector('#df-8fc62dff-9e72-4577-81f9-9d7bd0ffa12c button.colab-df-convert');\n",
              "      buttonEl.style.display =\n",
              "        google.colab.kernel.accessAllowed ? 'block' : 'none';\n",
              "\n",
              "      async function convertToInteractive(key) {\n",
              "        const element = document.querySelector('#df-8fc62dff-9e72-4577-81f9-9d7bd0ffa12c');\n",
              "        const dataTable =\n",
              "          await google.colab.kernel.invokeFunction('convertToInteractive',\n",
              "                                                    [key], {});\n",
              "        if (!dataTable) return;\n",
              "\n",
              "        const docLinkHtml = 'Like what you see? Visit the ' +\n",
              "          '<a target=\"_blank\" href=https://colab.research.google.com/notebooks/data_table.ipynb>data table notebook</a>'\n",
              "          + ' to learn more about interactive tables.';\n",
              "        element.innerHTML = '';\n",
              "        dataTable['output_type'] = 'display_data';\n",
              "        await google.colab.output.renderOutput(dataTable, element);\n",
              "        const docLink = document.createElement('div');\n",
              "        docLink.innerHTML = docLinkHtml;\n",
              "        element.appendChild(docLink);\n",
              "      }\n",
              "    </script>\n",
              "  </div>\n",
              "\n",
              "\n",
              "<div id=\"df-fa2ba8b3-c7a3-48d9-9cd3-b78980310e6d\">\n",
              "  <button class=\"colab-df-quickchart\" onclick=\"quickchart('df-fa2ba8b3-c7a3-48d9-9cd3-b78980310e6d')\"\n",
              "            title=\"Suggest charts\"\n",
              "            style=\"display:none;\">\n",
              "\n",
              "<svg xmlns=\"http://www.w3.org/2000/svg\" height=\"24px\"viewBox=\"0 0 24 24\"\n",
              "     width=\"24px\">\n",
              "    <g>\n",
              "        <path d=\"M19 3H5c-1.1 0-2 .9-2 2v14c0 1.1.9 2 2 2h14c1.1 0 2-.9 2-2V5c0-1.1-.9-2-2-2zM9 17H7v-7h2v7zm4 0h-2V7h2v10zm4 0h-2v-4h2v4z\"/>\n",
              "    </g>\n",
              "</svg>\n",
              "  </button>\n",
              "\n",
              "<style>\n",
              "  .colab-df-quickchart {\n",
              "      --bg-color: #E8F0FE;\n",
              "      --fill-color: #1967D2;\n",
              "      --hover-bg-color: #E2EBFA;\n",
              "      --hover-fill-color: #174EA6;\n",
              "      --disabled-fill-color: #AAA;\n",
              "      --disabled-bg-color: #DDD;\n",
              "  }\n",
              "\n",
              "  [theme=dark] .colab-df-quickchart {\n",
              "      --bg-color: #3B4455;\n",
              "      --fill-color: #D2E3FC;\n",
              "      --hover-bg-color: #434B5C;\n",
              "      --hover-fill-color: #FFFFFF;\n",
              "      --disabled-bg-color: #3B4455;\n",
              "      --disabled-fill-color: #666;\n",
              "  }\n",
              "\n",
              "  .colab-df-quickchart {\n",
              "    background-color: var(--bg-color);\n",
              "    border: none;\n",
              "    border-radius: 50%;\n",
              "    cursor: pointer;\n",
              "    display: none;\n",
              "    fill: var(--fill-color);\n",
              "    height: 32px;\n",
              "    padding: 0;\n",
              "    width: 32px;\n",
              "  }\n",
              "\n",
              "  .colab-df-quickchart:hover {\n",
              "    background-color: var(--hover-bg-color);\n",
              "    box-shadow: 0 1px 2px rgba(60, 64, 67, 0.3), 0 1px 3px 1px rgba(60, 64, 67, 0.15);\n",
              "    fill: var(--button-hover-fill-color);\n",
              "  }\n",
              "\n",
              "  .colab-df-quickchart-complete:disabled,\n",
              "  .colab-df-quickchart-complete:disabled:hover {\n",
              "    background-color: var(--disabled-bg-color);\n",
              "    fill: var(--disabled-fill-color);\n",
              "    box-shadow: none;\n",
              "  }\n",
              "\n",
              "  .colab-df-spinner {\n",
              "    border: 2px solid var(--fill-color);\n",
              "    border-color: transparent;\n",
              "    border-bottom-color: var(--fill-color);\n",
              "    animation:\n",
              "      spin 1s steps(1) infinite;\n",
              "  }\n",
              "\n",
              "  @keyframes spin {\n",
              "    0% {\n",
              "      border-color: transparent;\n",
              "      border-bottom-color: var(--fill-color);\n",
              "      border-left-color: var(--fill-color);\n",
              "    }\n",
              "    20% {\n",
              "      border-color: transparent;\n",
              "      border-left-color: var(--fill-color);\n",
              "      border-top-color: var(--fill-color);\n",
              "    }\n",
              "    30% {\n",
              "      border-color: transparent;\n",
              "      border-left-color: var(--fill-color);\n",
              "      border-top-color: var(--fill-color);\n",
              "      border-right-color: var(--fill-color);\n",
              "    }\n",
              "    40% {\n",
              "      border-color: transparent;\n",
              "      border-right-color: var(--fill-color);\n",
              "      border-top-color: var(--fill-color);\n",
              "    }\n",
              "    60% {\n",
              "      border-color: transparent;\n",
              "      border-right-color: var(--fill-color);\n",
              "    }\n",
              "    80% {\n",
              "      border-color: transparent;\n",
              "      border-right-color: var(--fill-color);\n",
              "      border-bottom-color: var(--fill-color);\n",
              "    }\n",
              "    90% {\n",
              "      border-color: transparent;\n",
              "      border-bottom-color: var(--fill-color);\n",
              "    }\n",
              "  }\n",
              "</style>\n",
              "\n",
              "  <script>\n",
              "    async function quickchart(key) {\n",
              "      const quickchartButtonEl =\n",
              "        document.querySelector('#' + key + ' button');\n",
              "      quickchartButtonEl.disabled = true;  // To prevent multiple clicks.\n",
              "      quickchartButtonEl.classList.add('colab-df-spinner');\n",
              "      try {\n",
              "        const charts = await google.colab.kernel.invokeFunction(\n",
              "            'suggestCharts', [key], {});\n",
              "      } catch (error) {\n",
              "        console.error('Error during call to suggestCharts:', error);\n",
              "      }\n",
              "      quickchartButtonEl.classList.remove('colab-df-spinner');\n",
              "      quickchartButtonEl.classList.add('colab-df-quickchart-complete');\n",
              "    }\n",
              "    (() => {\n",
              "      let quickchartButtonEl =\n",
              "        document.querySelector('#df-fa2ba8b3-c7a3-48d9-9cd3-b78980310e6d button');\n",
              "      quickchartButtonEl.style.display =\n",
              "        google.colab.kernel.accessAllowed ? 'block' : 'none';\n",
              "    })();\n",
              "  </script>\n",
              "</div>\n",
              "    </div>\n",
              "  </div>\n"
            ],
            "application/vnd.google.colaboratory.intrinsic+json": {
              "type": "dataframe",
              "variable_name": "df",
              "summary": "{\n  \"name\": \"df\",\n  \"rows\": 5571,\n  \"fields\": [\n    {\n      \"column\": \"name\",\n      \"properties\": {\n        \"dtype\": \"category\",\n        \"num_unique_values\": 2228,\n        \"samples\": [\n          \"Tenuta Regaleali Cabernet Sauvignon Vigna San Francesco\",\n          \"Hermitage Blanc\",\n          \"Chemin des Papes La Noblesse Cotes-du-Rhone\"\n        ],\n        \"semantic_type\": \"\",\n        \"description\": \"\"\n      }\n    },\n    {\n      \"column\": \"country\",\n      \"properties\": {\n        \"dtype\": \"category\",\n        \"num_unique_values\": 20,\n        \"samples\": [\n          \"\\u042e\\u0436\\u043d\\u0430\\u044f \\u0410\\u0444\\u0440\\u0438\\u043a\\u0430\",\n          \"\\u0420\\u0435\\u0441\\u043f\\u0443\\u0431\\u043b\\u0438\\u043a\\u0430 \\u041c\\u043e\\u043b\\u0434\\u043e\\u0432\\u0430\",\n          \"\\u0410\\u0440\\u043c\\u0435\\u043d\\u0438\\u044f\"\n        ],\n        \"semantic_type\": \"\",\n        \"description\": \"\"\n      }\n    },\n    {\n      \"column\": \"color\",\n      \"properties\": {\n        \"dtype\": \"category\",\n        \"num_unique_values\": 5,\n        \"samples\": [\n          \"\\u0431\\u0435\\u043b\\u043e\\u0435\",\n          \"0.75\\u00a0\\u043b.\",\n          \"\\u0440\\u043e\\u0437\\u043e\\u0432\\u043e\\u0435\"\n        ],\n        \"semantic_type\": \"\",\n        \"description\": \"\"\n      }\n    },\n    {\n      \"column\": \"sugar\",\n      \"properties\": {\n        \"dtype\": \"category\",\n        \"num_unique_values\": 8,\n        \"samples\": [\n          \"\\u043f\\u043e\\u043b\\u0443\\u0441\\u0443\\u0445\\u043e\\u0435\",\n          \"\\u0442\\u0443\\u0440\\u0438\\u0433\\u0430 \\u043d\\u0430\\u0441\\u044c\\u043e\\u043d\\u0430\\u043b\\u044c\",\n          \"\\u0441\\u0443\\u0445\\u043e\\u0435\"\n        ],\n        \"semantic_type\": \"\",\n        \"description\": \"\"\n      }\n    },\n    {\n      \"column\": \"volume\",\n      \"properties\": {\n        \"dtype\": \"category\",\n        \"num_unique_values\": 16,\n        \"samples\": [\n          \"0.75\\u00a0\\u043b.\",\n          \"0.375\\u00a0\\u043b.\",\n          \"0.187\\u00a0\\u043b.\"\n        ],\n        \"semantic_type\": \"\",\n        \"description\": \"\"\n      }\n    },\n    {\n      \"column\": \"manufacturer\",\n      \"properties\": {\n        \"dtype\": \"category\",\n        \"num_unique_values\": 527,\n        \"samples\": [\n          \"Domaine Bruno Clair\",\n          \"Domaine Anne-Francoise Gros\",\n          \"Frescobaldi\"\n        ],\n        \"semantic_type\": \"\",\n        \"description\": \"\"\n      }\n    },\n    {\n      \"column\": \"region\",\n      \"properties\": {\n        \"dtype\": \"category\",\n        \"num_unique_values\": 93,\n        \"samples\": [\n          \"\\u0421\\u0430\\u043c\\u0435\\u0433\\u0440\\u0435\\u043b\\u043e\",\n          \"\\u041c\\u0430\\u043b\\u044c\\u0431\\u043e\\u0440\\u043e\",\n          \"\\u042d\\u0441\\u0442\\u0440\\u0435\\u043c\\u0430\\u0434\\u0443\\u0440\\u0430\"\n        ],\n        \"semantic_type\": \"\",\n        \"description\": \"\"\n      }\n    },\n    {\n      \"column\": \"grape\",\n      \"properties\": {\n        \"dtype\": \"category\",\n        \"num_unique_values\": 970,\n        \"samples\": [\n          \"\\u043a\\u0430\\u0431\\u0435\\u0440\\u043d\\u0435 \\u0441\\u043e\\u0432\\u0438\\u043d\\u044c\\u043e\\u043d 75%&\\u043c\\u0435\\u0440\\u043b\\u043e 22%&\\u043a\\u0430\\u0431\\u0435\\u0440\\u043d\\u0435 \\u0444\\u0440\\u0430\\u043d 2%&\\u043f\\u0442\\u0438 \\u0432\\u0435\\u0440\\u0434\\u043e 1%\",\n          \"\\u043c\\u0435\\u0440\\u043b\\u043e 77%&\\u043a\\u0430\\u0431\\u0435\\u0440\\u043d\\u0435 \\u0444\\u0440\\u0430\\u043d 23%\",\n          \"\\u0440\\u043e\\u0441\\u0441\\u0435\\u0437\\u0435 100%\"\n        ],\n        \"semantic_type\": \"\",\n        \"description\": \"\"\n      }\n    },\n    {\n      \"column\": \"year\",\n      \"properties\": {\n        \"dtype\": \"category\",\n        \"num_unique_values\": 37,\n        \"samples\": [\n          \"2006\\u00a0\\u0433.\",\n          \"2012\\u00a0\\u0433.\",\n          \"2019\\u00a0\\u0433.\"\n        ],\n        \"semantic_type\": \"\",\n        \"description\": \"\"\n      }\n    },\n    {\n      \"column\": \"price\",\n      \"properties\": {\n        \"dtype\": \"category\",\n        \"num_unique_values\": 332,\n        \"samples\": [\n          \"10 490\",\n          \"329 990\",\n          \"6 890\"\n        ],\n        \"semantic_type\": \"\",\n        \"description\": \"\"\n      }\n    }\n  ]\n}"
            }
          },
          "metadata": {},
          "execution_count": 38
        }
      ]
    },
    {
      "cell_type": "markdown",
      "source": [
        "Всего удалось собрать информацию о 5571 виде вина."
      ],
      "metadata": {
        "id": "-yzM3zNifBgV"
      }
    }
  ]
}